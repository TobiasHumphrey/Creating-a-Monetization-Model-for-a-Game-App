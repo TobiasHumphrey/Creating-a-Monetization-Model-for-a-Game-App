{
 "cells": [
  {
   "cell_type": "markdown",
   "metadata": {},
   "source": [
    "# Creating a Monetization Model for a Game App"
   ]
  },
  {
   "cell_type": "markdown",
   "metadata": {},
   "source": [
    "In this project, we will analyze data from user activity on the \"Space Brothers\" gaming app. Our goal is to provide recommendations based on our analysis which will help the app developers as they are creating a monetization model for the app. We will also explore in what ways the various target values are affected by the way users play the game (the events they encounter and the objects they build). Finally, we will also test the statistical significance of differences between users who complete the game based on finishing the in game project and the users who complete the game based on defeating the boss.\n",
    "\n",
    "Let's get started."
   ]
  },
  {
   "cell_type": "markdown",
   "metadata": {},
   "source": [
    "## Import Libraries & Data"
   ]
  },
  {
   "cell_type": "markdown",
   "metadata": {},
   "source": [
    "First, let's import the needed libraries."
   ]
  },
  {
   "cell_type": "code",
   "execution_count": 4,
   "metadata": {},
   "outputs": [],
   "source": [
    "import warnings\n",
    "warnings.filterwarnings('ignore')\n",
    "\n",
    "import pandas as pd\n",
    "import matplotlib.pyplot as plt\n",
    "from datetime import date\n",
    "import seaborn as sns\n",
    "import numpy as np\n",
    "from scipy import stats as st"
   ]
  },
  {
   "cell_type": "markdown",
   "metadata": {},
   "source": [
    "Now, let's import the data and take a glance at it."
   ]
  },
  {
   "cell_type": "code",
   "execution_count": 5,
   "metadata": {},
   "outputs": [
    {
     "data": {
      "text/html": [
       "<div>\n",
       "<style scoped>\n",
       "    .dataframe tbody tr th:only-of-type {\n",
       "        vertical-align: middle;\n",
       "    }\n",
       "\n",
       "    .dataframe tbody tr th {\n",
       "        vertical-align: top;\n",
       "    }\n",
       "\n",
       "    .dataframe thead th {\n",
       "        text-align: right;\n",
       "    }\n",
       "</style>\n",
       "<table border=\"1\" class=\"dataframe\">\n",
       "  <thead>\n",
       "    <tr style=\"text-align: right;\">\n",
       "      <th></th>\n",
       "      <th>event_datetime</th>\n",
       "      <th>event</th>\n",
       "      <th>building_type</th>\n",
       "      <th>user_id</th>\n",
       "      <th>project_type</th>\n",
       "    </tr>\n",
       "  </thead>\n",
       "  <tbody>\n",
       "    <tr>\n",
       "      <th>0</th>\n",
       "      <td>2020-05-04 00:00:01</td>\n",
       "      <td>building</td>\n",
       "      <td>assembly_shop</td>\n",
       "      <td>55e92310-cb8e-4754-b622-597e124b03de</td>\n",
       "      <td>NaN</td>\n",
       "    </tr>\n",
       "    <tr>\n",
       "      <th>1</th>\n",
       "      <td>2020-05-04 00:00:03</td>\n",
       "      <td>building</td>\n",
       "      <td>assembly_shop</td>\n",
       "      <td>c07b1c10-f477-44dc-81dc-ec82254b1347</td>\n",
       "      <td>NaN</td>\n",
       "    </tr>\n",
       "    <tr>\n",
       "      <th>2</th>\n",
       "      <td>2020-05-04 00:00:16</td>\n",
       "      <td>building</td>\n",
       "      <td>assembly_shop</td>\n",
       "      <td>6edd42cc-e753-4ff6-a947-2107cd560710</td>\n",
       "      <td>NaN</td>\n",
       "    </tr>\n",
       "    <tr>\n",
       "      <th>3</th>\n",
       "      <td>2020-05-04 00:00:16</td>\n",
       "      <td>building</td>\n",
       "      <td>assembly_shop</td>\n",
       "      <td>92c69003-d60a-444a-827f-8cc51bf6bf4c</td>\n",
       "      <td>NaN</td>\n",
       "    </tr>\n",
       "    <tr>\n",
       "      <th>4</th>\n",
       "      <td>2020-05-04 00:00:35</td>\n",
       "      <td>building</td>\n",
       "      <td>assembly_shop</td>\n",
       "      <td>cdc6bb92-0ccb-4490-9866-ef142f09139d</td>\n",
       "      <td>NaN</td>\n",
       "    </tr>\n",
       "  </tbody>\n",
       "</table>\n",
       "</div>"
      ],
      "text/plain": [
       "        event_datetime     event  building_type  \\\n",
       "0  2020-05-04 00:00:01  building  assembly_shop   \n",
       "1  2020-05-04 00:00:03  building  assembly_shop   \n",
       "2  2020-05-04 00:00:16  building  assembly_shop   \n",
       "3  2020-05-04 00:00:16  building  assembly_shop   \n",
       "4  2020-05-04 00:00:35  building  assembly_shop   \n",
       "\n",
       "                                user_id project_type  \n",
       "0  55e92310-cb8e-4754-b622-597e124b03de          NaN  \n",
       "1  c07b1c10-f477-44dc-81dc-ec82254b1347          NaN  \n",
       "2  6edd42cc-e753-4ff6-a947-2107cd560710          NaN  \n",
       "3  92c69003-d60a-444a-827f-8cc51bf6bf4c          NaN  \n",
       "4  cdc6bb92-0ccb-4490-9866-ef142f09139d          NaN  "
      ]
     },
     "execution_count": 5,
     "metadata": {},
     "output_type": "execute_result"
    }
   ],
   "source": [
    "try:\n",
    "    events = pd.read_csv('events_us.csv')\n",
    "except:\n",
    "    events = pd.read_csv('/datasets/events_us.csv')\n",
    "events.head()"
   ]
  },
  {
   "cell_type": "markdown",
   "metadata": {},
   "source": [
    "Above, we have data representing every event encountered including date/time and user id as well as the building type and project type for each relevent event."
   ]
  },
  {
   "cell_type": "code",
   "execution_count": 6,
   "metadata": {},
   "outputs": [
    {
     "data": {
      "text/html": [
       "<div>\n",
       "<style scoped>\n",
       "    .dataframe tbody tr th:only-of-type {\n",
       "        vertical-align: middle;\n",
       "    }\n",
       "\n",
       "    .dataframe tbody tr th {\n",
       "        vertical-align: top;\n",
       "    }\n",
       "\n",
       "    .dataframe thead th {\n",
       "        text-align: right;\n",
       "    }\n",
       "</style>\n",
       "<table border=\"1\" class=\"dataframe\">\n",
       "  <thead>\n",
       "    <tr style=\"text-align: right;\">\n",
       "      <th></th>\n",
       "      <th>source</th>\n",
       "      <th>day</th>\n",
       "      <th>cost</th>\n",
       "    </tr>\n",
       "  </thead>\n",
       "  <tbody>\n",
       "    <tr>\n",
       "      <th>0</th>\n",
       "      <td>facebook_ads</td>\n",
       "      <td>2020-05-03</td>\n",
       "      <td>935.882786</td>\n",
       "    </tr>\n",
       "    <tr>\n",
       "      <th>1</th>\n",
       "      <td>facebook_ads</td>\n",
       "      <td>2020-05-04</td>\n",
       "      <td>548.354480</td>\n",
       "    </tr>\n",
       "    <tr>\n",
       "      <th>2</th>\n",
       "      <td>facebook_ads</td>\n",
       "      <td>2020-05-05</td>\n",
       "      <td>260.185754</td>\n",
       "    </tr>\n",
       "    <tr>\n",
       "      <th>3</th>\n",
       "      <td>facebook_ads</td>\n",
       "      <td>2020-05-06</td>\n",
       "      <td>177.982200</td>\n",
       "    </tr>\n",
       "    <tr>\n",
       "      <th>4</th>\n",
       "      <td>facebook_ads</td>\n",
       "      <td>2020-05-07</td>\n",
       "      <td>111.766796</td>\n",
       "    </tr>\n",
       "  </tbody>\n",
       "</table>\n",
       "</div>"
      ],
      "text/plain": [
       "         source         day        cost\n",
       "0  facebook_ads  2020-05-03  935.882786\n",
       "1  facebook_ads  2020-05-04  548.354480\n",
       "2  facebook_ads  2020-05-05  260.185754\n",
       "3  facebook_ads  2020-05-06  177.982200\n",
       "4  facebook_ads  2020-05-07  111.766796"
      ]
     },
     "execution_count": 6,
     "metadata": {},
     "output_type": "execute_result"
    }
   ],
   "source": [
    "try:\n",
    "    costs = pd.read_csv('ad_costs_us.csv')\n",
    "except:\n",
    "    costs = pd.read_csv('/datasets/ad_costs_us.csv')\n",
    "costs.head()"
   ]
  },
  {
   "cell_type": "markdown",
   "metadata": {},
   "source": [
    "Above, we have the cost for advertising the game app per source and date for all seven days."
   ]
  },
  {
   "cell_type": "code",
   "execution_count": 7,
   "metadata": {},
   "outputs": [
    {
     "data": {
      "text/html": [
       "<div>\n",
       "<style scoped>\n",
       "    .dataframe tbody tr th:only-of-type {\n",
       "        vertical-align: middle;\n",
       "    }\n",
       "\n",
       "    .dataframe tbody tr th {\n",
       "        vertical-align: top;\n",
       "    }\n",
       "\n",
       "    .dataframe thead th {\n",
       "        text-align: right;\n",
       "    }\n",
       "</style>\n",
       "<table border=\"1\" class=\"dataframe\">\n",
       "  <thead>\n",
       "    <tr style=\"text-align: right;\">\n",
       "      <th></th>\n",
       "      <th>user_id</th>\n",
       "      <th>event_date</th>\n",
       "      <th>source</th>\n",
       "    </tr>\n",
       "  </thead>\n",
       "  <tbody>\n",
       "    <tr>\n",
       "      <th>0</th>\n",
       "      <td>0001f83c-c6ac-4621-b7f0-8a28b283ac30</td>\n",
       "      <td>2020-05-06</td>\n",
       "      <td>facebook_ads</td>\n",
       "    </tr>\n",
       "    <tr>\n",
       "      <th>1</th>\n",
       "      <td>00151b4f-ba38-44a8-a650-d7cf130a0105</td>\n",
       "      <td>2020-05-06</td>\n",
       "      <td>google_play_ads</td>\n",
       "    </tr>\n",
       "    <tr>\n",
       "      <th>2</th>\n",
       "      <td>001aaea6-3d14-43f1-8ca8-7f48820f17aa</td>\n",
       "      <td>2020-05-05</td>\n",
       "      <td>youtube_channel_network</td>\n",
       "    </tr>\n",
       "    <tr>\n",
       "      <th>3</th>\n",
       "      <td>001d39dc-366c-4021-9604-6a3b9ff01e25</td>\n",
       "      <td>2020-05-05</td>\n",
       "      <td>instagram_new_adverts</td>\n",
       "    </tr>\n",
       "    <tr>\n",
       "      <th>4</th>\n",
       "      <td>002f508f-67b6-479f-814b-b05f00d4e995</td>\n",
       "      <td>2020-05-05</td>\n",
       "      <td>facebook_ads</td>\n",
       "    </tr>\n",
       "  </tbody>\n",
       "</table>\n",
       "</div>"
      ],
      "text/plain": [
       "                                user_id  event_date                   source\n",
       "0  0001f83c-c6ac-4621-b7f0-8a28b283ac30  2020-05-06             facebook_ads\n",
       "1  00151b4f-ba38-44a8-a650-d7cf130a0105  2020-05-06          google_play_ads\n",
       "2  001aaea6-3d14-43f1-8ca8-7f48820f17aa  2020-05-05  youtube_channel_network\n",
       "3  001d39dc-366c-4021-9604-6a3b9ff01e25  2020-05-05    instagram_new_adverts\n",
       "4  002f508f-67b6-479f-814b-b05f00d4e995  2020-05-05             facebook_ads"
      ]
     },
     "execution_count": 7,
     "metadata": {},
     "output_type": "execute_result"
    }
   ],
   "source": [
    "try:\n",
    "    source = pd.read_csv('user_source_us.csv')\n",
    "except:\n",
    "    source = pd.read_csv('/datasets/user_source_us.csv')\n",
    "source.head()"
   ]
  },
  {
   "cell_type": "markdown",
   "metadata": {},
   "source": [
    "The final dataset shows the event date and source for every user. The date and source are factors that may impact the target event (the \"building\" event in which users will encounter in game ads which will generate income for the app developers)."
   ]
  },
  {
   "cell_type": "markdown",
   "metadata": {},
   "source": [
    "## Data Preprocessing"
   ]
  },
  {
   "cell_type": "markdown",
   "metadata": {},
   "source": [
    "Here, we will check the data for any issues, convert datatypes, fill missing values, merge our datasets together and add other helpful columns."
   ]
  },
  {
   "cell_type": "markdown",
   "metadata": {},
   "source": [
    "### Check for Duplicates"
   ]
  },
  {
   "cell_type": "markdown",
   "metadata": {},
   "source": [
    "Let's check for duplicates on all three datasets using .duplicated()."
   ]
  },
  {
   "cell_type": "code",
   "execution_count": 8,
   "metadata": {},
   "outputs": [
    {
     "name": "stdout",
     "output_type": "stream",
     "text": [
      "Number of duplicates in \"events\" dataset: 1\n"
     ]
    }
   ],
   "source": [
    "print('Number of duplicates in \"events\" dataset:', events.duplicated().sum())"
   ]
  },
  {
   "cell_type": "code",
   "execution_count": 9,
   "metadata": {},
   "outputs": [
    {
     "name": "stdout",
     "output_type": "stream",
     "text": [
      "Number of duplicates in \"costs\" dataset: 0\n"
     ]
    }
   ],
   "source": [
    "print('Number of duplicates in \"costs\" dataset:', costs.duplicated().sum())"
   ]
  },
  {
   "cell_type": "code",
   "execution_count": 10,
   "metadata": {},
   "outputs": [
    {
     "name": "stdout",
     "output_type": "stream",
     "text": [
      "Number of duplicates in \"source\" dataset: 0\n"
     ]
    }
   ],
   "source": [
    "print('Number of duplicates in \"source\" dataset:', source.duplicated().sum())"
   ]
  },
  {
   "cell_type": "markdown",
   "metadata": {},
   "source": [
    "Let's look at the duplicate row in the \"events\" dataset."
   ]
  },
  {
   "cell_type": "code",
   "execution_count": 11,
   "metadata": {},
   "outputs": [
    {
     "data": {
      "text/html": [
       "<div>\n",
       "<style scoped>\n",
       "    .dataframe tbody tr th:only-of-type {\n",
       "        vertical-align: middle;\n",
       "    }\n",
       "\n",
       "    .dataframe tbody tr th {\n",
       "        vertical-align: top;\n",
       "    }\n",
       "\n",
       "    .dataframe thead th {\n",
       "        text-align: right;\n",
       "    }\n",
       "</style>\n",
       "<table border=\"1\" class=\"dataframe\">\n",
       "  <thead>\n",
       "    <tr style=\"text-align: right;\">\n",
       "      <th></th>\n",
       "      <th>event_datetime</th>\n",
       "      <th>event</th>\n",
       "      <th>building_type</th>\n",
       "      <th>user_id</th>\n",
       "      <th>project_type</th>\n",
       "    </tr>\n",
       "  </thead>\n",
       "  <tbody>\n",
       "    <tr>\n",
       "      <th>74891</th>\n",
       "      <td>2020-05-10 18:41:56</td>\n",
       "      <td>building</td>\n",
       "      <td>research_center</td>\n",
       "      <td>c9af55d2-b0ae-4bb4-b3d5-f32aa9ac03af</td>\n",
       "      <td>NaN</td>\n",
       "    </tr>\n",
       "  </tbody>\n",
       "</table>\n",
       "</div>"
      ],
      "text/plain": [
       "            event_datetime     event    building_type  \\\n",
       "74891  2020-05-10 18:41:56  building  research_center   \n",
       "\n",
       "                                    user_id project_type  \n",
       "74891  c9af55d2-b0ae-4bb4-b3d5-f32aa9ac03af          NaN  "
      ]
     },
     "execution_count": 11,
     "metadata": {},
     "output_type": "execute_result"
    }
   ],
   "source": [
    "events.loc[events.duplicated()]"
   ]
  },
  {
   "cell_type": "markdown",
   "metadata": {},
   "source": [
    "Could it be that this user built two research centers in one second? It's possible, but we cannot confirm this with the knowledge we currently have. We will delete this duplicate."
   ]
  },
  {
   "cell_type": "code",
   "execution_count": 12,
   "metadata": {},
   "outputs": [],
   "source": [
    "events = events.drop_duplicates()"
   ]
  },
  {
   "cell_type": "markdown",
   "metadata": {},
   "source": [
    "### Check Columns"
   ]
  },
  {
   "cell_type": "markdown",
   "metadata": {},
   "source": [
    "Let's replace any potential spaces in the column names with \"_\". This will avoid any confusion when referencing the columns by name. This will be done using str.replace()."
   ]
  },
  {
   "cell_type": "code",
   "execution_count": 13,
   "metadata": {},
   "outputs": [],
   "source": [
    "events.columns = events.columns.str.replace(\" \", \"_\")\n",
    "costs.columns = costs.columns.str.replace(\" \", \"_\")\n",
    "source.columns = source.columns.str.replace(\" \", \"_\")"
   ]
  },
  {
   "cell_type": "markdown",
   "metadata": {},
   "source": [
    "Now, let's take a look at each data set using .info() to see the results. This will also show us missing values and datatypes for all columns."
   ]
  },
  {
   "cell_type": "code",
   "execution_count": 14,
   "metadata": {},
   "outputs": [
    {
     "name": "stdout",
     "output_type": "stream",
     "text": [
      "<class 'pandas.core.frame.DataFrame'>\n",
      "Int64Index: 135639 entries, 0 to 135639\n",
      "Data columns (total 5 columns):\n",
      " #   Column          Non-Null Count   Dtype \n",
      "---  ------          --------------   ----- \n",
      " 0   event_datetime  135639 non-null  object\n",
      " 1   event           135639 non-null  object\n",
      " 2   building_type   127956 non-null  object\n",
      " 3   user_id         135639 non-null  object\n",
      " 4   project_type    1866 non-null    object\n",
      "dtypes: object(5)\n",
      "memory usage: 6.2+ MB\n"
     ]
    }
   ],
   "source": [
    "events.info()"
   ]
  },
  {
   "cell_type": "code",
   "execution_count": 15,
   "metadata": {},
   "outputs": [
    {
     "name": "stdout",
     "output_type": "stream",
     "text": [
      "<class 'pandas.core.frame.DataFrame'>\n",
      "RangeIndex: 28 entries, 0 to 27\n",
      "Data columns (total 3 columns):\n",
      " #   Column  Non-Null Count  Dtype  \n",
      "---  ------  --------------  -----  \n",
      " 0   source  28 non-null     object \n",
      " 1   day     28 non-null     object \n",
      " 2   cost    28 non-null     float64\n",
      "dtypes: float64(1), object(2)\n",
      "memory usage: 800.0+ bytes\n"
     ]
    }
   ],
   "source": [
    "costs.info()"
   ]
  },
  {
   "cell_type": "code",
   "execution_count": 16,
   "metadata": {},
   "outputs": [
    {
     "name": "stdout",
     "output_type": "stream",
     "text": [
      "<class 'pandas.core.frame.DataFrame'>\n",
      "RangeIndex: 13576 entries, 0 to 13575\n",
      "Data columns (total 3 columns):\n",
      " #   Column      Non-Null Count  Dtype \n",
      "---  ------      --------------  ----- \n",
      " 0   user_id     13576 non-null  object\n",
      " 1   event_date  13576 non-null  object\n",
      " 2   source      13576 non-null  object\n",
      "dtypes: object(3)\n",
      "memory usage: 318.3+ KB\n"
     ]
    }
   ],
   "source": [
    "source.info()"
   ]
  },
  {
   "cell_type": "markdown",
   "metadata": {},
   "source": [
    "We can see here that none of the column names have gained \"_\" to represent a hidden space. We also see that the date columns are in the \"object\" datatype. Additionally, we see missing values in two of the columns in the \"events\" dataset. Let's tackle the date columns first."
   ]
  },
  {
   "cell_type": "markdown",
   "metadata": {},
   "source": [
    "### Change data types"
   ]
  },
  {
   "cell_type": "markdown",
   "metadata": {},
   "source": [
    "Let's adjust the change the date columns to a datetime format that Python can recognize."
   ]
  },
  {
   "cell_type": "code",
   "execution_count": 17,
   "metadata": {},
   "outputs": [],
   "source": [
    "#Change datqatype datetime\n",
    "events['event_datetime'] = pd.to_datetime(events['event_datetime'], format='%Y-%m-%d %H:%M:%S')\n",
    "source['event_date'] = pd.to_datetime(source['event_date'], format='%Y-%m-%d')"
   ]
  },
  {
   "cell_type": "markdown",
   "metadata": {},
   "source": [
    "Now, all columns have suitable datatypes."
   ]
  },
  {
   "cell_type": "markdown",
   "metadata": {},
   "source": [
    "### Missing Values"
   ]
  },
  {
   "cell_type": "markdown",
   "metadata": {},
   "source": [
    "There is a good chance the missing values in the \"events\" dataset are related to the \"events\" column. Let's take a look at the counts per unique event using .groupby()."
   ]
  },
  {
   "cell_type": "code",
   "execution_count": 18,
   "metadata": {},
   "outputs": [
    {
     "data": {
      "text/html": [
       "<div>\n",
       "<style scoped>\n",
       "    .dataframe tbody tr th:only-of-type {\n",
       "        vertical-align: middle;\n",
       "    }\n",
       "\n",
       "    .dataframe tbody tr th {\n",
       "        vertical-align: top;\n",
       "    }\n",
       "\n",
       "    .dataframe thead th {\n",
       "        text-align: right;\n",
       "    }\n",
       "</style>\n",
       "<table border=\"1\" class=\"dataframe\">\n",
       "  <thead>\n",
       "    <tr style=\"text-align: right;\">\n",
       "      <th></th>\n",
       "      <th>event_datetime</th>\n",
       "      <th>building_type</th>\n",
       "      <th>user_id</th>\n",
       "      <th>project_type</th>\n",
       "    </tr>\n",
       "    <tr>\n",
       "      <th>event</th>\n",
       "      <th></th>\n",
       "      <th></th>\n",
       "      <th></th>\n",
       "      <th></th>\n",
       "    </tr>\n",
       "  </thead>\n",
       "  <tbody>\n",
       "    <tr>\n",
       "      <th>building</th>\n",
       "      <td>127956</td>\n",
       "      <td>127956</td>\n",
       "      <td>127956</td>\n",
       "      <td>0</td>\n",
       "    </tr>\n",
       "    <tr>\n",
       "      <th>finished_stage_1</th>\n",
       "      <td>5817</td>\n",
       "      <td>0</td>\n",
       "      <td>5817</td>\n",
       "      <td>0</td>\n",
       "    </tr>\n",
       "    <tr>\n",
       "      <th>project</th>\n",
       "      <td>1866</td>\n",
       "      <td>0</td>\n",
       "      <td>1866</td>\n",
       "      <td>1866</td>\n",
       "    </tr>\n",
       "  </tbody>\n",
       "</table>\n",
       "</div>"
      ],
      "text/plain": [
       "                  event_datetime  building_type  user_id  project_type\n",
       "event                                                                 \n",
       "building                  127956         127956   127956             0\n",
       "finished_stage_1            5817              0     5817             0\n",
       "project                     1866              0     1866          1866"
      ]
     },
     "execution_count": 18,
     "metadata": {},
     "output_type": "execute_result"
    }
   ],
   "source": [
    "events.groupby('event').count()"
   ]
  },
  {
   "cell_type": "markdown",
   "metadata": {},
   "source": [
    "We can see here that the number of \"building\" events matches the number of building_type values and the number of \"project\" events matches the number of project_type values. The building_type and project_type columns are redundant. Let's collapse the values from both into a new column object_type and delete the old column."
   ]
  },
  {
   "cell_type": "code",
   "execution_count": 19,
   "metadata": {},
   "outputs": [
    {
     "data": {
      "text/html": [
       "<div>\n",
       "<style scoped>\n",
       "    .dataframe tbody tr th:only-of-type {\n",
       "        vertical-align: middle;\n",
       "    }\n",
       "\n",
       "    .dataframe tbody tr th {\n",
       "        vertical-align: top;\n",
       "    }\n",
       "\n",
       "    .dataframe thead th {\n",
       "        text-align: right;\n",
       "    }\n",
       "</style>\n",
       "<table border=\"1\" class=\"dataframe\">\n",
       "  <thead>\n",
       "    <tr style=\"text-align: right;\">\n",
       "      <th></th>\n",
       "      <th>event_datetime</th>\n",
       "      <th>event</th>\n",
       "      <th>object_type</th>\n",
       "      <th>user_id</th>\n",
       "    </tr>\n",
       "  </thead>\n",
       "  <tbody>\n",
       "    <tr>\n",
       "      <th>0</th>\n",
       "      <td>2020-05-04 00:00:01</td>\n",
       "      <td>building</td>\n",
       "      <td>assembly_shop</td>\n",
       "      <td>55e92310-cb8e-4754-b622-597e124b03de</td>\n",
       "    </tr>\n",
       "    <tr>\n",
       "      <th>1</th>\n",
       "      <td>2020-05-04 00:00:03</td>\n",
       "      <td>building</td>\n",
       "      <td>assembly_shop</td>\n",
       "      <td>c07b1c10-f477-44dc-81dc-ec82254b1347</td>\n",
       "    </tr>\n",
       "    <tr>\n",
       "      <th>2</th>\n",
       "      <td>2020-05-04 00:00:16</td>\n",
       "      <td>building</td>\n",
       "      <td>assembly_shop</td>\n",
       "      <td>6edd42cc-e753-4ff6-a947-2107cd560710</td>\n",
       "    </tr>\n",
       "    <tr>\n",
       "      <th>3</th>\n",
       "      <td>2020-05-04 00:00:16</td>\n",
       "      <td>building</td>\n",
       "      <td>assembly_shop</td>\n",
       "      <td>92c69003-d60a-444a-827f-8cc51bf6bf4c</td>\n",
       "    </tr>\n",
       "    <tr>\n",
       "      <th>4</th>\n",
       "      <td>2020-05-04 00:00:35</td>\n",
       "      <td>building</td>\n",
       "      <td>assembly_shop</td>\n",
       "      <td>cdc6bb92-0ccb-4490-9866-ef142f09139d</td>\n",
       "    </tr>\n",
       "  </tbody>\n",
       "</table>\n",
       "</div>"
      ],
      "text/plain": [
       "       event_datetime     event    object_type  \\\n",
       "0 2020-05-04 00:00:01  building  assembly_shop   \n",
       "1 2020-05-04 00:00:03  building  assembly_shop   \n",
       "2 2020-05-04 00:00:16  building  assembly_shop   \n",
       "3 2020-05-04 00:00:16  building  assembly_shop   \n",
       "4 2020-05-04 00:00:35  building  assembly_shop   \n",
       "\n",
       "                                user_id  \n",
       "0  55e92310-cb8e-4754-b622-597e124b03de  \n",
       "1  c07b1c10-f477-44dc-81dc-ec82254b1347  \n",
       "2  6edd42cc-e753-4ff6-a947-2107cd560710  \n",
       "3  92c69003-d60a-444a-827f-8cc51bf6bf4c  \n",
       "4  cdc6bb92-0ccb-4490-9866-ef142f09139d  "
      ]
     },
     "execution_count": 19,
     "metadata": {},
     "output_type": "execute_result"
    }
   ],
   "source": [
    "events.building_type.fillna(events.project_type, inplace=True)\n",
    "events = events.rename(columns={'building_type': 'object_type'})\n",
    "del events['project_type']\n",
    "events.head()"
   ]
  },
  {
   "cell_type": "code",
   "execution_count": 20,
   "metadata": {},
   "outputs": [
    {
     "data": {
      "text/html": [
       "<div>\n",
       "<style scoped>\n",
       "    .dataframe tbody tr th:only-of-type {\n",
       "        vertical-align: middle;\n",
       "    }\n",
       "\n",
       "    .dataframe tbody tr th {\n",
       "        vertical-align: top;\n",
       "    }\n",
       "\n",
       "    .dataframe thead th {\n",
       "        text-align: right;\n",
       "    }\n",
       "</style>\n",
       "<table border=\"1\" class=\"dataframe\">\n",
       "  <thead>\n",
       "    <tr style=\"text-align: right;\">\n",
       "      <th></th>\n",
       "      <th>event_datetime</th>\n",
       "      <th>object_type</th>\n",
       "      <th>user_id</th>\n",
       "    </tr>\n",
       "    <tr>\n",
       "      <th>event</th>\n",
       "      <th></th>\n",
       "      <th></th>\n",
       "      <th></th>\n",
       "    </tr>\n",
       "  </thead>\n",
       "  <tbody>\n",
       "    <tr>\n",
       "      <th>building</th>\n",
       "      <td>127956</td>\n",
       "      <td>127956</td>\n",
       "      <td>127956</td>\n",
       "    </tr>\n",
       "    <tr>\n",
       "      <th>finished_stage_1</th>\n",
       "      <td>5817</td>\n",
       "      <td>0</td>\n",
       "      <td>5817</td>\n",
       "    </tr>\n",
       "    <tr>\n",
       "      <th>project</th>\n",
       "      <td>1866</td>\n",
       "      <td>1866</td>\n",
       "      <td>1866</td>\n",
       "    </tr>\n",
       "  </tbody>\n",
       "</table>\n",
       "</div>"
      ],
      "text/plain": [
       "                  event_datetime  object_type  user_id\n",
       "event                                                 \n",
       "building                  127956       127956   127956\n",
       "finished_stage_1            5817            0     5817\n",
       "project                     1866         1866     1866"
      ]
     },
     "execution_count": 20,
     "metadata": {},
     "output_type": "execute_result"
    }
   ],
   "source": [
    "events.groupby('event').count()"
   ]
  },
  {
   "cell_type": "markdown",
   "metadata": {},
   "source": [
    "Now the project_type values have been moved into the object_type column."
   ]
  },
  {
   "cell_type": "markdown",
   "metadata": {},
   "source": [
    "### Merge Source Data with Events Table"
   ]
  },
  {
   "cell_type": "markdown",
   "metadata": {},
   "source": [
    "Next we will merge the \"source\" table with the events \"table\" so that all the data is included in one table. First, let's take a look at the unique user_ids along with the row counts to help us avoid duplicates."
   ]
  },
  {
   "cell_type": "code",
   "execution_count": 21,
   "metadata": {},
   "outputs": [
    {
     "name": "stdout",
     "output_type": "stream",
     "text": [
      "Rows in \"source\":  13576\n",
      "Unique user_ids in \"source\":  13576\n",
      "Rows in \"events\":  135639\n",
      "Unique user_ids in \"events\":  13576\n"
     ]
    }
   ],
   "source": [
    "print('Rows in \"source\": ', len(source))\n",
    "print('Unique user_ids in \"source\": ', source['user_id'].nunique())\n",
    "print('Rows in \"events\": ', len(events))\n",
    "print('Unique user_ids in \"events\": ', events['user_id'].nunique())"
   ]
  },
  {
   "cell_type": "markdown",
   "metadata": {},
   "source": [
    "Both datasets have the same number of user_ids. Now, let's merge the tables using .merge() and rename the event_date column in \"source\" to ad_date. We will then check the number of rows again to make sure it is unchainged."
   ]
  },
  {
   "cell_type": "code",
   "execution_count": 22,
   "metadata": {
    "scrolled": true
   },
   "outputs": [
    {
     "name": "stdout",
     "output_type": "stream",
     "text": [
      "Rows in \"events\":  135639\n",
      "Unique user_ids in \"events\":  13576\n"
     ]
    },
    {
     "data": {
      "text/html": [
       "<div>\n",
       "<style scoped>\n",
       "    .dataframe tbody tr th:only-of-type {\n",
       "        vertical-align: middle;\n",
       "    }\n",
       "\n",
       "    .dataframe tbody tr th {\n",
       "        vertical-align: top;\n",
       "    }\n",
       "\n",
       "    .dataframe thead th {\n",
       "        text-align: right;\n",
       "    }\n",
       "</style>\n",
       "<table border=\"1\" class=\"dataframe\">\n",
       "  <thead>\n",
       "    <tr style=\"text-align: right;\">\n",
       "      <th></th>\n",
       "      <th>event_datetime</th>\n",
       "      <th>event</th>\n",
       "      <th>object_type</th>\n",
       "      <th>user_id</th>\n",
       "      <th>ad_date</th>\n",
       "      <th>source</th>\n",
       "    </tr>\n",
       "  </thead>\n",
       "  <tbody>\n",
       "    <tr>\n",
       "      <th>0</th>\n",
       "      <td>2020-05-04 00:00:01</td>\n",
       "      <td>building</td>\n",
       "      <td>assembly_shop</td>\n",
       "      <td>55e92310-cb8e-4754-b622-597e124b03de</td>\n",
       "      <td>2020-05-04</td>\n",
       "      <td>youtube_channel_network</td>\n",
       "    </tr>\n",
       "    <tr>\n",
       "      <th>1</th>\n",
       "      <td>2020-05-05 05:20:15</td>\n",
       "      <td>building</td>\n",
       "      <td>assembly_shop</td>\n",
       "      <td>55e92310-cb8e-4754-b622-597e124b03de</td>\n",
       "      <td>2020-05-04</td>\n",
       "      <td>youtube_channel_network</td>\n",
       "    </tr>\n",
       "    <tr>\n",
       "      <th>2</th>\n",
       "      <td>2020-05-05 19:24:02</td>\n",
       "      <td>building</td>\n",
       "      <td>assembly_shop</td>\n",
       "      <td>55e92310-cb8e-4754-b622-597e124b03de</td>\n",
       "      <td>2020-05-04</td>\n",
       "      <td>youtube_channel_network</td>\n",
       "    </tr>\n",
       "    <tr>\n",
       "      <th>3</th>\n",
       "      <td>2020-05-05 20:59:19</td>\n",
       "      <td>building</td>\n",
       "      <td>assembly_shop</td>\n",
       "      <td>55e92310-cb8e-4754-b622-597e124b03de</td>\n",
       "      <td>2020-05-04</td>\n",
       "      <td>youtube_channel_network</td>\n",
       "    </tr>\n",
       "    <tr>\n",
       "      <th>4</th>\n",
       "      <td>2020-05-06 00:52:56</td>\n",
       "      <td>building</td>\n",
       "      <td>assembly_shop</td>\n",
       "      <td>55e92310-cb8e-4754-b622-597e124b03de</td>\n",
       "      <td>2020-05-04</td>\n",
       "      <td>youtube_channel_network</td>\n",
       "    </tr>\n",
       "  </tbody>\n",
       "</table>\n",
       "</div>"
      ],
      "text/plain": [
       "       event_datetime     event    object_type  \\\n",
       "0 2020-05-04 00:00:01  building  assembly_shop   \n",
       "1 2020-05-05 05:20:15  building  assembly_shop   \n",
       "2 2020-05-05 19:24:02  building  assembly_shop   \n",
       "3 2020-05-05 20:59:19  building  assembly_shop   \n",
       "4 2020-05-06 00:52:56  building  assembly_shop   \n",
       "\n",
       "                                user_id    ad_date                   source  \n",
       "0  55e92310-cb8e-4754-b622-597e124b03de 2020-05-04  youtube_channel_network  \n",
       "1  55e92310-cb8e-4754-b622-597e124b03de 2020-05-04  youtube_channel_network  \n",
       "2  55e92310-cb8e-4754-b622-597e124b03de 2020-05-04  youtube_channel_network  \n",
       "3  55e92310-cb8e-4754-b622-597e124b03de 2020-05-04  youtube_channel_network  \n",
       "4  55e92310-cb8e-4754-b622-597e124b03de 2020-05-04  youtube_channel_network  "
      ]
     },
     "execution_count": 22,
     "metadata": {},
     "output_type": "execute_result"
    }
   ],
   "source": [
    "events = events.merge(source, on='user_id')\n",
    "events = events.rename(columns={'event_date': 'ad_date'})\n",
    "print('Rows in \"events\": ', len(events))\n",
    "print('Unique user_ids in \"events\": ', events['user_id'].nunique())\n",
    "events.head()"
   ]
  },
  {
   "cell_type": "markdown",
   "metadata": {},
   "source": [
    "Now all the user data from \"source\" is included in our \"events\" dataset. And the number of rows is the same as before, so we know that we created no duplicates."
   ]
  },
  {
   "cell_type": "markdown",
   "metadata": {},
   "source": [
    "### Add event_date and days_since_ad_date Column"
   ]
  },
  {
   "cell_type": "markdown",
   "metadata": {},
   "source": [
    "Let's also add columns that represent the event date (event_date), number of days between event_date and ad_date. This column will be helpful in comparing the number of days it took users to complete the first stage of the game."
   ]
  },
  {
   "cell_type": "code",
   "execution_count": 23,
   "metadata": {},
   "outputs": [
    {
     "data": {
      "text/html": [
       "<div>\n",
       "<style scoped>\n",
       "    .dataframe tbody tr th:only-of-type {\n",
       "        vertical-align: middle;\n",
       "    }\n",
       "\n",
       "    .dataframe tbody tr th {\n",
       "        vertical-align: top;\n",
       "    }\n",
       "\n",
       "    .dataframe thead th {\n",
       "        text-align: right;\n",
       "    }\n",
       "</style>\n",
       "<table border=\"1\" class=\"dataframe\">\n",
       "  <thead>\n",
       "    <tr style=\"text-align: right;\">\n",
       "      <th></th>\n",
       "      <th>event_datetime</th>\n",
       "      <th>event</th>\n",
       "      <th>object_type</th>\n",
       "      <th>user_id</th>\n",
       "      <th>ad_date</th>\n",
       "      <th>source</th>\n",
       "      <th>event_date</th>\n",
       "      <th>days_since_ad_date</th>\n",
       "    </tr>\n",
       "  </thead>\n",
       "  <tbody>\n",
       "    <tr>\n",
       "      <th>0</th>\n",
       "      <td>2020-05-04 00:00:01</td>\n",
       "      <td>building</td>\n",
       "      <td>assembly_shop</td>\n",
       "      <td>55e92310-cb8e-4754-b622-597e124b03de</td>\n",
       "      <td>2020-05-04</td>\n",
       "      <td>youtube_channel_network</td>\n",
       "      <td>2020-05-04</td>\n",
       "      <td>0</td>\n",
       "    </tr>\n",
       "    <tr>\n",
       "      <th>1</th>\n",
       "      <td>2020-05-05 05:20:15</td>\n",
       "      <td>building</td>\n",
       "      <td>assembly_shop</td>\n",
       "      <td>55e92310-cb8e-4754-b622-597e124b03de</td>\n",
       "      <td>2020-05-04</td>\n",
       "      <td>youtube_channel_network</td>\n",
       "      <td>2020-05-05</td>\n",
       "      <td>1</td>\n",
       "    </tr>\n",
       "    <tr>\n",
       "      <th>2</th>\n",
       "      <td>2020-05-05 19:24:02</td>\n",
       "      <td>building</td>\n",
       "      <td>assembly_shop</td>\n",
       "      <td>55e92310-cb8e-4754-b622-597e124b03de</td>\n",
       "      <td>2020-05-04</td>\n",
       "      <td>youtube_channel_network</td>\n",
       "      <td>2020-05-05</td>\n",
       "      <td>1</td>\n",
       "    </tr>\n",
       "    <tr>\n",
       "      <th>3</th>\n",
       "      <td>2020-05-05 20:59:19</td>\n",
       "      <td>building</td>\n",
       "      <td>assembly_shop</td>\n",
       "      <td>55e92310-cb8e-4754-b622-597e124b03de</td>\n",
       "      <td>2020-05-04</td>\n",
       "      <td>youtube_channel_network</td>\n",
       "      <td>2020-05-05</td>\n",
       "      <td>1</td>\n",
       "    </tr>\n",
       "    <tr>\n",
       "      <th>4</th>\n",
       "      <td>2020-05-06 00:52:56</td>\n",
       "      <td>building</td>\n",
       "      <td>assembly_shop</td>\n",
       "      <td>55e92310-cb8e-4754-b622-597e124b03de</td>\n",
       "      <td>2020-05-04</td>\n",
       "      <td>youtube_channel_network</td>\n",
       "      <td>2020-05-06</td>\n",
       "      <td>2</td>\n",
       "    </tr>\n",
       "  </tbody>\n",
       "</table>\n",
       "</div>"
      ],
      "text/plain": [
       "       event_datetime     event    object_type  \\\n",
       "0 2020-05-04 00:00:01  building  assembly_shop   \n",
       "1 2020-05-05 05:20:15  building  assembly_shop   \n",
       "2 2020-05-05 19:24:02  building  assembly_shop   \n",
       "3 2020-05-05 20:59:19  building  assembly_shop   \n",
       "4 2020-05-06 00:52:56  building  assembly_shop   \n",
       "\n",
       "                                user_id    ad_date                   source  \\\n",
       "0  55e92310-cb8e-4754-b622-597e124b03de 2020-05-04  youtube_channel_network   \n",
       "1  55e92310-cb8e-4754-b622-597e124b03de 2020-05-04  youtube_channel_network   \n",
       "2  55e92310-cb8e-4754-b622-597e124b03de 2020-05-04  youtube_channel_network   \n",
       "3  55e92310-cb8e-4754-b622-597e124b03de 2020-05-04  youtube_channel_network   \n",
       "4  55e92310-cb8e-4754-b622-597e124b03de 2020-05-04  youtube_channel_network   \n",
       "\n",
       "  event_date  days_since_ad_date  \n",
       "0 2020-05-04                   0  \n",
       "1 2020-05-05                   1  \n",
       "2 2020-05-05                   1  \n",
       "3 2020-05-05                   1  \n",
       "4 2020-05-06                   2  "
      ]
     },
     "execution_count": 23,
     "metadata": {},
     "output_type": "execute_result"
    }
   ],
   "source": [
    "events['event_date'] = pd.DatetimeIndex(events['event_datetime']).date\n",
    "events['event_date'] = pd.to_datetime(events['event_date'], format='%Y-%m-%d')\n",
    "events['days_since_ad_date'] = events['event_date'] - events['ad_date']\n",
    "events['days_since_ad_date'] = events['days_since_ad_date'].astype('timedelta64[D]').astype(int)\n",
    "events.head()"
   ]
  },
  {
   "cell_type": "markdown",
   "metadata": {},
   "source": [
    "### Creating Classification Column for \"Project\" Completion vs. \"Boss\" Completion v. \"Incomplete\""
   ]
  },
  {
   "cell_type": "markdown",
   "metadata": {},
   "source": [
    "We will also create a classification column for how users completed the first stage of the game. To do this, we will first add a binary \"1\" or \"0\" column to our events table. To start, we will create a dictionary of users who have completed the first stage by slicing the appropriate users and making a column storing \"1\" as the event count, naming it stage_1_completed."
   ]
  },
  {
   "cell_type": "code",
   "execution_count": 24,
   "metadata": {},
   "outputs": [
    {
     "data": {
      "text/html": [
       "<div>\n",
       "<style scoped>\n",
       "    .dataframe tbody tr th:only-of-type {\n",
       "        vertical-align: middle;\n",
       "    }\n",
       "\n",
       "    .dataframe tbody tr th {\n",
       "        vertical-align: top;\n",
       "    }\n",
       "\n",
       "    .dataframe thead th {\n",
       "        text-align: right;\n",
       "    }\n",
       "</style>\n",
       "<table border=\"1\" class=\"dataframe\">\n",
       "  <thead>\n",
       "    <tr style=\"text-align: right;\">\n",
       "      <th></th>\n",
       "      <th>stage_1_completed</th>\n",
       "    </tr>\n",
       "    <tr>\n",
       "      <th>user_id</th>\n",
       "      <th></th>\n",
       "    </tr>\n",
       "  </thead>\n",
       "  <tbody>\n",
       "    <tr>\n",
       "      <th>001d39dc-366c-4021-9604-6a3b9ff01e25</th>\n",
       "      <td>1</td>\n",
       "    </tr>\n",
       "    <tr>\n",
       "      <th>003ee7e8-6356-4286-a715-62f22a18d2a1</th>\n",
       "      <td>1</td>\n",
       "    </tr>\n",
       "    <tr>\n",
       "      <th>004074f8-251a-4776-922c-8348dca1a2f6</th>\n",
       "      <td>1</td>\n",
       "    </tr>\n",
       "    <tr>\n",
       "      <th>00464e5e-28ed-4be6-bf44-517ef7b3937b</th>\n",
       "      <td>1</td>\n",
       "    </tr>\n",
       "    <tr>\n",
       "      <th>0056c007-c082-43cc-bdef-afc49bca4cb9</th>\n",
       "      <td>1</td>\n",
       "    </tr>\n",
       "  </tbody>\n",
       "</table>\n",
       "</div>"
      ],
      "text/plain": [
       "                                      stage_1_completed\n",
       "user_id                                                \n",
       "001d39dc-366c-4021-9604-6a3b9ff01e25                  1\n",
       "003ee7e8-6356-4286-a715-62f22a18d2a1                  1\n",
       "004074f8-251a-4776-922c-8348dca1a2f6                  1\n",
       "00464e5e-28ed-4be6-bf44-517ef7b3937b                  1\n",
       "0056c007-c082-43cc-bdef-afc49bca4cb9                  1"
      ]
     },
     "execution_count": 24,
     "metadata": {},
     "output_type": "execute_result"
    }
   ],
   "source": [
    "users_completed_stage_1 = events.loc[events.loc[:,'event'] == 'finished_stage_1']\n",
    "users_completed_stage_1 = users_completed_stage_1.groupby('user_id').agg({'event' : 'count'})\n",
    "users_completed_stage_1 = users_completed_stage_1.rename(columns={'event': 'stage_1_completed'})\n",
    "users_completed_stage_1.head()"
   ]
  },
  {
   "cell_type": "markdown",
   "metadata": {},
   "source": [
    "Now, let's join this dictionary to our \"events\" table, filling the missing values in the stage_1_completed with \"0\" and converting the datatype to integer."
   ]
  },
  {
   "cell_type": "code",
   "execution_count": 25,
   "metadata": {
    "scrolled": true
   },
   "outputs": [
    {
     "data": {
      "text/html": [
       "<div>\n",
       "<style scoped>\n",
       "    .dataframe tbody tr th:only-of-type {\n",
       "        vertical-align: middle;\n",
       "    }\n",
       "\n",
       "    .dataframe tbody tr th {\n",
       "        vertical-align: top;\n",
       "    }\n",
       "\n",
       "    .dataframe thead th {\n",
       "        text-align: right;\n",
       "    }\n",
       "</style>\n",
       "<table border=\"1\" class=\"dataframe\">\n",
       "  <thead>\n",
       "    <tr style=\"text-align: right;\">\n",
       "      <th></th>\n",
       "      <th>event_datetime</th>\n",
       "      <th>event</th>\n",
       "      <th>object_type</th>\n",
       "      <th>user_id</th>\n",
       "      <th>ad_date</th>\n",
       "      <th>source</th>\n",
       "      <th>event_date</th>\n",
       "      <th>days_since_ad_date</th>\n",
       "      <th>stage_1_completed</th>\n",
       "    </tr>\n",
       "  </thead>\n",
       "  <tbody>\n",
       "    <tr>\n",
       "      <th>0</th>\n",
       "      <td>2020-05-04 00:00:01</td>\n",
       "      <td>building</td>\n",
       "      <td>assembly_shop</td>\n",
       "      <td>55e92310-cb8e-4754-b622-597e124b03de</td>\n",
       "      <td>2020-05-04</td>\n",
       "      <td>youtube_channel_network</td>\n",
       "      <td>2020-05-04</td>\n",
       "      <td>0</td>\n",
       "      <td>0</td>\n",
       "    </tr>\n",
       "    <tr>\n",
       "      <th>1</th>\n",
       "      <td>2020-05-05 05:20:15</td>\n",
       "      <td>building</td>\n",
       "      <td>assembly_shop</td>\n",
       "      <td>55e92310-cb8e-4754-b622-597e124b03de</td>\n",
       "      <td>2020-05-04</td>\n",
       "      <td>youtube_channel_network</td>\n",
       "      <td>2020-05-05</td>\n",
       "      <td>1</td>\n",
       "      <td>0</td>\n",
       "    </tr>\n",
       "    <tr>\n",
       "      <th>2</th>\n",
       "      <td>2020-05-05 19:24:02</td>\n",
       "      <td>building</td>\n",
       "      <td>assembly_shop</td>\n",
       "      <td>55e92310-cb8e-4754-b622-597e124b03de</td>\n",
       "      <td>2020-05-04</td>\n",
       "      <td>youtube_channel_network</td>\n",
       "      <td>2020-05-05</td>\n",
       "      <td>1</td>\n",
       "      <td>0</td>\n",
       "    </tr>\n",
       "    <tr>\n",
       "      <th>3</th>\n",
       "      <td>2020-05-05 20:59:19</td>\n",
       "      <td>building</td>\n",
       "      <td>assembly_shop</td>\n",
       "      <td>55e92310-cb8e-4754-b622-597e124b03de</td>\n",
       "      <td>2020-05-04</td>\n",
       "      <td>youtube_channel_network</td>\n",
       "      <td>2020-05-05</td>\n",
       "      <td>1</td>\n",
       "      <td>0</td>\n",
       "    </tr>\n",
       "    <tr>\n",
       "      <th>4</th>\n",
       "      <td>2020-05-06 00:52:56</td>\n",
       "      <td>building</td>\n",
       "      <td>assembly_shop</td>\n",
       "      <td>55e92310-cb8e-4754-b622-597e124b03de</td>\n",
       "      <td>2020-05-04</td>\n",
       "      <td>youtube_channel_network</td>\n",
       "      <td>2020-05-06</td>\n",
       "      <td>2</td>\n",
       "      <td>0</td>\n",
       "    </tr>\n",
       "  </tbody>\n",
       "</table>\n",
       "</div>"
      ],
      "text/plain": [
       "       event_datetime     event    object_type  \\\n",
       "0 2020-05-04 00:00:01  building  assembly_shop   \n",
       "1 2020-05-05 05:20:15  building  assembly_shop   \n",
       "2 2020-05-05 19:24:02  building  assembly_shop   \n",
       "3 2020-05-05 20:59:19  building  assembly_shop   \n",
       "4 2020-05-06 00:52:56  building  assembly_shop   \n",
       "\n",
       "                                user_id    ad_date                   source  \\\n",
       "0  55e92310-cb8e-4754-b622-597e124b03de 2020-05-04  youtube_channel_network   \n",
       "1  55e92310-cb8e-4754-b622-597e124b03de 2020-05-04  youtube_channel_network   \n",
       "2  55e92310-cb8e-4754-b622-597e124b03de 2020-05-04  youtube_channel_network   \n",
       "3  55e92310-cb8e-4754-b622-597e124b03de 2020-05-04  youtube_channel_network   \n",
       "4  55e92310-cb8e-4754-b622-597e124b03de 2020-05-04  youtube_channel_network   \n",
       "\n",
       "  event_date  days_since_ad_date  stage_1_completed  \n",
       "0 2020-05-04                   0                  0  \n",
       "1 2020-05-05                   1                  0  \n",
       "2 2020-05-05                   1                  0  \n",
       "3 2020-05-05                   1                  0  \n",
       "4 2020-05-06                   2                  0  "
      ]
     },
     "execution_count": 25,
     "metadata": {},
     "output_type": "execute_result"
    }
   ],
   "source": [
    "events = events.join(users_completed_stage_1, on='user_id')\n",
    "events['stage_1_completed'] = events['stage_1_completed'].fillna(0)\n",
    "events['stage_1_completed'] = events['stage_1_completed'].astype(int)\n",
    "events.head()"
   ]
  },
  {
   "cell_type": "markdown",
   "metadata": {},
   "source": [
    "We now have a column showing a binary category for whether users have completed stage 1. We know that users can complete the first stage of the game in one of two ways, either through building the orbital satellite-assembly (characterized by encountering the \"project\" event) or by defeating the boss (all users who complete the first stage without encountering the \"project\" event. Let's create a column called p_or_b to identify what method each user completed the first stage. First, we will make a dictionary of user_ids who completed the first stage via the project route. We will make a slice for all records for users who have completed stage 1. Then, we will make a slice for which completed users got their via the project route and clean up the table into a dictionary using .copy() to select the desired columns and .rename() to rename the columns, setting the user_id as the index."
   ]
  },
  {
   "cell_type": "code",
   "execution_count": 26,
   "metadata": {},
   "outputs": [
    {
     "data": {
      "text/html": [
       "<div>\n",
       "<style scoped>\n",
       "    .dataframe tbody tr th:only-of-type {\n",
       "        vertical-align: middle;\n",
       "    }\n",
       "\n",
       "    .dataframe tbody tr th {\n",
       "        vertical-align: top;\n",
       "    }\n",
       "\n",
       "    .dataframe thead th {\n",
       "        text-align: right;\n",
       "    }\n",
       "</style>\n",
       "<table border=\"1\" class=\"dataframe\">\n",
       "  <thead>\n",
       "    <tr style=\"text-align: right;\">\n",
       "      <th></th>\n",
       "      <th>p_or_b</th>\n",
       "    </tr>\n",
       "    <tr>\n",
       "      <th>user_id</th>\n",
       "      <th></th>\n",
       "    </tr>\n",
       "  </thead>\n",
       "  <tbody>\n",
       "    <tr>\n",
       "      <th>c07b1c10-f477-44dc-81dc-ec82254b1347</th>\n",
       "      <td>project</td>\n",
       "    </tr>\n",
       "    <tr>\n",
       "      <th>65a92713-5969-48b1-8945-bfefa5063887</th>\n",
       "      <td>project</td>\n",
       "    </tr>\n",
       "    <tr>\n",
       "      <th>fa352362-d258-472c-b295-2796ccc39fa3</th>\n",
       "      <td>project</td>\n",
       "    </tr>\n",
       "    <tr>\n",
       "      <th>7b3b6554-7949-4065-9808-d6c79bdc2f58</th>\n",
       "      <td>project</td>\n",
       "    </tr>\n",
       "    <tr>\n",
       "      <th>b374304d-2f74-4cc1-a4e2-500da44a06c7</th>\n",
       "      <td>project</td>\n",
       "    </tr>\n",
       "  </tbody>\n",
       "</table>\n",
       "</div>"
      ],
      "text/plain": [
       "                                       p_or_b\n",
       "user_id                                      \n",
       "c07b1c10-f477-44dc-81dc-ec82254b1347  project\n",
       "65a92713-5969-48b1-8945-bfefa5063887  project\n",
       "fa352362-d258-472c-b295-2796ccc39fa3  project\n",
       "7b3b6554-7949-4065-9808-d6c79bdc2f58  project\n",
       "b374304d-2f74-4cc1-a4e2-500da44a06c7  project"
      ]
     },
     "execution_count": 26,
     "metadata": {},
     "output_type": "execute_result"
    }
   ],
   "source": [
    "completed_slice = events.loc[events.loc[:,'stage_1_completed'] == 1]\n",
    "#Make a slice of all rows containing the \"project\" event\n",
    "project = completed_slice.loc[completed_slice.loc[:,'event'] == 'project']\n",
    "#Make copy and reduce to user_id and \"event\" columns\n",
    "project = project[['user_id', 'event']].copy()\n",
    "#Rename column to p_or_b'\n",
    "project = project.rename(columns={'event': 'p_or_b'})\n",
    "#Set user_id as index\n",
    "project = project.set_index(['user_id'])\n",
    "project.head()"
   ]
  },
  {
   "cell_type": "markdown",
   "metadata": {},
   "source": [
    "Now, we can join this list to our completed_slice table and fill the missing values with \"boss\"."
   ]
  },
  {
   "cell_type": "code",
   "execution_count": 27,
   "metadata": {
    "scrolled": true
   },
   "outputs": [
    {
     "data": {
      "text/html": [
       "<div>\n",
       "<style scoped>\n",
       "    .dataframe tbody tr th:only-of-type {\n",
       "        vertical-align: middle;\n",
       "    }\n",
       "\n",
       "    .dataframe tbody tr th {\n",
       "        vertical-align: top;\n",
       "    }\n",
       "\n",
       "    .dataframe thead th {\n",
       "        text-align: right;\n",
       "    }\n",
       "</style>\n",
       "<table border=\"1\" class=\"dataframe\">\n",
       "  <thead>\n",
       "    <tr style=\"text-align: right;\">\n",
       "      <th></th>\n",
       "      <th>event_datetime</th>\n",
       "      <th>event</th>\n",
       "      <th>object_type</th>\n",
       "      <th>user_id</th>\n",
       "      <th>ad_date</th>\n",
       "      <th>source</th>\n",
       "      <th>event_date</th>\n",
       "      <th>days_since_ad_date</th>\n",
       "      <th>stage_1_completed</th>\n",
       "      <th>p_or_b</th>\n",
       "    </tr>\n",
       "  </thead>\n",
       "  <tbody>\n",
       "    <tr>\n",
       "      <th>7</th>\n",
       "      <td>2020-05-04 00:00:03</td>\n",
       "      <td>building</td>\n",
       "      <td>assembly_shop</td>\n",
       "      <td>c07b1c10-f477-44dc-81dc-ec82254b1347</td>\n",
       "      <td>2020-05-04</td>\n",
       "      <td>facebook_ads</td>\n",
       "      <td>2020-05-04</td>\n",
       "      <td>0</td>\n",
       "      <td>1</td>\n",
       "      <td>project</td>\n",
       "    </tr>\n",
       "    <tr>\n",
       "      <th>8</th>\n",
       "      <td>2020-05-06 23:49:25</td>\n",
       "      <td>building</td>\n",
       "      <td>assembly_shop</td>\n",
       "      <td>c07b1c10-f477-44dc-81dc-ec82254b1347</td>\n",
       "      <td>2020-05-04</td>\n",
       "      <td>facebook_ads</td>\n",
       "      <td>2020-05-06</td>\n",
       "      <td>2</td>\n",
       "      <td>1</td>\n",
       "      <td>project</td>\n",
       "    </tr>\n",
       "    <tr>\n",
       "      <th>9</th>\n",
       "      <td>2020-05-07 03:56:30</td>\n",
       "      <td>building</td>\n",
       "      <td>spaceport</td>\n",
       "      <td>c07b1c10-f477-44dc-81dc-ec82254b1347</td>\n",
       "      <td>2020-05-04</td>\n",
       "      <td>facebook_ads</td>\n",
       "      <td>2020-05-07</td>\n",
       "      <td>3</td>\n",
       "      <td>1</td>\n",
       "      <td>project</td>\n",
       "    </tr>\n",
       "    <tr>\n",
       "      <th>10</th>\n",
       "      <td>2020-05-07 07:58:20</td>\n",
       "      <td>building</td>\n",
       "      <td>assembly_shop</td>\n",
       "      <td>c07b1c10-f477-44dc-81dc-ec82254b1347</td>\n",
       "      <td>2020-05-04</td>\n",
       "      <td>facebook_ads</td>\n",
       "      <td>2020-05-07</td>\n",
       "      <td>3</td>\n",
       "      <td>1</td>\n",
       "      <td>project</td>\n",
       "    </tr>\n",
       "    <tr>\n",
       "      <th>11</th>\n",
       "      <td>2020-05-07 08:30:13</td>\n",
       "      <td>building</td>\n",
       "      <td>assembly_shop</td>\n",
       "      <td>c07b1c10-f477-44dc-81dc-ec82254b1347</td>\n",
       "      <td>2020-05-04</td>\n",
       "      <td>facebook_ads</td>\n",
       "      <td>2020-05-07</td>\n",
       "      <td>3</td>\n",
       "      <td>1</td>\n",
       "      <td>project</td>\n",
       "    </tr>\n",
       "  </tbody>\n",
       "</table>\n",
       "</div>"
      ],
      "text/plain": [
       "        event_datetime     event    object_type  \\\n",
       "7  2020-05-04 00:00:03  building  assembly_shop   \n",
       "8  2020-05-06 23:49:25  building  assembly_shop   \n",
       "9  2020-05-07 03:56:30  building      spaceport   \n",
       "10 2020-05-07 07:58:20  building  assembly_shop   \n",
       "11 2020-05-07 08:30:13  building  assembly_shop   \n",
       "\n",
       "                                 user_id    ad_date        source event_date  \\\n",
       "7   c07b1c10-f477-44dc-81dc-ec82254b1347 2020-05-04  facebook_ads 2020-05-04   \n",
       "8   c07b1c10-f477-44dc-81dc-ec82254b1347 2020-05-04  facebook_ads 2020-05-06   \n",
       "9   c07b1c10-f477-44dc-81dc-ec82254b1347 2020-05-04  facebook_ads 2020-05-07   \n",
       "10  c07b1c10-f477-44dc-81dc-ec82254b1347 2020-05-04  facebook_ads 2020-05-07   \n",
       "11  c07b1c10-f477-44dc-81dc-ec82254b1347 2020-05-04  facebook_ads 2020-05-07   \n",
       "\n",
       "    days_since_ad_date  stage_1_completed   p_or_b  \n",
       "7                    0                  1  project  \n",
       "8                    2                  1  project  \n",
       "9                    3                  1  project  \n",
       "10                   3                  1  project  \n",
       "11                   3                  1  project  "
      ]
     },
     "execution_count": 27,
     "metadata": {},
     "output_type": "execute_result"
    }
   ],
   "source": [
    "completed_slice = completed_slice.join(project, on='user_id')\n",
    "completed_slice['p_or_b'] = completed_slice['p_or_b'].fillna('boss')\n",
    "completed_slice.head()"
   ]
  },
  {
   "cell_type": "markdown",
   "metadata": {},
   "source": [
    "Now, let's condense these down into another dictionary of users which identifies \"project\" or \"boss\"."
   ]
  },
  {
   "cell_type": "code",
   "execution_count": 28,
   "metadata": {},
   "outputs": [
    {
     "data": {
      "text/html": [
       "<div>\n",
       "<style scoped>\n",
       "    .dataframe tbody tr th:only-of-type {\n",
       "        vertical-align: middle;\n",
       "    }\n",
       "\n",
       "    .dataframe tbody tr th {\n",
       "        vertical-align: top;\n",
       "    }\n",
       "\n",
       "    .dataframe thead th {\n",
       "        text-align: right;\n",
       "    }\n",
       "</style>\n",
       "<table border=\"1\" class=\"dataframe\">\n",
       "  <thead>\n",
       "    <tr style=\"text-align: right;\">\n",
       "      <th></th>\n",
       "      <th>p_or_b</th>\n",
       "    </tr>\n",
       "    <tr>\n",
       "      <th>user_id</th>\n",
       "      <th></th>\n",
       "    </tr>\n",
       "  </thead>\n",
       "  <tbody>\n",
       "    <tr>\n",
       "      <th>001d39dc-366c-4021-9604-6a3b9ff01e25</th>\n",
       "      <td>boss</td>\n",
       "    </tr>\n",
       "    <tr>\n",
       "      <th>003ee7e8-6356-4286-a715-62f22a18d2a1</th>\n",
       "      <td>boss</td>\n",
       "    </tr>\n",
       "    <tr>\n",
       "      <th>004074f8-251a-4776-922c-8348dca1a2f6</th>\n",
       "      <td>boss</td>\n",
       "    </tr>\n",
       "    <tr>\n",
       "      <th>00464e5e-28ed-4be6-bf44-517ef7b3937b</th>\n",
       "      <td>boss</td>\n",
       "    </tr>\n",
       "    <tr>\n",
       "      <th>0056c007-c082-43cc-bdef-afc49bca4cb9</th>\n",
       "      <td>boss</td>\n",
       "    </tr>\n",
       "  </tbody>\n",
       "</table>\n",
       "</div>"
      ],
      "text/plain": [
       "                                     p_or_b\n",
       "user_id                                    \n",
       "001d39dc-366c-4021-9604-6a3b9ff01e25   boss\n",
       "003ee7e8-6356-4286-a715-62f22a18d2a1   boss\n",
       "004074f8-251a-4776-922c-8348dca1a2f6   boss\n",
       "00464e5e-28ed-4be6-bf44-517ef7b3937b   boss\n",
       "0056c007-c082-43cc-bdef-afc49bca4cb9   boss"
      ]
     },
     "execution_count": 28,
     "metadata": {},
     "output_type": "execute_result"
    }
   ],
   "source": [
    "p_or_b_users = completed_slice.groupby('user_id').agg({'p_or_b' : 'first'})\n",
    "p_or_b_users.head()"
   ]
  },
  {
   "cell_type": "markdown",
   "metadata": {},
   "source": [
    "Finally, we can join this dictionary to our original \"events\" table."
   ]
  },
  {
   "cell_type": "code",
   "execution_count": 29,
   "metadata": {},
   "outputs": [
    {
     "data": {
      "text/html": [
       "<div>\n",
       "<style scoped>\n",
       "    .dataframe tbody tr th:only-of-type {\n",
       "        vertical-align: middle;\n",
       "    }\n",
       "\n",
       "    .dataframe tbody tr th {\n",
       "        vertical-align: top;\n",
       "    }\n",
       "\n",
       "    .dataframe thead th {\n",
       "        text-align: right;\n",
       "    }\n",
       "</style>\n",
       "<table border=\"1\" class=\"dataframe\">\n",
       "  <thead>\n",
       "    <tr style=\"text-align: right;\">\n",
       "      <th></th>\n",
       "      <th>event_datetime</th>\n",
       "      <th>event</th>\n",
       "      <th>object_type</th>\n",
       "      <th>user_id</th>\n",
       "      <th>ad_date</th>\n",
       "      <th>source</th>\n",
       "      <th>event_date</th>\n",
       "      <th>days_since_ad_date</th>\n",
       "      <th>stage_1_completed</th>\n",
       "      <th>p_or_b</th>\n",
       "    </tr>\n",
       "  </thead>\n",
       "  <tbody>\n",
       "    <tr>\n",
       "      <th>0</th>\n",
       "      <td>2020-05-04 00:00:01</td>\n",
       "      <td>building</td>\n",
       "      <td>assembly_shop</td>\n",
       "      <td>55e92310-cb8e-4754-b622-597e124b03de</td>\n",
       "      <td>2020-05-04</td>\n",
       "      <td>youtube_channel_network</td>\n",
       "      <td>2020-05-04</td>\n",
       "      <td>0</td>\n",
       "      <td>0</td>\n",
       "      <td>NaN</td>\n",
       "    </tr>\n",
       "    <tr>\n",
       "      <th>1</th>\n",
       "      <td>2020-05-05 05:20:15</td>\n",
       "      <td>building</td>\n",
       "      <td>assembly_shop</td>\n",
       "      <td>55e92310-cb8e-4754-b622-597e124b03de</td>\n",
       "      <td>2020-05-04</td>\n",
       "      <td>youtube_channel_network</td>\n",
       "      <td>2020-05-05</td>\n",
       "      <td>1</td>\n",
       "      <td>0</td>\n",
       "      <td>NaN</td>\n",
       "    </tr>\n",
       "    <tr>\n",
       "      <th>2</th>\n",
       "      <td>2020-05-05 19:24:02</td>\n",
       "      <td>building</td>\n",
       "      <td>assembly_shop</td>\n",
       "      <td>55e92310-cb8e-4754-b622-597e124b03de</td>\n",
       "      <td>2020-05-04</td>\n",
       "      <td>youtube_channel_network</td>\n",
       "      <td>2020-05-05</td>\n",
       "      <td>1</td>\n",
       "      <td>0</td>\n",
       "      <td>NaN</td>\n",
       "    </tr>\n",
       "    <tr>\n",
       "      <th>3</th>\n",
       "      <td>2020-05-05 20:59:19</td>\n",
       "      <td>building</td>\n",
       "      <td>assembly_shop</td>\n",
       "      <td>55e92310-cb8e-4754-b622-597e124b03de</td>\n",
       "      <td>2020-05-04</td>\n",
       "      <td>youtube_channel_network</td>\n",
       "      <td>2020-05-05</td>\n",
       "      <td>1</td>\n",
       "      <td>0</td>\n",
       "      <td>NaN</td>\n",
       "    </tr>\n",
       "    <tr>\n",
       "      <th>4</th>\n",
       "      <td>2020-05-06 00:52:56</td>\n",
       "      <td>building</td>\n",
       "      <td>assembly_shop</td>\n",
       "      <td>55e92310-cb8e-4754-b622-597e124b03de</td>\n",
       "      <td>2020-05-04</td>\n",
       "      <td>youtube_channel_network</td>\n",
       "      <td>2020-05-06</td>\n",
       "      <td>2</td>\n",
       "      <td>0</td>\n",
       "      <td>NaN</td>\n",
       "    </tr>\n",
       "  </tbody>\n",
       "</table>\n",
       "</div>"
      ],
      "text/plain": [
       "       event_datetime     event    object_type  \\\n",
       "0 2020-05-04 00:00:01  building  assembly_shop   \n",
       "1 2020-05-05 05:20:15  building  assembly_shop   \n",
       "2 2020-05-05 19:24:02  building  assembly_shop   \n",
       "3 2020-05-05 20:59:19  building  assembly_shop   \n",
       "4 2020-05-06 00:52:56  building  assembly_shop   \n",
       "\n",
       "                                user_id    ad_date                   source  \\\n",
       "0  55e92310-cb8e-4754-b622-597e124b03de 2020-05-04  youtube_channel_network   \n",
       "1  55e92310-cb8e-4754-b622-597e124b03de 2020-05-04  youtube_channel_network   \n",
       "2  55e92310-cb8e-4754-b622-597e124b03de 2020-05-04  youtube_channel_network   \n",
       "3  55e92310-cb8e-4754-b622-597e124b03de 2020-05-04  youtube_channel_network   \n",
       "4  55e92310-cb8e-4754-b622-597e124b03de 2020-05-04  youtube_channel_network   \n",
       "\n",
       "  event_date  days_since_ad_date  stage_1_completed p_or_b  \n",
       "0 2020-05-04                   0                  0    NaN  \n",
       "1 2020-05-05                   1                  0    NaN  \n",
       "2 2020-05-05                   1                  0    NaN  \n",
       "3 2020-05-05                   1                  0    NaN  \n",
       "4 2020-05-06                   2                  0    NaN  "
      ]
     },
     "execution_count": 29,
     "metadata": {},
     "output_type": "execute_result"
    }
   ],
   "source": [
    "events = events.join(p_or_b_users, on='user_id')\n",
    "events.head()"
   ]
  },
  {
   "cell_type": "markdown",
   "metadata": {},
   "source": [
    "No we have a column identifying each user as \"project\", \"boss\" or NaN if they did not complete at all. Let's replace all NaN values with \"incomplete\"."
   ]
  },
  {
   "cell_type": "code",
   "execution_count": 30,
   "metadata": {},
   "outputs": [
    {
     "data": {
      "text/html": [
       "<div>\n",
       "<style scoped>\n",
       "    .dataframe tbody tr th:only-of-type {\n",
       "        vertical-align: middle;\n",
       "    }\n",
       "\n",
       "    .dataframe tbody tr th {\n",
       "        vertical-align: top;\n",
       "    }\n",
       "\n",
       "    .dataframe thead th {\n",
       "        text-align: right;\n",
       "    }\n",
       "</style>\n",
       "<table border=\"1\" class=\"dataframe\">\n",
       "  <thead>\n",
       "    <tr style=\"text-align: right;\">\n",
       "      <th></th>\n",
       "      <th>event_datetime</th>\n",
       "      <th>event</th>\n",
       "      <th>object_type</th>\n",
       "      <th>user_id</th>\n",
       "      <th>ad_date</th>\n",
       "      <th>source</th>\n",
       "      <th>event_date</th>\n",
       "      <th>days_since_ad_date</th>\n",
       "      <th>stage_1_completed</th>\n",
       "      <th>p_or_b</th>\n",
       "    </tr>\n",
       "  </thead>\n",
       "  <tbody>\n",
       "    <tr>\n",
       "      <th>0</th>\n",
       "      <td>2020-05-04 00:00:01</td>\n",
       "      <td>building</td>\n",
       "      <td>assembly_shop</td>\n",
       "      <td>55e92310-cb8e-4754-b622-597e124b03de</td>\n",
       "      <td>2020-05-04</td>\n",
       "      <td>youtube_channel_network</td>\n",
       "      <td>2020-05-04</td>\n",
       "      <td>0</td>\n",
       "      <td>0</td>\n",
       "      <td>incomplete</td>\n",
       "    </tr>\n",
       "    <tr>\n",
       "      <th>1</th>\n",
       "      <td>2020-05-05 05:20:15</td>\n",
       "      <td>building</td>\n",
       "      <td>assembly_shop</td>\n",
       "      <td>55e92310-cb8e-4754-b622-597e124b03de</td>\n",
       "      <td>2020-05-04</td>\n",
       "      <td>youtube_channel_network</td>\n",
       "      <td>2020-05-05</td>\n",
       "      <td>1</td>\n",
       "      <td>0</td>\n",
       "      <td>incomplete</td>\n",
       "    </tr>\n",
       "    <tr>\n",
       "      <th>2</th>\n",
       "      <td>2020-05-05 19:24:02</td>\n",
       "      <td>building</td>\n",
       "      <td>assembly_shop</td>\n",
       "      <td>55e92310-cb8e-4754-b622-597e124b03de</td>\n",
       "      <td>2020-05-04</td>\n",
       "      <td>youtube_channel_network</td>\n",
       "      <td>2020-05-05</td>\n",
       "      <td>1</td>\n",
       "      <td>0</td>\n",
       "      <td>incomplete</td>\n",
       "    </tr>\n",
       "    <tr>\n",
       "      <th>3</th>\n",
       "      <td>2020-05-05 20:59:19</td>\n",
       "      <td>building</td>\n",
       "      <td>assembly_shop</td>\n",
       "      <td>55e92310-cb8e-4754-b622-597e124b03de</td>\n",
       "      <td>2020-05-04</td>\n",
       "      <td>youtube_channel_network</td>\n",
       "      <td>2020-05-05</td>\n",
       "      <td>1</td>\n",
       "      <td>0</td>\n",
       "      <td>incomplete</td>\n",
       "    </tr>\n",
       "    <tr>\n",
       "      <th>4</th>\n",
       "      <td>2020-05-06 00:52:56</td>\n",
       "      <td>building</td>\n",
       "      <td>assembly_shop</td>\n",
       "      <td>55e92310-cb8e-4754-b622-597e124b03de</td>\n",
       "      <td>2020-05-04</td>\n",
       "      <td>youtube_channel_network</td>\n",
       "      <td>2020-05-06</td>\n",
       "      <td>2</td>\n",
       "      <td>0</td>\n",
       "      <td>incomplete</td>\n",
       "    </tr>\n",
       "  </tbody>\n",
       "</table>\n",
       "</div>"
      ],
      "text/plain": [
       "       event_datetime     event    object_type  \\\n",
       "0 2020-05-04 00:00:01  building  assembly_shop   \n",
       "1 2020-05-05 05:20:15  building  assembly_shop   \n",
       "2 2020-05-05 19:24:02  building  assembly_shop   \n",
       "3 2020-05-05 20:59:19  building  assembly_shop   \n",
       "4 2020-05-06 00:52:56  building  assembly_shop   \n",
       "\n",
       "                                user_id    ad_date                   source  \\\n",
       "0  55e92310-cb8e-4754-b622-597e124b03de 2020-05-04  youtube_channel_network   \n",
       "1  55e92310-cb8e-4754-b622-597e124b03de 2020-05-04  youtube_channel_network   \n",
       "2  55e92310-cb8e-4754-b622-597e124b03de 2020-05-04  youtube_channel_network   \n",
       "3  55e92310-cb8e-4754-b622-597e124b03de 2020-05-04  youtube_channel_network   \n",
       "4  55e92310-cb8e-4754-b622-597e124b03de 2020-05-04  youtube_channel_network   \n",
       "\n",
       "  event_date  days_since_ad_date  stage_1_completed      p_or_b  \n",
       "0 2020-05-04                   0                  0  incomplete  \n",
       "1 2020-05-05                   1                  0  incomplete  \n",
       "2 2020-05-05                   1                  0  incomplete  \n",
       "3 2020-05-05                   1                  0  incomplete  \n",
       "4 2020-05-06                   2                  0  incomplete  "
      ]
     },
     "execution_count": 30,
     "metadata": {},
     "output_type": "execute_result"
    }
   ],
   "source": [
    "events['p_or_b'] = events['p_or_b'].fillna('incomplete')\n",
    "events.head()"
   ]
  },
  {
   "cell_type": "markdown",
   "metadata": {},
   "source": [
    "Now we have an \"events\" table which includes the data from \"source\". Between our modified \"events\" dataset and our \"costs\" dataset, we have a lot to explore. The \"costs\" dataset provides the advertising expenses per source. This will help us to explore the amount of money that is being spent on our users. We also have several interesting groups to compare and investigate proportions for in our new p_or_b column. We can investigate the relationship between various events and object types relates to users who completed stage one vs those who haven't as well as \"p\" vs \"b\" users. We can compare how many days it took the separate groups to complete stage 1. Our main interest is the four source categories. It will be valuable to get an idea of cost per user and to investigate whether there is a difference in performance between users of each source. This information will help us make recommendations on which sources provide a better return on investment. "
   ]
  },
  {
   "cell_type": "markdown",
   "metadata": {},
   "source": [
    "## Eploratory Data Analysis"
   ]
  },
  {
   "cell_type": "markdown",
   "metadata": {},
   "source": [
    "Now, we will begin the EDA. We will get an overview of ad source costs and events. We will calculate proportions of users who land in target groups. We will plot histograms for \"building\" events encountered as well as users per day and events per day."
   ]
  },
  {
   "cell_type": "markdown",
   "metadata": {},
   "source": [
    "### Costs"
   ]
  },
  {
   "cell_type": "markdown",
   "metadata": {},
   "source": [
    "Let create a pivot table showing the averaged cost per source."
   ]
  },
  {
   "cell_type": "code",
   "execution_count": 31,
   "metadata": {},
   "outputs": [
    {
     "data": {
      "text/html": [
       "<div>\n",
       "<style scoped>\n",
       "    .dataframe tbody tr th:only-of-type {\n",
       "        vertical-align: middle;\n",
       "    }\n",
       "\n",
       "    .dataframe tbody tr th {\n",
       "        vertical-align: top;\n",
       "    }\n",
       "\n",
       "    .dataframe thead th {\n",
       "        text-align: right;\n",
       "    }\n",
       "</style>\n",
       "<table border=\"1\" class=\"dataframe\">\n",
       "  <thead>\n",
       "    <tr style=\"text-align: right;\">\n",
       "      <th></th>\n",
       "      <th>cost</th>\n",
       "    </tr>\n",
       "    <tr>\n",
       "      <th>source</th>\n",
       "      <th></th>\n",
       "    </tr>\n",
       "  </thead>\n",
       "  <tbody>\n",
       "    <tr>\n",
       "      <th>facebook_ads</th>\n",
       "      <td>305.843520</td>\n",
       "    </tr>\n",
       "    <tr>\n",
       "      <th>google_play_ads</th>\n",
       "      <td>319.015921</td>\n",
       "    </tr>\n",
       "    <tr>\n",
       "      <th>instagram_new_adverts</th>\n",
       "      <td>308.777384</td>\n",
       "    </tr>\n",
       "    <tr>\n",
       "      <th>youtube_channel_network</th>\n",
       "      <td>152.588458</td>\n",
       "    </tr>\n",
       "  </tbody>\n",
       "</table>\n",
       "</div>"
      ],
      "text/plain": [
       "                               cost\n",
       "source                             \n",
       "facebook_ads             305.843520\n",
       "google_play_ads          319.015921\n",
       "instagram_new_adverts    308.777384\n",
       "youtube_channel_network  152.588458"
      ]
     },
     "execution_count": 31,
     "metadata": {},
     "output_type": "execute_result"
    }
   ],
   "source": [
    "average_costs_per_source = costs.pivot_table(index='source', values='cost', aggfunc='mean')\n",
    "average_costs_per_source"
   ]
  },
  {
   "cell_type": "markdown",
   "metadata": {},
   "source": [
    "There are four ad sources. The all fall at an average cost per day of $300 except for youtube_channel_network which is about half the cost of other ads. Let's make a pivot table to show the cost per day for each source."
   ]
  },
  {
   "cell_type": "code",
   "execution_count": 32,
   "metadata": {},
   "outputs": [
    {
     "data": {
      "text/html": [
       "<div>\n",
       "<style scoped>\n",
       "    .dataframe tbody tr th:only-of-type {\n",
       "        vertical-align: middle;\n",
       "    }\n",
       "\n",
       "    .dataframe tbody tr th {\n",
       "        vertical-align: top;\n",
       "    }\n",
       "\n",
       "    .dataframe thead th {\n",
       "        text-align: right;\n",
       "    }\n",
       "</style>\n",
       "<table border=\"1\" class=\"dataframe\">\n",
       "  <thead>\n",
       "    <tr style=\"text-align: right;\">\n",
       "      <th>source</th>\n",
       "      <th>facebook_ads</th>\n",
       "      <th>google_play_ads</th>\n",
       "      <th>instagram_new_adverts</th>\n",
       "      <th>youtube_channel_network</th>\n",
       "    </tr>\n",
       "    <tr>\n",
       "      <th>day</th>\n",
       "      <th></th>\n",
       "      <th></th>\n",
       "      <th></th>\n",
       "      <th></th>\n",
       "    </tr>\n",
       "  </thead>\n",
       "  <tbody>\n",
       "    <tr>\n",
       "      <th>2020-05-03</th>\n",
       "      <td>935.882786</td>\n",
       "      <td>969.139394</td>\n",
       "      <td>943.204717</td>\n",
       "      <td>454.224943</td>\n",
       "    </tr>\n",
       "    <tr>\n",
       "      <th>2020-05-04</th>\n",
       "      <td>548.354480</td>\n",
       "      <td>554.651494</td>\n",
       "      <td>502.925451</td>\n",
       "      <td>259.073224</td>\n",
       "    </tr>\n",
       "    <tr>\n",
       "      <th>2020-05-05</th>\n",
       "      <td>260.185754</td>\n",
       "      <td>308.232990</td>\n",
       "      <td>313.970984</td>\n",
       "      <td>147.041741</td>\n",
       "    </tr>\n",
       "    <tr>\n",
       "      <th>2020-05-06</th>\n",
       "      <td>177.982200</td>\n",
       "      <td>180.917099</td>\n",
       "      <td>173.071145</td>\n",
       "      <td>88.506074</td>\n",
       "    </tr>\n",
       "    <tr>\n",
       "      <th>2020-05-07</th>\n",
       "      <td>111.766796</td>\n",
       "      <td>114.429338</td>\n",
       "      <td>109.915254</td>\n",
       "      <td>55.740645</td>\n",
       "    </tr>\n",
       "    <tr>\n",
       "      <th>2020-05-08</th>\n",
       "      <td>68.009276</td>\n",
       "      <td>62.961630</td>\n",
       "      <td>71.578739</td>\n",
       "      <td>40.217907</td>\n",
       "    </tr>\n",
       "    <tr>\n",
       "      <th>2020-05-09</th>\n",
       "      <td>38.723350</td>\n",
       "      <td>42.779505</td>\n",
       "      <td>46.775400</td>\n",
       "      <td>23.314669</td>\n",
       "    </tr>\n",
       "  </tbody>\n",
       "</table>\n",
       "</div>"
      ],
      "text/plain": [
       "source      facebook_ads  google_play_ads  instagram_new_adverts  \\\n",
       "day                                                                \n",
       "2020-05-03    935.882786       969.139394             943.204717   \n",
       "2020-05-04    548.354480       554.651494             502.925451   \n",
       "2020-05-05    260.185754       308.232990             313.970984   \n",
       "2020-05-06    177.982200       180.917099             173.071145   \n",
       "2020-05-07    111.766796       114.429338             109.915254   \n",
       "2020-05-08     68.009276        62.961630              71.578739   \n",
       "2020-05-09     38.723350        42.779505              46.775400   \n",
       "\n",
       "source      youtube_channel_network  \n",
       "day                                  \n",
       "2020-05-03               454.224943  \n",
       "2020-05-04               259.073224  \n",
       "2020-05-05               147.041741  \n",
       "2020-05-06                88.506074  \n",
       "2020-05-07                55.740645  \n",
       "2020-05-08                40.217907  \n",
       "2020-05-09                23.314669  "
      ]
     },
     "execution_count": 32,
     "metadata": {},
     "output_type": "execute_result"
    }
   ],
   "source": [
    "costs.pivot_table(index='day', columns='source', values='cost', aggfunc='mean')"
   ]
  },
  {
   "cell_type": "markdown",
   "metadata": {},
   "source": [
    "The ads ran for seven days, Sunday through Saturday. The cost decrease by about half each day across all sources. Again, youtube_channel_network stand out here in that the cost reduction from the first to second day decreases by a much smaller rate than the others. Let's look at a histogram showing the distribution of costs across all days."
   ]
  },
  {
   "cell_type": "code",
   "execution_count": 33,
   "metadata": {},
   "outputs": [
    {
     "data": {
      "image/png": "[encoded data removed]",
      "text/plain": [
       "<Figure size 1152x576 with 1 Axes>"
      ]
     },
     "metadata": {
      "needs_background": "light"
     },
     "output_type": "display_data"
    }
   ],
   "source": [
    "plt.figure(figsize=(16, 8))\n",
    "plt.hist(data=source, x='event_date', bins=(7))\n",
    "plt.title('Distribution of Ads Clicked per Date')\n",
    "plt.ylabel('No. of Ad Clicks')\n",
    "plt.xlabel('Dates')\n",
    "plt.show()"
   ]
  },
  {
   "cell_type": "markdown",
   "metadata": {},
   "source": [
    "Seeing as the costs decrease at a consistent rate across all sources, it seems that the game developers are paying per click, and users' clicks decrease by half per day. We cannot tell from the data we have why less users are clicking per day. It could be that the initial exposure reaches the biggest audience. Let's investigate costs per user next. To calculate this, we will simply total all costs and divide by the length of rows in our \"source\" dataset."
   ]
  },
  {
   "cell_type": "code",
   "execution_count": 34,
   "metadata": {},
   "outputs": [
    {
     "name": "stdout",
     "output_type": "stream",
     "text": [
      "The average cost per user is: 0.5600749106355349\n"
     ]
    }
   ],
   "source": [
    "average_cost_per_user = costs['cost'].sum() / len(source)\n",
    "print('The average cost per user is:', average_cost_per_user)"
   ]
  },
  {
   "cell_type": "markdown",
   "metadata": {},
   "source": [
    "Now, let's calculate the average cost per user per source. To do this, we will first calculate total costs per source."
   ]
  },
  {
   "cell_type": "code",
   "execution_count": 35,
   "metadata": {},
   "outputs": [
    {
     "data": {
      "text/html": [
       "<div>\n",
       "<style scoped>\n",
       "    .dataframe tbody tr th:only-of-type {\n",
       "        vertical-align: middle;\n",
       "    }\n",
       "\n",
       "    .dataframe tbody tr th {\n",
       "        vertical-align: top;\n",
       "    }\n",
       "\n",
       "    .dataframe thead th {\n",
       "        text-align: right;\n",
       "    }\n",
       "</style>\n",
       "<table border=\"1\" class=\"dataframe\">\n",
       "  <thead>\n",
       "    <tr style=\"text-align: right;\">\n",
       "      <th></th>\n",
       "      <th>cost</th>\n",
       "    </tr>\n",
       "    <tr>\n",
       "      <th>source</th>\n",
       "      <th></th>\n",
       "    </tr>\n",
       "  </thead>\n",
       "  <tbody>\n",
       "    <tr>\n",
       "      <th>facebook_ads</th>\n",
       "      <td>2140.904643</td>\n",
       "    </tr>\n",
       "    <tr>\n",
       "      <th>google_play_ads</th>\n",
       "      <td>2233.111449</td>\n",
       "    </tr>\n",
       "    <tr>\n",
       "      <th>instagram_new_adverts</th>\n",
       "      <td>2161.441691</td>\n",
       "    </tr>\n",
       "    <tr>\n",
       "      <th>youtube_channel_network</th>\n",
       "      <td>1068.119204</td>\n",
       "    </tr>\n",
       "  </tbody>\n",
       "</table>\n",
       "</div>"
      ],
      "text/plain": [
       "                                cost\n",
       "source                              \n",
       "facebook_ads             2140.904643\n",
       "google_play_ads          2233.111449\n",
       "instagram_new_adverts    2161.441691\n",
       "youtube_channel_network  1068.119204"
      ]
     },
     "execution_count": 35,
     "metadata": {},
     "output_type": "execute_result"
    }
   ],
   "source": [
    "costs_per_source = costs.pivot_table(index='source', values='cost', aggfunc='sum')\n",
    "costs_per_source"
   ]
  },
  {
   "cell_type": "markdown",
   "metadata": {},
   "source": [
    "Now, let's count the unique users per source."
   ]
  },
  {
   "cell_type": "code",
   "execution_count": 36,
   "metadata": {},
   "outputs": [
    {
     "data": {
      "text/html": [
       "<div>\n",
       "<style scoped>\n",
       "    .dataframe tbody tr th:only-of-type {\n",
       "        vertical-align: middle;\n",
       "    }\n",
       "\n",
       "    .dataframe tbody tr th {\n",
       "        vertical-align: top;\n",
       "    }\n",
       "\n",
       "    .dataframe thead th {\n",
       "        text-align: right;\n",
       "    }\n",
       "</style>\n",
       "<table border=\"1\" class=\"dataframe\">\n",
       "  <thead>\n",
       "    <tr style=\"text-align: right;\">\n",
       "      <th></th>\n",
       "      <th>user_id</th>\n",
       "    </tr>\n",
       "    <tr>\n",
       "      <th>source</th>\n",
       "      <th></th>\n",
       "    </tr>\n",
       "  </thead>\n",
       "  <tbody>\n",
       "    <tr>\n",
       "      <th>facebook_ads</th>\n",
       "      <td>2726</td>\n",
       "    </tr>\n",
       "    <tr>\n",
       "      <th>google_play_ads</th>\n",
       "      <td>4817</td>\n",
       "    </tr>\n",
       "    <tr>\n",
       "      <th>instagram_new_adverts</th>\n",
       "      <td>3347</td>\n",
       "    </tr>\n",
       "    <tr>\n",
       "      <th>youtube_channel_network</th>\n",
       "      <td>2686</td>\n",
       "    </tr>\n",
       "  </tbody>\n",
       "</table>\n",
       "</div>"
      ],
      "text/plain": [
       "                         user_id\n",
       "source                          \n",
       "facebook_ads                2726\n",
       "google_play_ads             4817\n",
       "instagram_new_adverts       3347\n",
       "youtube_channel_network     2686"
      ]
     },
     "execution_count": 36,
     "metadata": {},
     "output_type": "execute_result"
    }
   ],
   "source": [
    "users_per_source = events.groupby('source').agg({'user_id': 'nunique'})\n",
    "users_per_source"
   ]
  },
  {
   "cell_type": "markdown",
   "metadata": {},
   "source": [
    "Now, let's add it to our costs_per_source table and calculate  the cost per user."
   ]
  },
  {
   "cell_type": "code",
   "execution_count": 37,
   "metadata": {},
   "outputs": [
    {
     "data": {
      "text/html": [
       "<div>\n",
       "<style scoped>\n",
       "    .dataframe tbody tr th:only-of-type {\n",
       "        vertical-align: middle;\n",
       "    }\n",
       "\n",
       "    .dataframe tbody tr th {\n",
       "        vertical-align: top;\n",
       "    }\n",
       "\n",
       "    .dataframe thead th {\n",
       "        text-align: right;\n",
       "    }\n",
       "</style>\n",
       "<table border=\"1\" class=\"dataframe\">\n",
       "  <thead>\n",
       "    <tr style=\"text-align: right;\">\n",
       "      <th></th>\n",
       "      <th>cost</th>\n",
       "      <th>users</th>\n",
       "      <th>cost_per_user</th>\n",
       "    </tr>\n",
       "    <tr>\n",
       "      <th>source</th>\n",
       "      <th></th>\n",
       "      <th></th>\n",
       "      <th></th>\n",
       "    </tr>\n",
       "  </thead>\n",
       "  <tbody>\n",
       "    <tr>\n",
       "      <th>facebook_ads</th>\n",
       "      <td>2140.904643</td>\n",
       "      <td>2726</td>\n",
       "      <td>0.785365</td>\n",
       "    </tr>\n",
       "    <tr>\n",
       "      <th>google_play_ads</th>\n",
       "      <td>2233.111449</td>\n",
       "      <td>4817</td>\n",
       "      <td>0.463590</td>\n",
       "    </tr>\n",
       "    <tr>\n",
       "      <th>instagram_new_adverts</th>\n",
       "      <td>2161.441691</td>\n",
       "      <td>3347</td>\n",
       "      <td>0.645785</td>\n",
       "    </tr>\n",
       "    <tr>\n",
       "      <th>youtube_channel_network</th>\n",
       "      <td>1068.119204</td>\n",
       "      <td>2686</td>\n",
       "      <td>0.397662</td>\n",
       "    </tr>\n",
       "  </tbody>\n",
       "</table>\n",
       "</div>"
      ],
      "text/plain": [
       "                                cost  users  cost_per_user\n",
       "source                                                    \n",
       "facebook_ads             2140.904643   2726       0.785365\n",
       "google_play_ads          2233.111449   4817       0.463590\n",
       "instagram_new_adverts    2161.441691   3347       0.645785\n",
       "youtube_channel_network  1068.119204   2686       0.397662"
      ]
     },
     "execution_count": 37,
     "metadata": {},
     "output_type": "execute_result"
    }
   ],
   "source": [
    "costs_per_source['users'] = users_per_source['user_id']\n",
    "costs_per_source['cost_per_user'] = costs_per_source['cost'] / costs_per_source['users']\n",
    "costs_per_source"
   ]
  },
  {
   "cell_type": "markdown",
   "metadata": {},
   "source": [
    "Let's show the results in a bar chart. We will include a red line showing the overall average cost per user."
   ]
  },
  {
   "cell_type": "code",
   "execution_count": 38,
   "metadata": {},
   "outputs": [
    {
     "data": {
      "image/png": "[encoded data removed]",
      "text/plain": [
       "<Figure size 1152x576 with 1 Axes>"
      ]
     },
     "metadata": {
      "needs_background": "light"
     },
     "output_type": "display_data"
    }
   ],
   "source": [
    "plt.figure(figsize=(16, 8))\n",
    "plt.bar(['facebook_ads', 'google_play_ads', 'instagram_new_adverts', 'youtube_channel_network'],\\\n",
    "        costs_per_source['cost_per_user'])\n",
    "plt.title('Source Costs Per User')\n",
    "plt.ylabel('cost_per_user')\n",
    "plt.xlabel('source')\n",
    "plt.axhline(y=average_cost_per_user, color='r', linestyle='-')\n",
    "plt.show()"
   ]
  },
  {
   "cell_type": "markdown",
   "metadata": {},
   "source": [
    "This is very helpful information. It shows us that facebook_ads are almost twice as much as youtube_channel_network ads. (That only seems reasonable if facebook_ads performs twice as good as youtube_channel_network.) Additionally, it shows us which sources' cost_per_user are above and below average. Let's move on to the events dataset."
   ]
  },
  {
   "cell_type": "markdown",
   "metadata": {},
   "source": [
    "### Quick \"events\" Overview"
   ]
  },
  {
   "cell_type": "markdown",
   "metadata": {},
   "source": [
    "Let's get an idea of event quantity, unique user quantity, date range, and the average number of events per day."
   ]
  },
  {
   "cell_type": "code",
   "execution_count": 39,
   "metadata": {},
   "outputs": [
    {
     "name": "stdout",
     "output_type": "stream",
     "text": [
      "Number of events: 135639\n",
      "Number of users: 13576\n",
      "Date range:  2020-05-04 00:00:00  through  2020-06-05 00:00:00\n",
      "Total days:  33\n",
      "Number of events per user per day: 0.30276021856752555\n"
     ]
    }
   ],
   "source": [
    "total_events = events.shape[0]\n",
    "print('Number of events:', total_events) \n",
    "total_users = len(events['user_id'].unique())\n",
    "print('Number of users:', total_users)\n",
    "print('Date range: ', events[\"event_date\"].min(), ' through ', events[\"event_date\"].max()) \n",
    "total_days = len(events['event_date'].unique())\n",
    "print('Total days: ', total_days)\n",
    "events_per_user_and_day = total_events / total_users / total_days  \n",
    "print('Number of events per user per day:', events_per_user_and_day)"
   ]
  },
  {
   "cell_type": "markdown",
   "metadata": {},
   "source": [
    "The number of users in the events dataset matches the number of users in the source dataset. The date range is a little over a months’ worth of dates. Events averaged across users and dates is 0.3. This means most users did not encounter very many events. We will investigate the distribution of events soon."
   ]
  },
  {
   "cell_type": "markdown",
   "metadata": {},
   "source": [
    "### Proportions Based on Stage 1 Completion and p_or_b Status"
   ]
  },
  {
   "cell_type": "markdown",
   "metadata": {},
   "source": [
    "Before that, let's view the numbers of users based on their p_or_b status using a pivot table. We will display the results in a pie chart."
   ]
  },
  {
   "cell_type": "code",
   "execution_count": 40,
   "metadata": {},
   "outputs": [
    {
     "data": {
      "text/html": [
       "<div>\n",
       "<style scoped>\n",
       "    .dataframe tbody tr th:only-of-type {\n",
       "        vertical-align: middle;\n",
       "    }\n",
       "\n",
       "    .dataframe tbody tr th {\n",
       "        vertical-align: top;\n",
       "    }\n",
       "\n",
       "    .dataframe thead th {\n",
       "        text-align: right;\n",
       "    }\n",
       "</style>\n",
       "<table border=\"1\" class=\"dataframe\">\n",
       "  <thead>\n",
       "    <tr style=\"text-align: right;\">\n",
       "      <th></th>\n",
       "      <th>user_id</th>\n",
       "    </tr>\n",
       "    <tr>\n",
       "      <th>p_or_b</th>\n",
       "      <th></th>\n",
       "    </tr>\n",
       "  </thead>\n",
       "  <tbody>\n",
       "    <tr>\n",
       "      <th>boss</th>\n",
       "      <td>3951</td>\n",
       "    </tr>\n",
       "    <tr>\n",
       "      <th>incomplete</th>\n",
       "      <td>7759</td>\n",
       "    </tr>\n",
       "    <tr>\n",
       "      <th>project</th>\n",
       "      <td>1866</td>\n",
       "    </tr>\n",
       "  </tbody>\n",
       "</table>\n",
       "</div>"
      ],
      "text/plain": [
       "            user_id\n",
       "p_or_b             \n",
       "boss           3951\n",
       "incomplete     7759\n",
       "project        1866"
      ]
     },
     "execution_count": 40,
     "metadata": {},
     "output_type": "execute_result"
    }
   ],
   "source": [
    "users_per_p_or_b_status = events.pivot_table(index='p_or_b', values='user_id', aggfunc='nunique')\n",
    "users_per_p_or_b_status"
   ]
  },
  {
   "cell_type": "code",
   "execution_count": 41,
   "metadata": {
    "scrolled": true
   },
   "outputs": [
    {
     "data": {
      "image/png": "[encoded data removed]",
      "text/plain": [
       "<Figure size 720x360 with 1 Axes>"
      ]
     },
     "metadata": {},
     "output_type": "display_data"
    }
   ],
   "source": [
    "plt.figure(figsize=(10, 5))\n",
    "plt.pie(users_per_p_or_b_status['user_id'], labels=users_per_p_or_b_status.index, autopct='%.0f%%')\n",
    "plt.title('User Completion Proportions For Stage 1')\n",
    "plt.show()"
   ]
  },
  {
   "cell_type": "markdown",
   "metadata": {},
   "source": [
    "Most users do not complete stage 1 of the game. Of those who do complete stage 1, \"boss\" users are twice as popular as \"project\" users.\n",
    "\n",
    "Now let's make a pivot table  of the same information, but displaying it per source."
   ]
  },
  {
   "cell_type": "code",
   "execution_count": 42,
   "metadata": {},
   "outputs": [
    {
     "data": {
      "text/html": [
       "<div>\n",
       "<style scoped>\n",
       "    .dataframe tbody tr th:only-of-type {\n",
       "        vertical-align: middle;\n",
       "    }\n",
       "\n",
       "    .dataframe tbody tr th {\n",
       "        vertical-align: top;\n",
       "    }\n",
       "\n",
       "    .dataframe thead th {\n",
       "        text-align: right;\n",
       "    }\n",
       "</style>\n",
       "<table border=\"1\" class=\"dataframe\">\n",
       "  <thead>\n",
       "    <tr style=\"text-align: right;\">\n",
       "      <th>source</th>\n",
       "      <th>facebook_ads</th>\n",
       "      <th>google_play_ads</th>\n",
       "      <th>instagram_new_adverts</th>\n",
       "      <th>youtube_channel_network</th>\n",
       "    </tr>\n",
       "    <tr>\n",
       "      <th>p_or_b</th>\n",
       "      <th></th>\n",
       "      <th></th>\n",
       "      <th></th>\n",
       "      <th></th>\n",
       "    </tr>\n",
       "  </thead>\n",
       "  <tbody>\n",
       "    <tr>\n",
       "      <th>boss</th>\n",
       "      <td>759</td>\n",
       "      <td>1422</td>\n",
       "      <td>990</td>\n",
       "      <td>780</td>\n",
       "    </tr>\n",
       "    <tr>\n",
       "      <th>incomplete</th>\n",
       "      <td>1576</td>\n",
       "      <td>2775</td>\n",
       "      <td>1881</td>\n",
       "      <td>1527</td>\n",
       "    </tr>\n",
       "    <tr>\n",
       "      <th>project</th>\n",
       "      <td>391</td>\n",
       "      <td>620</td>\n",
       "      <td>476</td>\n",
       "      <td>379</td>\n",
       "    </tr>\n",
       "  </tbody>\n",
       "</table>\n",
       "</div>"
      ],
      "text/plain": [
       "source      facebook_ads  google_play_ads  instagram_new_adverts  \\\n",
       "p_or_b                                                             \n",
       "boss                 759             1422                    990   \n",
       "incomplete          1576             2775                   1881   \n",
       "project              391              620                    476   \n",
       "\n",
       "source      youtube_channel_network  \n",
       "p_or_b                               \n",
       "boss                            780  \n",
       "incomplete                     1527  \n",
       "project                         379  "
      ]
     },
     "execution_count": 42,
     "metadata": {},
     "output_type": "execute_result"
    }
   ],
   "source": [
    "users_per_p_or_b_status_per_source = events.pivot_table(index='p_or_b', columns= 'source', values='user_id',\\\n",
    "                                                        aggfunc='nunique')\n",
    "users_per_p_or_b_status_per_source"
   ]
  },
  {
   "cell_type": "code",
   "execution_count": 43,
   "metadata": {},
   "outputs": [
    {
     "data": {
      "image/png": "[encoded data removed]",
      "text/plain": [
       "<Figure size 1152x576 with 4 Axes>"
      ]
     },
     "metadata": {},
     "output_type": "display_data"
    }
   ],
   "source": [
    "fig, axs = plt.subplots(nrows=2, ncols=2, figsize=(16, 8))\n",
    "\n",
    "axs[0, 0].pie(users_per_p_or_b_status_per_source['facebook_ads'], labels=users_per_p_or_b_status.index, autopct='%.0f%%')\n",
    "axs[0, 0].set_title('facebook_ads User Completion Proportions')\n",
    "\n",
    "axs[0, 1].pie(users_per_p_or_b_status_per_source['google_play_ads'], labels=users_per_p_or_b_status.index, autopct='%.0f%%')\n",
    "axs[0, 1].set_title('google_play_ads User Completion Proportions')\n",
    "\n",
    "axs[1, 0].pie(users_per_p_or_b_status_per_source['instagram_new_adverts'], labels=users_per_p_or_b_status.index, autopct='%.0f%%')\n",
    "axs[1, 0].set_title('instagram_new_adverts User Completion Proportions')\n",
    "\n",
    "axs[1, 1].pie(users_per_p_or_b_status_per_source['youtube_channel_network'], labels=users_per_p_or_b_status.index, autopct='%.0f%%')\n",
    "axs[1, 1].set_title('youtube_channel_network User Completion Proportions')\n",
    "\n",
    "plt.show()"
   ]
  },
  {
   "cell_type": "markdown",
   "metadata": {},
   "source": [
    "Here we see that facebook_ads and google_play_ads are the best performers for users who complete stage 1. instagram_new_adverts happens to be the worst. Overall, the results are very similar. We have not established whether \"project\" users or \"boss\" users are more preferable.\n",
    "\n",
    "Let's take a closer look at the proportions of stage 1 complete users for each source. We will take every user's first row, and average out the stage_1_completed column per source. We will show the results in a bar chart with a line representing the overall proportion."
   ]
  },
  {
   "cell_type": "code",
   "execution_count": 44,
   "metadata": {},
   "outputs": [
    {
     "data": {
      "text/html": [
       "<div>\n",
       "<style scoped>\n",
       "    .dataframe tbody tr th:only-of-type {\n",
       "        vertical-align: middle;\n",
       "    }\n",
       "\n",
       "    .dataframe tbody tr th {\n",
       "        vertical-align: top;\n",
       "    }\n",
       "\n",
       "    .dataframe thead th {\n",
       "        text-align: right;\n",
       "    }\n",
       "</style>\n",
       "<table border=\"1\" class=\"dataframe\">\n",
       "  <thead>\n",
       "    <tr style=\"text-align: right;\">\n",
       "      <th></th>\n",
       "      <th>stage_1_completed</th>\n",
       "    </tr>\n",
       "    <tr>\n",
       "      <th>source</th>\n",
       "      <th></th>\n",
       "    </tr>\n",
       "  </thead>\n",
       "  <tbody>\n",
       "    <tr>\n",
       "      <th>facebook_ads</th>\n",
       "      <td>0.421864</td>\n",
       "    </tr>\n",
       "    <tr>\n",
       "      <th>google_play_ads</th>\n",
       "      <td>0.423915</td>\n",
       "    </tr>\n",
       "    <tr>\n",
       "      <th>instagram_new_adverts</th>\n",
       "      <td>0.438004</td>\n",
       "    </tr>\n",
       "    <tr>\n",
       "      <th>youtube_channel_network</th>\n",
       "      <td>0.431497</td>\n",
       "    </tr>\n",
       "  </tbody>\n",
       "</table>\n",
       "</div>"
      ],
      "text/plain": [
       "                         stage_1_completed\n",
       "source                                    \n",
       "facebook_ads                      0.421864\n",
       "google_play_ads                   0.423915\n",
       "instagram_new_adverts             0.438004\n",
       "youtube_channel_network           0.431497"
      ]
     },
     "execution_count": 44,
     "metadata": {},
     "output_type": "execute_result"
    }
   ],
   "source": [
    "stage_1_completed_proportions = events.groupby('user_id').first().groupby('source').agg({'stage_1_completed' : 'mean'})\n",
    "stage_1_completed_proportions"
   ]
  },
  {
   "cell_type": "code",
   "execution_count": 45,
   "metadata": {},
   "outputs": [
    {
     "name": "stdout",
     "output_type": "stream",
     "text": [
      "Proportion of users who completed stage 1: 43%\n"
     ]
    }
   ],
   "source": [
    "users_complete_game_proportion = len(users_completed_stage_1) / events['user_id'].nunique()\n",
    "print('Proportion of users who completed stage 1: {:.0%}'.format(users_complete_game_proportion))"
   ]
  },
  {
   "cell_type": "code",
   "execution_count": 46,
   "metadata": {
    "scrolled": true
   },
   "outputs": [
    {
     "data": {
      "image/png": "[encoded data removed]",
      "text/plain": [
       "<Figure size 1152x576 with 1 Axes>"
      ]
     },
     "metadata": {
      "needs_background": "light"
     },
     "output_type": "display_data"
    }
   ],
   "source": [
    "plt.figure(figsize=(16, 8))\n",
    "plt.bar(stage_1_completed_proportions.index, stage_1_completed_proportions['stage_1_completed'])\n",
    "plt.title('Proportion of Users Completed Stage 1 per Source')\n",
    "plt.ylabel('Proportion_of_users_completed')\n",
    "plt.xlabel('source')\n",
    "plt.axhline(y=users_complete_game_proportion, color='r', linestyle='-')\n",
    "plt.show()"
   ]
  },
  {
   "cell_type": "markdown",
   "metadata": {},
   "source": [
    "Proportions are very similar across the board. However, we can see that some sources performed above average, and some did not."
   ]
  },
  {
   "cell_type": "markdown",
   "metadata": {},
   "source": [
    "### Events and object_type"
   ]
  },
  {
   "cell_type": "markdown",
   "metadata": {},
   "source": [
    "Let's take a look at the number of events per event type. We will use a pivot table and shows the results with p_or_b classifications for columns."
   ]
  },
  {
   "cell_type": "code",
   "execution_count": 47,
   "metadata": {},
   "outputs": [
    {
     "data": {
      "text/html": [
       "<div>\n",
       "<style scoped>\n",
       "    .dataframe tbody tr th:only-of-type {\n",
       "        vertical-align: middle;\n",
       "    }\n",
       "\n",
       "    .dataframe tbody tr th {\n",
       "        vertical-align: top;\n",
       "    }\n",
       "\n",
       "    .dataframe thead th {\n",
       "        text-align: right;\n",
       "    }\n",
       "</style>\n",
       "<table border=\"1\" class=\"dataframe\">\n",
       "  <thead>\n",
       "    <tr style=\"text-align: right;\">\n",
       "      <th>p_or_b</th>\n",
       "      <th>boss</th>\n",
       "      <th>incomplete</th>\n",
       "      <th>project</th>\n",
       "    </tr>\n",
       "    <tr>\n",
       "      <th>event</th>\n",
       "      <th></th>\n",
       "      <th></th>\n",
       "      <th></th>\n",
       "    </tr>\n",
       "  </thead>\n",
       "  <tbody>\n",
       "    <tr>\n",
       "      <th>building</th>\n",
       "      <td>37185.0</td>\n",
       "      <td>67170.0</td>\n",
       "      <td>23601.0</td>\n",
       "    </tr>\n",
       "    <tr>\n",
       "      <th>finished_stage_1</th>\n",
       "      <td>3951.0</td>\n",
       "      <td>NaN</td>\n",
       "      <td>1866.0</td>\n",
       "    </tr>\n",
       "    <tr>\n",
       "      <th>project</th>\n",
       "      <td>NaN</td>\n",
       "      <td>NaN</td>\n",
       "      <td>1866.0</td>\n",
       "    </tr>\n",
       "  </tbody>\n",
       "</table>\n",
       "</div>"
      ],
      "text/plain": [
       "p_or_b               boss  incomplete  project\n",
       "event                                         \n",
       "building          37185.0     67170.0  23601.0\n",
       "finished_stage_1   3951.0         NaN   1866.0\n",
       "project               NaN         NaN   1866.0"
      ]
     },
     "execution_count": 47,
     "metadata": {},
     "output_type": "execute_result"
    }
   ],
   "source": [
    "events.pivot_table(index='event', columns='p_or_b', values='event_datetime', aggfunc='count')"
   ]
  },
  {
   "cell_type": "markdown",
   "metadata": {},
   "source": [
    "Most events are \"building\" events. Users must encounter ads when building new objects. As such \"building\" events would make for a good target variable. However, the data is cut off after users complete stage 1 of the game. This means that there is a good likelihood that the users who have completed stage 1 will encounter further events. It seems like finished_stage_1 will be the best target variable, as these users are likely to have encountered many \"building\" events and are likely to encounter more in the future. We can also see here that \"project\" users tend to encounter the \"building\" event more than \"boss\" users. As such, it seems like \"project\" users are preferable.\n",
    "\n",
    "Let's take a look at the diastribution of object_types."
   ]
  },
  {
   "cell_type": "code",
   "execution_count": 48,
   "metadata": {},
   "outputs": [
    {
     "data": {
      "text/html": [
       "<div>\n",
       "<style scoped>\n",
       "    .dataframe tbody tr th:only-of-type {\n",
       "        vertical-align: middle;\n",
       "    }\n",
       "\n",
       "    .dataframe tbody tr th {\n",
       "        vertical-align: top;\n",
       "    }\n",
       "\n",
       "    .dataframe thead th {\n",
       "        text-align: right;\n",
       "    }\n",
       "</style>\n",
       "<table border=\"1\" class=\"dataframe\">\n",
       "  <thead>\n",
       "    <tr style=\"text-align: right;\">\n",
       "      <th>p_or_b</th>\n",
       "      <th>boss</th>\n",
       "      <th>incomplete</th>\n",
       "      <th>project</th>\n",
       "    </tr>\n",
       "    <tr>\n",
       "      <th>object_type</th>\n",
       "      <th></th>\n",
       "      <th></th>\n",
       "      <th></th>\n",
       "    </tr>\n",
       "  </thead>\n",
       "  <tbody>\n",
       "    <tr>\n",
       "      <th>assembly_shop</th>\n",
       "      <td>16298.0</td>\n",
       "      <td>29080.0</td>\n",
       "      <td>9116.0</td>\n",
       "    </tr>\n",
       "    <tr>\n",
       "      <th>research_center</th>\n",
       "      <td>3755.0</td>\n",
       "      <td>6685.0</td>\n",
       "      <td>3697.0</td>\n",
       "    </tr>\n",
       "    <tr>\n",
       "      <th>satellite_orbital_assembly</th>\n",
       "      <td>NaN</td>\n",
       "      <td>NaN</td>\n",
       "      <td>1866.0</td>\n",
       "    </tr>\n",
       "    <tr>\n",
       "      <th>spaceport</th>\n",
       "      <td>17132.0</td>\n",
       "      <td>31405.0</td>\n",
       "      <td>10788.0</td>\n",
       "    </tr>\n",
       "  </tbody>\n",
       "</table>\n",
       "</div>"
      ],
      "text/plain": [
       "p_or_b                         boss  incomplete  project\n",
       "object_type                                             \n",
       "assembly_shop               16298.0     29080.0   9116.0\n",
       "research_center              3755.0      6685.0   3697.0\n",
       "satellite_orbital_assembly      NaN         NaN   1866.0\n",
       "spaceport                   17132.0     31405.0  10788.0"
      ]
     },
     "execution_count": 48,
     "metadata": {},
     "output_type": "execute_result"
    }
   ],
   "source": [
    "events.pivot_table(index='object_type', columns='p_or_b', values='event_datetime', aggfunc='count')"
   ]
  },
  {
   "cell_type": "markdown",
   "metadata": {},
   "source": [
    "As noticed above, the satellite_orbital_assembly coincides with the project event. The remaining object types have varying quantities, but they are all desirable as we know the users will encounter adds when selecting one of these building types. Let's move on to take a closer look at the \"building\" events."
   ]
  },
  {
   "cell_type": "markdown",
   "metadata": {},
   "source": [
    "### \"Building\" Events Encountered"
   ]
  },
  {
   "cell_type": "markdown",
   "metadata": {},
   "source": [
    "The users will encounter ads when they encounter the \"building\" event. As such, this is a target variable. Let's take a look to see how many \"building\" events users encountered on average. To do this, we will first make a slice of all building events and create a table based on that slice which shows the total events per user along with the p_or_b classification."
   ]
  },
  {
   "cell_type": "code",
   "execution_count": 49,
   "metadata": {},
   "outputs": [
    {
     "data": {
      "text/html": [
       "<div>\n",
       "<style scoped>\n",
       "    .dataframe tbody tr th:only-of-type {\n",
       "        vertical-align: middle;\n",
       "    }\n",
       "\n",
       "    .dataframe tbody tr th {\n",
       "        vertical-align: top;\n",
       "    }\n",
       "\n",
       "    .dataframe thead th {\n",
       "        text-align: right;\n",
       "    }\n",
       "</style>\n",
       "<table border=\"1\" class=\"dataframe\">\n",
       "  <thead>\n",
       "    <tr style=\"text-align: right;\">\n",
       "      <th></th>\n",
       "      <th>event_datetime</th>\n",
       "      <th>p_or_b</th>\n",
       "      <th>source</th>\n",
       "    </tr>\n",
       "    <tr>\n",
       "      <th>user_id</th>\n",
       "      <th></th>\n",
       "      <th></th>\n",
       "      <th></th>\n",
       "    </tr>\n",
       "  </thead>\n",
       "  <tbody>\n",
       "    <tr>\n",
       "      <th>0001f83c-c6ac-4621-b7f0-8a28b283ac30</th>\n",
       "      <td>13</td>\n",
       "      <td>incomplete</td>\n",
       "      <td>facebook_ads</td>\n",
       "    </tr>\n",
       "    <tr>\n",
       "      <th>00151b4f-ba38-44a8-a650-d7cf130a0105</th>\n",
       "      <td>9</td>\n",
       "      <td>incomplete</td>\n",
       "      <td>google_play_ads</td>\n",
       "    </tr>\n",
       "    <tr>\n",
       "      <th>001aaea6-3d14-43f1-8ca8-7f48820f17aa</th>\n",
       "      <td>4</td>\n",
       "      <td>incomplete</td>\n",
       "      <td>youtube_channel_network</td>\n",
       "    </tr>\n",
       "    <tr>\n",
       "      <th>001d39dc-366c-4021-9604-6a3b9ff01e25</th>\n",
       "      <td>8</td>\n",
       "      <td>boss</td>\n",
       "      <td>instagram_new_adverts</td>\n",
       "    </tr>\n",
       "    <tr>\n",
       "      <th>002f508f-67b6-479f-814b-b05f00d4e995</th>\n",
       "      <td>12</td>\n",
       "      <td>incomplete</td>\n",
       "      <td>facebook_ads</td>\n",
       "    </tr>\n",
       "  </tbody>\n",
       "</table>\n",
       "</div>"
      ],
      "text/plain": [
       "                                      event_datetime      p_or_b  \\\n",
       "user_id                                                            \n",
       "0001f83c-c6ac-4621-b7f0-8a28b283ac30              13  incomplete   \n",
       "00151b4f-ba38-44a8-a650-d7cf130a0105               9  incomplete   \n",
       "001aaea6-3d14-43f1-8ca8-7f48820f17aa               4  incomplete   \n",
       "001d39dc-366c-4021-9604-6a3b9ff01e25               8        boss   \n",
       "002f508f-67b6-479f-814b-b05f00d4e995              12  incomplete   \n",
       "\n",
       "                                                       source  \n",
       "user_id                                                        \n",
       "0001f83c-c6ac-4621-b7f0-8a28b283ac30             facebook_ads  \n",
       "00151b4f-ba38-44a8-a650-d7cf130a0105          google_play_ads  \n",
       "001aaea6-3d14-43f1-8ca8-7f48820f17aa  youtube_channel_network  \n",
       "001d39dc-366c-4021-9604-6a3b9ff01e25    instagram_new_adverts  \n",
       "002f508f-67b6-479f-814b-b05f00d4e995             facebook_ads  "
      ]
     },
     "execution_count": 49,
     "metadata": {},
     "output_type": "execute_result"
    }
   ],
   "source": [
    "building_events_all = events.loc[events.loc[:,'event'] == 'building']\n",
    "buildings_per_user = building_events_all.groupby('user_id').agg({'event_datetime' : 'count', 'p_or_b' : 'first',\\\n",
    "                                                                 'source' : 'first'})\n",
    "\n",
    "buildings_per_user.head()"
   ]
  },
  {
   "cell_type": "markdown",
   "metadata": {},
   "source": [
    "Now let's take a look at the distribution in a histogram."
   ]
  },
  {
   "cell_type": "code",
   "execution_count": 50,
   "metadata": {},
   "outputs": [
    {
     "data": {
      "image/png": "[encoded data removed]",
      "text/plain": [
       "<Figure size 1152x576 with 1 Axes>"
      ]
     },
     "metadata": {
      "needs_background": "light"
     },
     "output_type": "display_data"
    }
   ],
   "source": [
    "plt.figure(figsize=(16, 8))\n",
    "plt.hist(data=buildings_per_user.loc[buildings_per_user.loc[:,'p_or_b'] == 'incomplete'], x='event_datetime', bins=(10), alpha=0.5)\n",
    "plt.hist(data=buildings_per_user.loc[buildings_per_user.loc[:,'p_or_b'] != 'incomplete'], x='event_datetime', bins=(10), alpha=0.5)\n",
    "plt.title('Building Events Per User')\n",
    "plt.ylabel('users')\n",
    "plt.xlabel('events')\n",
    "plt.legend(labels=['users_completed_stage_1', 'users_not_completed_stage_1'])\n",
    "plt.show()"
   ]
  },
  {
   "cell_type": "markdown",
   "metadata": {},
   "source": [
    "We can see clearly here that users who complete stage 1 tend to complete many more building events than users who did not complete stage 1. Many of the \"incomplete\" users peak at 6 buildings and drop off immediately. Completed users peak around (12) events.\n",
    "\n",
    "Before we continue, let's run a boxplot to see the where most of the values lie and whether or not their are outliers. We will base it on the following buildings_per_user table."
   ]
  },
  {
   "cell_type": "code",
   "execution_count": 51,
   "metadata": {},
   "outputs": [
    {
     "name": "stdout",
     "output_type": "stream",
     "text": [
      "Events Per User Boxplot\n"
     ]
    },
    {
     "data": {
      "text/plain": [
       "<Figure size 1152x576 with 0 Axes>"
      ]
     },
     "metadata": {},
     "output_type": "display_data"
    },
    {
     "data": {
      "image/png": "[encoded data removed]",
      "text/plain": [
       "<Figure size 432x288 with 1 Axes>"
      ]
     },
     "metadata": {
      "needs_background": "light"
     },
     "output_type": "display_data"
    }
   ],
   "source": [
    "print('Events Per User Boxplot')\n",
    "plt.figure(figsize=(16, 8))\n",
    "buildings_per_user.boxplot(column='event_datetime', by='p_or_b')\n",
    "plt.title(' ', y=1.1)\n",
    "plt.ylabel('events')\n",
    "plt.show()"
   ]
  },
  {
   "cell_type": "markdown",
   "metadata": {},
   "source": [
    "Most users fall within 5 to 13 \"building\" events. \"incomplete\" has a wider range because it include many more users. There are a couple outliers for the \"project\" and \"boss\" groups. Let's remove those so that we can compare them . Now, let's make two more slices of data from the \"building\" events of those who completed and did not complete the first stage of the game. To do this, we will create a dictionary of all the outliers."
   ]
  },
  {
   "cell_type": "code",
   "execution_count": 52,
   "metadata": {},
   "outputs": [
    {
     "data": {
      "text/html": [
       "<div>\n",
       "<style scoped>\n",
       "    .dataframe tbody tr th:only-of-type {\n",
       "        vertical-align: middle;\n",
       "    }\n",
       "\n",
       "    .dataframe tbody tr th {\n",
       "        vertical-align: top;\n",
       "    }\n",
       "\n",
       "    .dataframe thead th {\n",
       "        text-align: right;\n",
       "    }\n",
       "</style>\n",
       "<table border=\"1\" class=\"dataframe\">\n",
       "  <thead>\n",
       "    <tr style=\"text-align: right;\">\n",
       "      <th></th>\n",
       "      <th>event_datetime</th>\n",
       "      <th>p_or_b</th>\n",
       "      <th>source</th>\n",
       "    </tr>\n",
       "    <tr>\n",
       "      <th>user_id</th>\n",
       "      <th></th>\n",
       "      <th></th>\n",
       "      <th></th>\n",
       "    </tr>\n",
       "  </thead>\n",
       "  <tbody>\n",
       "    <tr>\n",
       "      <th>296c14d6-34a8-4cc9-8b87-80c089e3ebdb</th>\n",
       "      <td>19</td>\n",
       "      <td>project</td>\n",
       "      <td>instagram_new_adverts</td>\n",
       "    </tr>\n",
       "    <tr>\n",
       "      <th>2f4c1905-e7c9-4b75-b265-1d80abf49f1d</th>\n",
       "      <td>19</td>\n",
       "      <td>project</td>\n",
       "      <td>instagram_new_adverts</td>\n",
       "    </tr>\n",
       "    <tr>\n",
       "      <th>3e5208a6-e373-4246-b2f5-a8a5ee2350f1</th>\n",
       "      <td>19</td>\n",
       "      <td>project</td>\n",
       "      <td>youtube_channel_network</td>\n",
       "    </tr>\n",
       "    <tr>\n",
       "      <th>45935e5d-8f50-4176-83d3-fd545bb2015f</th>\n",
       "      <td>19</td>\n",
       "      <td>project</td>\n",
       "      <td>facebook_ads</td>\n",
       "    </tr>\n",
       "    <tr>\n",
       "      <th>4f57b9dc-faa4-4ced-8c6f-1098d612438c</th>\n",
       "      <td>19</td>\n",
       "      <td>project</td>\n",
       "      <td>google_play_ads</td>\n",
       "    </tr>\n",
       "  </tbody>\n",
       "</table>\n",
       "</div>"
      ],
      "text/plain": [
       "                                      event_datetime   p_or_b  \\\n",
       "user_id                                                         \n",
       "296c14d6-34a8-4cc9-8b87-80c089e3ebdb              19  project   \n",
       "2f4c1905-e7c9-4b75-b265-1d80abf49f1d              19  project   \n",
       "3e5208a6-e373-4246-b2f5-a8a5ee2350f1              19  project   \n",
       "45935e5d-8f50-4176-83d3-fd545bb2015f              19  project   \n",
       "4f57b9dc-faa4-4ced-8c6f-1098d612438c              19  project   \n",
       "\n",
       "                                                       source  \n",
       "user_id                                                        \n",
       "296c14d6-34a8-4cc9-8b87-80c089e3ebdb    instagram_new_adverts  \n",
       "2f4c1905-e7c9-4b75-b265-1d80abf49f1d    instagram_new_adverts  \n",
       "3e5208a6-e373-4246-b2f5-a8a5ee2350f1  youtube_channel_network  \n",
       "45935e5d-8f50-4176-83d3-fd545bb2015f             facebook_ads  \n",
       "4f57b9dc-faa4-4ced-8c6f-1098d612438c          google_play_ads  "
      ]
     },
     "execution_count": 52,
     "metadata": {},
     "output_type": "execute_result"
    }
   ],
   "source": [
    "outliers = buildings_per_user.loc[(buildings_per_user.loc[:,'p_or_b'] != 'incomplete') &\\\n",
    "                                  (buildings_per_user.loc[:,'event_datetime'] > 18)]\n",
    "outliers.head()"
   ]
  },
  {
   "cell_type": "markdown",
   "metadata": {},
   "source": [
    "Now, let's create a for loop to remove all the outliers."
   ]
  },
  {
   "cell_type": "code",
   "execution_count": 53,
   "metadata": {},
   "outputs": [],
   "source": [
    "for user_id in outliers.index:\n",
    "    events = events.loc[events.loc[:,'user_id'] != user_id]"
   ]
  },
  {
   "cell_type": "markdown",
   "metadata": {},
   "source": [
    "Now we will create our buildings_per_user again to run histograms for the \"project\" and \"boss\" classifications."
   ]
  },
  {
   "cell_type": "code",
   "execution_count": 54,
   "metadata": {},
   "outputs": [
    {
     "data": {
      "text/html": [
       "<div>\n",
       "<style scoped>\n",
       "    .dataframe tbody tr th:only-of-type {\n",
       "        vertical-align: middle;\n",
       "    }\n",
       "\n",
       "    .dataframe tbody tr th {\n",
       "        vertical-align: top;\n",
       "    }\n",
       "\n",
       "    .dataframe thead th {\n",
       "        text-align: right;\n",
       "    }\n",
       "</style>\n",
       "<table border=\"1\" class=\"dataframe\">\n",
       "  <thead>\n",
       "    <tr style=\"text-align: right;\">\n",
       "      <th></th>\n",
       "      <th>event_datetime</th>\n",
       "      <th>p_or_b</th>\n",
       "      <th>source</th>\n",
       "    </tr>\n",
       "    <tr>\n",
       "      <th>user_id</th>\n",
       "      <th></th>\n",
       "      <th></th>\n",
       "      <th></th>\n",
       "    </tr>\n",
       "  </thead>\n",
       "  <tbody>\n",
       "    <tr>\n",
       "      <th>0001f83c-c6ac-4621-b7f0-8a28b283ac30</th>\n",
       "      <td>13</td>\n",
       "      <td>incomplete</td>\n",
       "      <td>facebook_ads</td>\n",
       "    </tr>\n",
       "    <tr>\n",
       "      <th>00151b4f-ba38-44a8-a650-d7cf130a0105</th>\n",
       "      <td>9</td>\n",
       "      <td>incomplete</td>\n",
       "      <td>google_play_ads</td>\n",
       "    </tr>\n",
       "    <tr>\n",
       "      <th>001aaea6-3d14-43f1-8ca8-7f48820f17aa</th>\n",
       "      <td>4</td>\n",
       "      <td>incomplete</td>\n",
       "      <td>youtube_channel_network</td>\n",
       "    </tr>\n",
       "    <tr>\n",
       "      <th>001d39dc-366c-4021-9604-6a3b9ff01e25</th>\n",
       "      <td>8</td>\n",
       "      <td>boss</td>\n",
       "      <td>instagram_new_adverts</td>\n",
       "    </tr>\n",
       "    <tr>\n",
       "      <th>002f508f-67b6-479f-814b-b05f00d4e995</th>\n",
       "      <td>12</td>\n",
       "      <td>incomplete</td>\n",
       "      <td>facebook_ads</td>\n",
       "    </tr>\n",
       "  </tbody>\n",
       "</table>\n",
       "</div>"
      ],
      "text/plain": [
       "                                      event_datetime      p_or_b  \\\n",
       "user_id                                                            \n",
       "0001f83c-c6ac-4621-b7f0-8a28b283ac30              13  incomplete   \n",
       "00151b4f-ba38-44a8-a650-d7cf130a0105               9  incomplete   \n",
       "001aaea6-3d14-43f1-8ca8-7f48820f17aa               4  incomplete   \n",
       "001d39dc-366c-4021-9604-6a3b9ff01e25               8        boss   \n",
       "002f508f-67b6-479f-814b-b05f00d4e995              12  incomplete   \n",
       "\n",
       "                                                       source  \n",
       "user_id                                                        \n",
       "0001f83c-c6ac-4621-b7f0-8a28b283ac30             facebook_ads  \n",
       "00151b4f-ba38-44a8-a650-d7cf130a0105          google_play_ads  \n",
       "001aaea6-3d14-43f1-8ca8-7f48820f17aa  youtube_channel_network  \n",
       "001d39dc-366c-4021-9604-6a3b9ff01e25    instagram_new_adverts  \n",
       "002f508f-67b6-479f-814b-b05f00d4e995             facebook_ads  "
      ]
     },
     "execution_count": 54,
     "metadata": {},
     "output_type": "execute_result"
    }
   ],
   "source": [
    "building_events_all = events.loc[events.loc[:,'event'] == 'building']\n",
    "building_events_all\n",
    "\n",
    "buildings_per_user = building_events_all.groupby('user_id').agg({'event_datetime' : 'count', 'p_or_b' : 'first',\\\n",
    "                                                                 'source' : 'first'})\n",
    "\n",
    "buildings_per_user.head()"
   ]
  },
  {
   "cell_type": "code",
   "execution_count": 55,
   "metadata": {},
   "outputs": [
    {
     "data": {
      "image/png": "[encoded data removed]",
      "text/plain": [
       "<Figure size 1152x576 with 1 Axes>"
      ]
     },
     "metadata": {
      "needs_background": "light"
     },
     "output_type": "display_data"
    }
   ],
   "source": [
    "plt.figure(figsize=(16, 8))\n",
    "plt.hist(data=buildings_per_user.loc[buildings_per_user.loc[:,'p_or_b'] == 'project'], x='event_datetime', bins=(10), alpha=0.5)\n",
    "plt.hist(data=buildings_per_user.loc[buildings_per_user.loc[:,'p_or_b'] == 'boss'], x='event_datetime', bins=(10), alpha=0.5)\n",
    "plt.title('Building Events Per User')\n",
    "plt.ylabel('users')\n",
    "plt.xlabel('events')\n",
    "plt.legend(labels=['project', 'boss'])\n",
    "plt.show()"
   ]
  },
  {
   "cell_type": "markdown",
   "metadata": {},
   "source": [
    "We can see here that users are much more likely to complete more \"building\" events if they are in the \"project\" group. Both groups peak around (11). However, \"boss\" has a negative skew, while \"project\" has a positive skew. Users must find it more exciting to win by defeating the boss. However, it seems that they will be exposed to more adds if they take the \"project\" route.\n",
    "\n",
    "Let's take a look at what the average \"building\" event per user and source, and display it on a bar chart with a line indicating the overall average."
   ]
  },
  {
   "cell_type": "code",
   "execution_count": 56,
   "metadata": {},
   "outputs": [
    {
     "data": {
      "text/html": [
       "<div>\n",
       "<style scoped>\n",
       "    .dataframe tbody tr th:only-of-type {\n",
       "        vertical-align: middle;\n",
       "    }\n",
       "\n",
       "    .dataframe tbody tr th {\n",
       "        vertical-align: top;\n",
       "    }\n",
       "\n",
       "    .dataframe thead th {\n",
       "        text-align: right;\n",
       "    }\n",
       "</style>\n",
       "<table border=\"1\" class=\"dataframe\">\n",
       "  <thead>\n",
       "    <tr style=\"text-align: right;\">\n",
       "      <th></th>\n",
       "      <th>event_datetime</th>\n",
       "    </tr>\n",
       "    <tr>\n",
       "      <th>source</th>\n",
       "      <th></th>\n",
       "    </tr>\n",
       "  </thead>\n",
       "  <tbody>\n",
       "    <tr>\n",
       "      <th>facebook_ads</th>\n",
       "      <td>9.568173</td>\n",
       "    </tr>\n",
       "    <tr>\n",
       "      <th>google_play_ads</th>\n",
       "      <td>9.338529</td>\n",
       "    </tr>\n",
       "    <tr>\n",
       "      <th>instagram_new_adverts</th>\n",
       "      <td>9.496711</td>\n",
       "    </tr>\n",
       "    <tr>\n",
       "      <th>youtube_channel_network</th>\n",
       "      <td>9.280865</td>\n",
       "    </tr>\n",
       "  </tbody>\n",
       "</table>\n",
       "</div>"
      ],
      "text/plain": [
       "                         event_datetime\n",
       "source                                 \n",
       "facebook_ads                   9.568173\n",
       "google_play_ads                9.338529\n",
       "instagram_new_adverts          9.496711\n",
       "youtube_channel_network        9.280865"
      ]
     },
     "execution_count": 56,
     "metadata": {},
     "output_type": "execute_result"
    }
   ],
   "source": [
    "building_events_per_user_and_source = buildings_per_user.groupby('source').agg({'event_datetime' : 'mean'})\n",
    "building_events_per_user_and_source"
   ]
  },
  {
   "cell_type": "code",
   "execution_count": 57,
   "metadata": {},
   "outputs": [
    {
     "name": "stdout",
     "output_type": "stream",
     "text": [
      "Average \"building\" events per user:  9.412228942321876\n"
     ]
    }
   ],
   "source": [
    "building_events_per_user = buildings_per_user['event_datetime'].mean()\n",
    "print('Average \"building\" events per user: ', building_events_per_user)"
   ]
  },
  {
   "cell_type": "code",
   "execution_count": 58,
   "metadata": {
    "scrolled": true
   },
   "outputs": [
    {
     "data": {
      "image/png": "[encoded data removed]",
      "text/plain": [
       "<Figure size 1152x576 with 1 Axes>"
      ]
     },
     "metadata": {
      "needs_background": "light"
     },
     "output_type": "display_data"
    }
   ],
   "source": [
    "plt.figure(figsize=(16, 8))\n",
    "plt.bar(building_events_per_user_and_source.index, building_events_per_user_and_source['event_datetime'])\n",
    "plt.title('Average Building Events per User')\n",
    "plt.ylabel('average_building_events_per_user')\n",
    "plt.xlabel('source')\n",
    "plt.axhline(y=building_events_per_user, color='r', linestyle='-')\n",
    "plt.show()"
   ]
  },
  {
   "cell_type": "markdown",
   "metadata": {},
   "source": [
    "The average user encountered around 9 \"building\" events. facebook_ads and instagram_new_adverts are above average, but all sources are near the overall average.\n",
    "\n",
    "Let's move on to look at users per day."
   ]
  },
  {
   "cell_type": "markdown",
   "metadata": {},
   "source": [
    "### Users Per Day"
   ]
  },
  {
   "cell_type": "markdown",
   "metadata": {},
   "source": [
    "Let's calculate the daily active users for each source using a pivot table and plot a histogram to see the distribution."
   ]
  },
  {
   "cell_type": "code",
   "execution_count": 59,
   "metadata": {
    "scrolled": true
   },
   "outputs": [
    {
     "data": {
      "text/html": [
       "<div>\n",
       "<style scoped>\n",
       "    .dataframe tbody tr th:only-of-type {\n",
       "        vertical-align: middle;\n",
       "    }\n",
       "\n",
       "    .dataframe tbody tr th {\n",
       "        vertical-align: top;\n",
       "    }\n",
       "\n",
       "    .dataframe thead th {\n",
       "        text-align: right;\n",
       "    }\n",
       "</style>\n",
       "<table border=\"1\" class=\"dataframe\">\n",
       "  <thead>\n",
       "    <tr style=\"text-align: right;\">\n",
       "      <th>source</th>\n",
       "      <th>facebook_ads</th>\n",
       "      <th>google_play_ads</th>\n",
       "      <th>instagram_new_adverts</th>\n",
       "      <th>youtube_channel_network</th>\n",
       "    </tr>\n",
       "    <tr>\n",
       "      <th>event_date</th>\n",
       "      <th></th>\n",
       "      <th></th>\n",
       "      <th></th>\n",
       "      <th></th>\n",
       "    </tr>\n",
       "  </thead>\n",
       "  <tbody>\n",
       "    <tr>\n",
       "      <th>2020-05-04</th>\n",
       "      <td>1182.0</td>\n",
       "      <td>2074.0</td>\n",
       "      <td>1449.0</td>\n",
       "      <td>1143.0</td>\n",
       "    </tr>\n",
       "    <tr>\n",
       "      <th>2020-05-05</th>\n",
       "      <td>1323.0</td>\n",
       "      <td>2289.0</td>\n",
       "      <td>1537.0</td>\n",
       "      <td>1220.0</td>\n",
       "    </tr>\n",
       "    <tr>\n",
       "      <th>2020-05-06</th>\n",
       "      <td>1385.0</td>\n",
       "      <td>2440.0</td>\n",
       "      <td>1669.0</td>\n",
       "      <td>1347.0</td>\n",
       "    </tr>\n",
       "    <tr>\n",
       "      <th>2020-05-07</th>\n",
       "      <td>1530.0</td>\n",
       "      <td>2609.0</td>\n",
       "      <td>1800.0</td>\n",
       "      <td>1429.0</td>\n",
       "    </tr>\n",
       "    <tr>\n",
       "      <th>2020-05-08</th>\n",
       "      <td>1578.0</td>\n",
       "      <td>2781.0</td>\n",
       "      <td>1960.0</td>\n",
       "      <td>1557.0</td>\n",
       "    </tr>\n",
       "    <tr>\n",
       "      <th>2020-05-09</th>\n",
       "      <td>1696.0</td>\n",
       "      <td>2953.0</td>\n",
       "      <td>2074.0</td>\n",
       "      <td>1654.0</td>\n",
       "    </tr>\n",
       "    <tr>\n",
       "      <th>2020-05-10</th>\n",
       "      <td>1855.0</td>\n",
       "      <td>3266.0</td>\n",
       "      <td>2298.0</td>\n",
       "      <td>1782.0</td>\n",
       "    </tr>\n",
       "    <tr>\n",
       "      <th>2020-05-11</th>\n",
       "      <td>1275.0</td>\n",
       "      <td>2161.0</td>\n",
       "      <td>1429.0</td>\n",
       "      <td>1117.0</td>\n",
       "    </tr>\n",
       "    <tr>\n",
       "      <th>2020-05-12</th>\n",
       "      <td>1149.0</td>\n",
       "      <td>2027.0</td>\n",
       "      <td>1455.0</td>\n",
       "      <td>1132.0</td>\n",
       "    </tr>\n",
       "    <tr>\n",
       "      <th>2020-05-13</th>\n",
       "      <td>1129.0</td>\n",
       "      <td>1951.0</td>\n",
       "      <td>1443.0</td>\n",
       "      <td>1095.0</td>\n",
       "    </tr>\n",
       "    <tr>\n",
       "      <th>2020-05-14</th>\n",
       "      <td>1007.0</td>\n",
       "      <td>1847.0</td>\n",
       "      <td>1272.0</td>\n",
       "      <td>965.0</td>\n",
       "    </tr>\n",
       "    <tr>\n",
       "      <th>2020-05-15</th>\n",
       "      <td>896.0</td>\n",
       "      <td>1517.0</td>\n",
       "      <td>1173.0</td>\n",
       "      <td>892.0</td>\n",
       "    </tr>\n",
       "    <tr>\n",
       "      <th>2020-05-16</th>\n",
       "      <td>750.0</td>\n",
       "      <td>1396.0</td>\n",
       "      <td>969.0</td>\n",
       "      <td>748.0</td>\n",
       "    </tr>\n",
       "    <tr>\n",
       "      <th>2020-05-17</th>\n",
       "      <td>631.0</td>\n",
       "      <td>1063.0</td>\n",
       "      <td>717.0</td>\n",
       "      <td>634.0</td>\n",
       "    </tr>\n",
       "    <tr>\n",
       "      <th>2020-05-18</th>\n",
       "      <td>431.0</td>\n",
       "      <td>786.0</td>\n",
       "      <td>576.0</td>\n",
       "      <td>457.0</td>\n",
       "    </tr>\n",
       "    <tr>\n",
       "      <th>2020-05-19</th>\n",
       "      <td>365.0</td>\n",
       "      <td>660.0</td>\n",
       "      <td>458.0</td>\n",
       "      <td>364.0</td>\n",
       "    </tr>\n",
       "    <tr>\n",
       "      <th>2020-05-20</th>\n",
       "      <td>325.0</td>\n",
       "      <td>487.0</td>\n",
       "      <td>373.0</td>\n",
       "      <td>291.0</td>\n",
       "    </tr>\n",
       "    <tr>\n",
       "      <th>2020-05-21</th>\n",
       "      <td>223.0</td>\n",
       "      <td>355.0</td>\n",
       "      <td>283.0</td>\n",
       "      <td>215.0</td>\n",
       "    </tr>\n",
       "    <tr>\n",
       "      <th>2020-05-22</th>\n",
       "      <td>160.0</td>\n",
       "      <td>266.0</td>\n",
       "      <td>189.0</td>\n",
       "      <td>148.0</td>\n",
       "    </tr>\n",
       "    <tr>\n",
       "      <th>2020-05-23</th>\n",
       "      <td>111.0</td>\n",
       "      <td>184.0</td>\n",
       "      <td>142.0</td>\n",
       "      <td>111.0</td>\n",
       "    </tr>\n",
       "    <tr>\n",
       "      <th>2020-05-24</th>\n",
       "      <td>72.0</td>\n",
       "      <td>147.0</td>\n",
       "      <td>100.0</td>\n",
       "      <td>81.0</td>\n",
       "    </tr>\n",
       "    <tr>\n",
       "      <th>2020-05-25</th>\n",
       "      <td>64.0</td>\n",
       "      <td>99.0</td>\n",
       "      <td>81.0</td>\n",
       "      <td>60.0</td>\n",
       "    </tr>\n",
       "    <tr>\n",
       "      <th>2020-05-26</th>\n",
       "      <td>40.0</td>\n",
       "      <td>66.0</td>\n",
       "      <td>59.0</td>\n",
       "      <td>39.0</td>\n",
       "    </tr>\n",
       "    <tr>\n",
       "      <th>2020-05-27</th>\n",
       "      <td>30.0</td>\n",
       "      <td>51.0</td>\n",
       "      <td>34.0</td>\n",
       "      <td>24.0</td>\n",
       "    </tr>\n",
       "    <tr>\n",
       "      <th>2020-05-28</th>\n",
       "      <td>20.0</td>\n",
       "      <td>29.0</td>\n",
       "      <td>26.0</td>\n",
       "      <td>16.0</td>\n",
       "    </tr>\n",
       "    <tr>\n",
       "      <th>2020-05-29</th>\n",
       "      <td>12.0</td>\n",
       "      <td>22.0</td>\n",
       "      <td>23.0</td>\n",
       "      <td>8.0</td>\n",
       "    </tr>\n",
       "    <tr>\n",
       "      <th>2020-05-30</th>\n",
       "      <td>7.0</td>\n",
       "      <td>12.0</td>\n",
       "      <td>10.0</td>\n",
       "      <td>7.0</td>\n",
       "    </tr>\n",
       "    <tr>\n",
       "      <th>2020-05-31</th>\n",
       "      <td>6.0</td>\n",
       "      <td>5.0</td>\n",
       "      <td>4.0</td>\n",
       "      <td>7.0</td>\n",
       "    </tr>\n",
       "    <tr>\n",
       "      <th>2020-06-01</th>\n",
       "      <td>4.0</td>\n",
       "      <td>8.0</td>\n",
       "      <td>2.0</td>\n",
       "      <td>2.0</td>\n",
       "    </tr>\n",
       "    <tr>\n",
       "      <th>2020-06-02</th>\n",
       "      <td>1.0</td>\n",
       "      <td>3.0</td>\n",
       "      <td>4.0</td>\n",
       "      <td>3.0</td>\n",
       "    </tr>\n",
       "    <tr>\n",
       "      <th>2020-06-03</th>\n",
       "      <td>4.0</td>\n",
       "      <td>2.0</td>\n",
       "      <td>1.0</td>\n",
       "      <td>2.0</td>\n",
       "    </tr>\n",
       "    <tr>\n",
       "      <th>2020-06-04</th>\n",
       "      <td>3.0</td>\n",
       "      <td>3.0</td>\n",
       "      <td>1.0</td>\n",
       "      <td>NaN</td>\n",
       "    </tr>\n",
       "    <tr>\n",
       "      <th>2020-06-05</th>\n",
       "      <td>1.0</td>\n",
       "      <td>1.0</td>\n",
       "      <td>1.0</td>\n",
       "      <td>1.0</td>\n",
       "    </tr>\n",
       "  </tbody>\n",
       "</table>\n",
       "</div>"
      ],
      "text/plain": [
       "source      facebook_ads  google_play_ads  instagram_new_adverts  \\\n",
       "event_date                                                         \n",
       "2020-05-04        1182.0           2074.0                 1449.0   \n",
       "2020-05-05        1323.0           2289.0                 1537.0   \n",
       "2020-05-06        1385.0           2440.0                 1669.0   \n",
       "2020-05-07        1530.0           2609.0                 1800.0   \n",
       "2020-05-08        1578.0           2781.0                 1960.0   \n",
       "2020-05-09        1696.0           2953.0                 2074.0   \n",
       "2020-05-10        1855.0           3266.0                 2298.0   \n",
       "2020-05-11        1275.0           2161.0                 1429.0   \n",
       "2020-05-12        1149.0           2027.0                 1455.0   \n",
       "2020-05-13        1129.0           1951.0                 1443.0   \n",
       "2020-05-14        1007.0           1847.0                 1272.0   \n",
       "2020-05-15         896.0           1517.0                 1173.0   \n",
       "2020-05-16         750.0           1396.0                  969.0   \n",
       "2020-05-17         631.0           1063.0                  717.0   \n",
       "2020-05-18         431.0            786.0                  576.0   \n",
       "2020-05-19         365.0            660.0                  458.0   \n",
       "2020-05-20         325.0            487.0                  373.0   \n",
       "2020-05-21         223.0            355.0                  283.0   \n",
       "2020-05-22         160.0            266.0                  189.0   \n",
       "2020-05-23         111.0            184.0                  142.0   \n",
       "2020-05-24          72.0            147.0                  100.0   \n",
       "2020-05-25          64.0             99.0                   81.0   \n",
       "2020-05-26          40.0             66.0                   59.0   \n",
       "2020-05-27          30.0             51.0                   34.0   \n",
       "2020-05-28          20.0             29.0                   26.0   \n",
       "2020-05-29          12.0             22.0                   23.0   \n",
       "2020-05-30           7.0             12.0                   10.0   \n",
       "2020-05-31           6.0              5.0                    4.0   \n",
       "2020-06-01           4.0              8.0                    2.0   \n",
       "2020-06-02           1.0              3.0                    4.0   \n",
       "2020-06-03           4.0              2.0                    1.0   \n",
       "2020-06-04           3.0              3.0                    1.0   \n",
       "2020-06-05           1.0              1.0                    1.0   \n",
       "\n",
       "source      youtube_channel_network  \n",
       "event_date                           \n",
       "2020-05-04                   1143.0  \n",
       "2020-05-05                   1220.0  \n",
       "2020-05-06                   1347.0  \n",
       "2020-05-07                   1429.0  \n",
       "2020-05-08                   1557.0  \n",
       "2020-05-09                   1654.0  \n",
       "2020-05-10                   1782.0  \n",
       "2020-05-11                   1117.0  \n",
       "2020-05-12                   1132.0  \n",
       "2020-05-13                   1095.0  \n",
       "2020-05-14                    965.0  \n",
       "2020-05-15                    892.0  \n",
       "2020-05-16                    748.0  \n",
       "2020-05-17                    634.0  \n",
       "2020-05-18                    457.0  \n",
       "2020-05-19                    364.0  \n",
       "2020-05-20                    291.0  \n",
       "2020-05-21                    215.0  \n",
       "2020-05-22                    148.0  \n",
       "2020-05-23                    111.0  \n",
       "2020-05-24                     81.0  \n",
       "2020-05-25                     60.0  \n",
       "2020-05-26                     39.0  \n",
       "2020-05-27                     24.0  \n",
       "2020-05-28                     16.0  \n",
       "2020-05-29                      8.0  \n",
       "2020-05-30                      7.0  \n",
       "2020-05-31                      7.0  \n",
       "2020-06-01                      2.0  \n",
       "2020-06-02                      3.0  \n",
       "2020-06-03                      2.0  \n",
       "2020-06-04                      NaN  \n",
       "2020-06-05                      1.0  "
      ]
     },
     "execution_count": 59,
     "metadata": {},
     "output_type": "execute_result"
    }
   ],
   "source": [
    "users_per_day = events.pivot_table(index='event_date', columns='source', values='user_id', aggfunc='nunique')\n",
    "users_per_day"
   ]
  },
  {
   "cell_type": "code",
   "execution_count": 60,
   "metadata": {},
   "outputs": [
    {
     "data": {
      "image/png": "[encoded data removed]",
      "text/plain": [
       "<Figure size 1152x576 with 1 Axes>"
      ]
     },
     "metadata": {
      "needs_background": "light"
     },
     "output_type": "display_data"
    }
   ],
   "source": [
    "plt.figure(figsize=(16, 8))\n",
    "plt.bar(users_per_day.index, users_per_day['facebook_ads'], alpha=0.5)\n",
    "plt.bar(users_per_day.index, users_per_day['google_play_ads'], alpha=0.5)\n",
    "plt.bar(users_per_day.index, users_per_day['instagram_new_adverts'], alpha=0.5)\n",
    "plt.bar(users_per_day.index, users_per_day['youtube_channel_network'], alpha=0.5)\n",
    "plt.title('Distribution of Active Users per Date')\n",
    "plt.ylabel('active_users')\n",
    "plt.xlabel('date')\n",
    "plt.legend(labels=users_per_day.columns)\n",
    "plt.show()"
   ]
  },
  {
   "cell_type": "markdown",
   "metadata": {},
   "source": [
    "Daily active users peak on 2020-05-09 and drop sharply after that. This is because the ads ran until that date, and most users are not likely to stick around for very long. The users that do remain are likely to finish stage 1. This would account for the gradually reducing tail. Each source has a similar distribution."
   ]
  },
  {
   "cell_type": "markdown",
   "metadata": {},
   "source": [
    "### Events Per Day"
   ]
  },
  {
   "cell_type": "markdown",
   "metadata": {},
   "source": [
    "Let's look at the average number of events per day using a histogram."
   ]
  },
  {
   "cell_type": "code",
   "execution_count": 61,
   "metadata": {},
   "outputs": [
    {
     "data": {
      "image/png": "[encoded data removed]",
      "text/plain": [
       "<Figure size 1152x576 with 1 Axes>"
      ]
     },
     "metadata": {
      "needs_background": "light"
     },
     "output_type": "display_data"
    }
   ],
   "source": [
    "plt.figure(figsize=(16, 8))\n",
    "plt.hist(data=events.loc[events.loc[:,'source'] == 'facebook_ads'], x='event_datetime', bins=(100), alpha=0.5)\n",
    "plt.hist(data=events.loc[events.loc[:,'source'] == 'google_play_ads'], x='event_datetime', bins=(100), alpha=0.5)\n",
    "plt.hist(data=events.loc[events.loc[:,'source'] == 'instagram_new_adverts'], x='event_datetime', bins=(100), alpha=0.5)\n",
    "plt.hist(data=events.loc[events.loc[:,'source'] == 'youtube_channel_network'], x='event_datetime', bins=(100), alpha=0.5)\n",
    "plt.title('Distribution of Events per Datetime')\n",
    "plt.ylabel('No. of Events')\n",
    "plt.xlabel('Datetimes')\n",
    "plt.legend(labels=users_per_day.columns)\n",
    "plt.show()"
   ]
  },
  {
   "cell_type": "markdown",
   "metadata": {},
   "source": [
    "This histogram matches the users_per_day histogram, and the nature of the distribution can be explained similarly. Let's take a look at how many days users stick around. To do this, we will group by user_id and pull the max days_since_ad_date, including the course information as well. We will then plot a histogram."
   ]
  },
  {
   "cell_type": "code",
   "execution_count": 62,
   "metadata": {},
   "outputs": [
    {
     "data": {
      "text/html": [
       "<div>\n",
       "<style scoped>\n",
       "    .dataframe tbody tr th:only-of-type {\n",
       "        vertical-align: middle;\n",
       "    }\n",
       "\n",
       "    .dataframe tbody tr th {\n",
       "        vertical-align: top;\n",
       "    }\n",
       "\n",
       "    .dataframe thead th {\n",
       "        text-align: right;\n",
       "    }\n",
       "</style>\n",
       "<table border=\"1\" class=\"dataframe\">\n",
       "  <thead>\n",
       "    <tr style=\"text-align: right;\">\n",
       "      <th></th>\n",
       "      <th>days_since_ad_date</th>\n",
       "      <th>source</th>\n",
       "      <th>p_or_b</th>\n",
       "    </tr>\n",
       "    <tr>\n",
       "      <th>user_id</th>\n",
       "      <th></th>\n",
       "      <th></th>\n",
       "      <th></th>\n",
       "    </tr>\n",
       "  </thead>\n",
       "  <tbody>\n",
       "    <tr>\n",
       "      <th>0001f83c-c6ac-4621-b7f0-8a28b283ac30</th>\n",
       "      <td>14</td>\n",
       "      <td>facebook_ads</td>\n",
       "      <td>incomplete</td>\n",
       "    </tr>\n",
       "    <tr>\n",
       "      <th>00151b4f-ba38-44a8-a650-d7cf130a0105</th>\n",
       "      <td>12</td>\n",
       "      <td>google_play_ads</td>\n",
       "      <td>incomplete</td>\n",
       "    </tr>\n",
       "    <tr>\n",
       "      <th>001aaea6-3d14-43f1-8ca8-7f48820f17aa</th>\n",
       "      <td>9</td>\n",
       "      <td>youtube_channel_network</td>\n",
       "      <td>incomplete</td>\n",
       "    </tr>\n",
       "    <tr>\n",
       "      <th>001d39dc-366c-4021-9604-6a3b9ff01e25</th>\n",
       "      <td>7</td>\n",
       "      <td>instagram_new_adverts</td>\n",
       "      <td>boss</td>\n",
       "    </tr>\n",
       "    <tr>\n",
       "      <th>002f508f-67b6-479f-814b-b05f00d4e995</th>\n",
       "      <td>17</td>\n",
       "      <td>facebook_ads</td>\n",
       "      <td>incomplete</td>\n",
       "    </tr>\n",
       "  </tbody>\n",
       "</table>\n",
       "</div>"
      ],
      "text/plain": [
       "                                      days_since_ad_date  \\\n",
       "user_id                                                    \n",
       "0001f83c-c6ac-4621-b7f0-8a28b283ac30                  14   \n",
       "00151b4f-ba38-44a8-a650-d7cf130a0105                  12   \n",
       "001aaea6-3d14-43f1-8ca8-7f48820f17aa                   9   \n",
       "001d39dc-366c-4021-9604-6a3b9ff01e25                   7   \n",
       "002f508f-67b6-479f-814b-b05f00d4e995                  17   \n",
       "\n",
       "                                                       source      p_or_b  \n",
       "user_id                                                                    \n",
       "0001f83c-c6ac-4621-b7f0-8a28b283ac30             facebook_ads  incomplete  \n",
       "00151b4f-ba38-44a8-a650-d7cf130a0105          google_play_ads  incomplete  \n",
       "001aaea6-3d14-43f1-8ca8-7f48820f17aa  youtube_channel_network  incomplete  \n",
       "001d39dc-366c-4021-9604-6a3b9ff01e25    instagram_new_adverts        boss  \n",
       "002f508f-67b6-479f-814b-b05f00d4e995             facebook_ads  incomplete  "
      ]
     },
     "execution_count": 62,
     "metadata": {},
     "output_type": "execute_result"
    }
   ],
   "source": [
    "max_days = events.groupby('user_id').agg({'days_since_ad_date' : 'max', 'source' : 'first', 'p_or_b' : 'first'})\n",
    "max_days.head()"
   ]
  },
  {
   "cell_type": "code",
   "execution_count": 63,
   "metadata": {},
   "outputs": [
    {
     "data": {
      "image/png": "[encoded data removed]",
      "text/plain": [
       "<Figure size 1152x576 with 1 Axes>"
      ]
     },
     "metadata": {
      "needs_background": "light"
     },
     "output_type": "display_data"
    }
   ],
   "source": [
    "plt.figure(figsize=(16, 8))\n",
    "plt.hist(data=max_days.loc[max_days.loc[:,'source'] == 'facebook_ads'], x='days_since_ad_date', bins=(10), alpha=0.5)\n",
    "plt.hist(data=max_days.loc[max_days.loc[:,'source'] == 'google_play_ads'], x='days_since_ad_date', bins=(10), alpha=0.5)\n",
    "plt.hist(data=max_days.loc[max_days.loc[:,'source'] == 'instagram_new_adverts'], x='days_since_ad_date', bins=(10), alpha=0.5)\n",
    "plt.hist(data=max_days.loc[max_days.loc[:,'source'] == 'youtube_channel_network'], x='days_since_ad_date', bins=(10), alpha=0.5)\n",
    "plt.title('Distribution of Total Days Spent on App Per User')\n",
    "plt.ylabel('users')\n",
    "plt.xlabel('total_days_spent_on_app')\n",
    "plt.legend(labels=users_per_day.columns)\n",
    "plt.show()"
   ]
  },
  {
   "cell_type": "markdown",
   "metadata": {},
   "source": [
    "Most users spend about 10 days on the app. Distribution is skewed slightly left while the right side has a thinner tail. The most drastic drop off is after the 15th day.\n",
    "\n",
    "Let's see what the distributions look like when comparing users who completed stage 1 to those who haven't."
   ]
  },
  {
   "cell_type": "code",
   "execution_count": 64,
   "metadata": {},
   "outputs": [
    {
     "data": {
      "image/png": "[encoded data removed]",
      "text/plain": [
       "<Figure size 1152x576 with 1 Axes>"
      ]
     },
     "metadata": {
      "needs_background": "light"
     },
     "output_type": "display_data"
    }
   ],
   "source": [
    "plt.figure(figsize=(16, 8))\n",
    "plt.hist(data=max_days.loc[max_days.loc[:,'p_or_b'] == 'incomplete'], x='days_since_ad_date', bins=(10), alpha=0.5)\n",
    "plt.hist(data=max_days.loc[max_days.loc[:,'p_or_b'] != 'incomplete'], x='days_since_ad_date', bins=(10), alpha=0.5)\n",
    "plt.title('Distribution of Total Days Spent on App Per User')\n",
    "plt.ylabel('users')\n",
    "plt.xlabel('total_days_spent_on_app')\n",
    "plt.legend(labels=['users_not_completed_stage_1', 'users_completed_stage_1'])\n",
    "plt.show()"
   ]
  },
  {
   "cell_type": "markdown",
   "metadata": {},
   "source": [
    "As was to be expected, users who completed stage 1 spent slightly more days on the app than users who did not. Finally, let's break it down by \"project\" vs. \"boss\" groups."
   ]
  },
  {
   "cell_type": "code",
   "execution_count": 65,
   "metadata": {},
   "outputs": [
    {
     "data": {
      "image/png": "[encoded data removed]",
      "text/plain": [
       "<Figure size 1152x576 with 1 Axes>"
      ]
     },
     "metadata": {
      "needs_background": "light"
     },
     "output_type": "display_data"
    }
   ],
   "source": [
    "plt.figure(figsize=(16, 8))\n",
    "plt.hist(data=max_days.loc[max_days.loc[:,'p_or_b'] == 'project'], x='days_since_ad_date', bins=(10), alpha=0.5)\n",
    "plt.hist(data=max_days.loc[max_days.loc[:,'p_or_b'] == 'boss'], x='days_since_ad_date', bins=(10), alpha=0.5)\n",
    "plt.title('Distribution of Total Days Spent on App Per User')\n",
    "plt.ylabel('users')\n",
    "plt.xlabel('total_days_spent_on_app')\n",
    "plt.legend(labels=['project', 'boss'])\n",
    "plt.show()"
   ]
  },
  {
   "cell_type": "markdown",
   "metadata": {},
   "source": [
    "\"boss\" users have a negative skew, while \"project\" users have a positive skew. This mean that \"project\" users spend more days on the app in addition to completing more events."
   ]
  },
  {
   "cell_type": "markdown",
   "metadata": {},
   "source": [
    "### EDA Summary"
   ]
  },
  {
   "cell_type": "markdown",
   "metadata": {},
   "source": [
    "We have uncovered the following thus far:\n",
    "\n",
    "The users from our dataset represent a sample group who responded to a week’s long worth of advertisements. Across that week and for all sources, costs for new users we creased by about half every day. It appears that the costs were per click. We were unable to conclude why the new users were halted every day of the add run, but suggested it may be due to the initial exposure on day one reaching the biggest audience and gaining the most clicks, while the following days reached less and less of a new audience.\n",
    "\n",
    "We calculated the cost per user for all sources and discovered that facebook_ads and instagram_new_adverts were more expensive than average while google_play_ads and youtube_channel_network were less expensive than average.\n",
    "\n",
    "The events dataset covers a period of (33) days and includes no information after stage 1 of the app game. 43% of users completed stage 1 of the app game during these (33) days. 39% of the users completed stage 1 via defeating the boss of the game and 14% completed stage 1 via completing the project in the game (the satellite orbital assembly). The percentages had marginal difference across sources. However, youtube_channel_network had the best performance for stage 1 completion and facebook_ads had the worst performance. (Let’s remember that youtube_channel_network is the least expensive ad source and facebook_ads is the most expensive.) Users who completed stage 1 of the game completed more events than users who did not.\n",
    "\n",
    "There were a couple outliers for “p” and “b” groups which we removed for a more accurate comparison later on. Group “p” must complete at least (10) building events to complete the project, while “b” group completed a minimum of (2) building events, and their histogram peaked at (10). This leads us to conclude that “p” group will have much more exposure to the ads on the app, which we expect to be arranged near the building menu in the game.\n",
    "\n",
    "Users and events per day peaked during the final day of source advertisements and dropped sharply after that. Most users spent (10) days on the app. Users who completed stage 1 spent more days on the app than users who did not.\n",
    "\n",
    "Let's look at the relationship between object types built between \"p\" and \"b\" groups."
   ]
  },
  {
   "cell_type": "markdown",
   "metadata": {},
   "source": [
    "## Relationship Between object_type and p_or_b Groups"
   ]
  },
  {
   "cell_type": "markdown",
   "metadata": {},
   "source": [
    "As can be seen above, all users who completed stage 1 also completed the project in addition to the various buildings they constructed. Let's take a look at how the various building types are distributed as well. We will remove the satellite_orbital_assembly from the object types because it is redundant information."
   ]
  },
  {
   "cell_type": "code",
   "execution_count": 66,
   "metadata": {},
   "outputs": [
    {
     "data": {
      "text/html": [
       "<div>\n",
       "<style scoped>\n",
       "    .dataframe tbody tr th:only-of-type {\n",
       "        vertical-align: middle;\n",
       "    }\n",
       "\n",
       "    .dataframe tbody tr th {\n",
       "        vertical-align: top;\n",
       "    }\n",
       "\n",
       "    .dataframe thead th {\n",
       "        text-align: right;\n",
       "    }\n",
       "</style>\n",
       "<table border=\"1\" class=\"dataframe\">\n",
       "  <thead>\n",
       "    <tr style=\"text-align: right;\">\n",
       "      <th>p_or_b</th>\n",
       "      <th>boss</th>\n",
       "      <th>incomplete</th>\n",
       "      <th>project</th>\n",
       "    </tr>\n",
       "    <tr>\n",
       "      <th>object_type</th>\n",
       "      <th></th>\n",
       "      <th></th>\n",
       "      <th></th>\n",
       "    </tr>\n",
       "  </thead>\n",
       "  <tbody>\n",
       "    <tr>\n",
       "      <th>assembly_shop</th>\n",
       "      <td>16279.0</td>\n",
       "      <td>29080.0</td>\n",
       "      <td>9015.0</td>\n",
       "    </tr>\n",
       "    <tr>\n",
       "      <th>research_center</th>\n",
       "      <td>3745.0</td>\n",
       "      <td>6685.0</td>\n",
       "      <td>3646.0</td>\n",
       "    </tr>\n",
       "    <tr>\n",
       "      <th>spaceport</th>\n",
       "      <td>17104.0</td>\n",
       "      <td>31405.0</td>\n",
       "      <td>10652.0</td>\n",
       "    </tr>\n",
       "  </tbody>\n",
       "</table>\n",
       "</div>"
      ],
      "text/plain": [
       "p_or_b              boss  incomplete  project\n",
       "object_type                                  \n",
       "assembly_shop    16279.0     29080.0   9015.0\n",
       "research_center   3745.0      6685.0   3646.0\n",
       "spaceport        17104.0     31405.0  10652.0"
      ]
     },
     "execution_count": 66,
     "metadata": {},
     "output_type": "execute_result"
    }
   ],
   "source": [
    "object_types = events.pivot_table(index='object_type', columns='p_or_b', values='event_datetime', aggfunc='count')\n",
    "object_types = object_types.drop('satellite_orbital_assembly')\n",
    "object_types"
   ]
  },
  {
   "cell_type": "markdown",
   "metadata": {},
   "source": [
    "To get a better idea of the relationship between the various object types and our p_or_b classifications, let's calculate total number of buildings for p_or_b group and add columns showing the proportions of each object_type."
   ]
  },
  {
   "cell_type": "code",
   "execution_count": 67,
   "metadata": {},
   "outputs": [],
   "source": [
    "boss_total_buildings = len(events.loc[(events.loc[:,'p_or_b'] == 'boss') &\\\n",
    "                                      (events.loc[:,'event'] == 'building')])\n",
    "incomplete_total_buildings = len(events.loc[(events.loc[:,'p_or_b'] == 'incomplete') &\\\n",
    "                                            (events.loc[:,'event'] == 'building')])\n",
    "project_total_buildings = len(events.loc[(events.loc[:,'p_or_b'] == 'project') &\\\n",
    "                                         (events.loc[:,'event'] == 'building')])"
   ]
  },
  {
   "cell_type": "code",
   "execution_count": 68,
   "metadata": {},
   "outputs": [
    {
     "data": {
      "text/html": [
       "<div>\n",
       "<style scoped>\n",
       "    .dataframe tbody tr th:only-of-type {\n",
       "        vertical-align: middle;\n",
       "    }\n",
       "\n",
       "    .dataframe tbody tr th {\n",
       "        vertical-align: top;\n",
       "    }\n",
       "\n",
       "    .dataframe thead th {\n",
       "        text-align: right;\n",
       "    }\n",
       "</style>\n",
       "<table border=\"1\" class=\"dataframe\">\n",
       "  <thead>\n",
       "    <tr style=\"text-align: right;\">\n",
       "      <th>p_or_b</th>\n",
       "      <th>boss</th>\n",
       "      <th>incomplete</th>\n",
       "      <th>project</th>\n",
       "      <th>boss_proportions</th>\n",
       "      <th>incomplete_proportions</th>\n",
       "      <th>project_proportions</th>\n",
       "    </tr>\n",
       "    <tr>\n",
       "      <th>object_type</th>\n",
       "      <th></th>\n",
       "      <th></th>\n",
       "      <th></th>\n",
       "      <th></th>\n",
       "      <th></th>\n",
       "      <th></th>\n",
       "    </tr>\n",
       "  </thead>\n",
       "  <tbody>\n",
       "    <tr>\n",
       "      <th>assembly_shop</th>\n",
       "      <td>16279.0</td>\n",
       "      <td>29080.0</td>\n",
       "      <td>9015.0</td>\n",
       "      <td>0.438456</td>\n",
       "      <td>0.432931</td>\n",
       "      <td>0.386694</td>\n",
       "    </tr>\n",
       "    <tr>\n",
       "      <th>research_center</th>\n",
       "      <td>3745.0</td>\n",
       "      <td>6685.0</td>\n",
       "      <td>3646.0</td>\n",
       "      <td>0.100867</td>\n",
       "      <td>0.099524</td>\n",
       "      <td>0.156393</td>\n",
       "    </tr>\n",
       "    <tr>\n",
       "      <th>spaceport</th>\n",
       "      <td>17104.0</td>\n",
       "      <td>31405.0</td>\n",
       "      <td>10652.0</td>\n",
       "      <td>0.460677</td>\n",
       "      <td>0.467545</td>\n",
       "      <td>0.456912</td>\n",
       "    </tr>\n",
       "  </tbody>\n",
       "</table>\n",
       "</div>"
      ],
      "text/plain": [
       "p_or_b              boss  incomplete  project  boss_proportions  \\\n",
       "object_type                                                       \n",
       "assembly_shop    16279.0     29080.0   9015.0          0.438456   \n",
       "research_center   3745.0      6685.0   3646.0          0.100867   \n",
       "spaceport        17104.0     31405.0  10652.0          0.460677   \n",
       "\n",
       "p_or_b           incomplete_proportions  project_proportions  \n",
       "object_type                                                   \n",
       "assembly_shop                  0.432931             0.386694  \n",
       "research_center                0.099524             0.156393  \n",
       "spaceport                      0.467545             0.456912  "
      ]
     },
     "execution_count": 68,
     "metadata": {},
     "output_type": "execute_result"
    }
   ],
   "source": [
    "object_types['boss_proportions'] = object_types['boss'] / boss_total_buildings\n",
    "object_types['incomplete_proportions'] = object_types['incomplete'] / incomplete_total_buildings\n",
    "object_types['project_proportions'] = object_types['project'] / project_total_buildings\n",
    "object_types"
   ]
  },
  {
   "cell_type": "markdown",
   "metadata": {},
   "source": [
    "Let's analyze the results. \"boss\" group resembles \"incomplete\" group closely. \"project\" group invests more into research centers and less into assembly shops. This must mean that research centers are a key factor in winning the game through the project route."
   ]
  },
  {
   "cell_type": "markdown",
   "metadata": {},
   "source": [
    "## Test Statistical Hypotheses"
   ]
  },
  {
   "cell_type": "markdown",
   "metadata": {},
   "source": [
    "We now test our hypotheses on the \"p\" and \"b\" groups. The hypothesis is as follows:\n",
    "\n",
    "\"p\" users take the same amount of days as \"b\" users to complete stage 1.\n",
    "\n",
    "We will also test this hypothesis across all sources to confirm that the result is consistent for each source."
   ]
  },
  {
   "cell_type": "markdown",
   "metadata": {},
   "source": [
    "### Amount of Days Before Completion between \"p\" and \"b\" Groups"
   ]
  },
  {
   "cell_type": "markdown",
   "metadata": {},
   "source": [
    "Let's count the max number of days for each group.We will also include \"source\" information for each user for when we test the same hypothesis across all sources later."
   ]
  },
  {
   "cell_type": "code",
   "execution_count": 69,
   "metadata": {},
   "outputs": [],
   "source": [
    "#Count max number of days for \"p\" users\n",
    "max_days_p = events.loc[events.loc[:,'p_or_b'] == 'project'].groupby('user_id')\\\n",
    ".agg({'days_since_ad_date' : 'max', 'source' : 'first'})\n",
    "\n",
    "#Count max number of days for \"p\" users\n",
    "max_days_b = events.loc[events.loc[:,'p_or_b'] == 'boss'].groupby('user_id')\\\n",
    ".agg({'days_since_ad_date' : 'max', 'source' : 'first'})"
   ]
  },
  {
   "cell_type": "markdown",
   "metadata": {},
   "source": [
    "Now we are ready to test our first hypothesis:\n",
    "\n",
    "Null hypothesis: There is NO statistically significant difference between the amount of days it takes for \"p\" users and \"b\" users to complete stage 1 of the gaming app.\n",
    "\n",
    "Alternative hypothesis: There IS a statistically significance difference between the amount of days it takes for \"p\" users and \"b\" users to complete stage 1 of the gaming app.\n",
    "\n",
    "We will choose a statistical significance level of 0.05."
   ]
  },
  {
   "cell_type": "code",
   "execution_count": 70,
   "metadata": {},
   "outputs": [
    {
     "name": "stdout",
     "output_type": "stream",
     "text": [
      "p-value:  7.264168478715991e-96\n",
      "We reject the null hypothesis\n"
     ]
    }
   ],
   "source": [
    "#critical statistical significance level\n",
    "alpha = 0.05\n",
    "\n",
    "# if the p-value is greater than alpha, we reject the hypothesis\n",
    "results = st.ttest_ind(max_days_p['days_since_ad_date'], max_days_b['days_since_ad_date'])\n",
    "\n",
    "print('p-value: ', results.pvalue)\n",
    "\n",
    "if results.pvalue < alpha:\n",
    "    print(\"We reject the null hypothesis\")\n",
    "else:\n",
    "    print(\"We can't reject the null hypothesis\") "
   ]
  },
  {
   "cell_type": "markdown",
   "metadata": {},
   "source": [
    "From this we can conclude that there IS a statistically significant difference in the number of days it takes for each group to complete the first stage. Let's take a look at the averages and how the number of days are distributed between the groups."
   ]
  },
  {
   "cell_type": "code",
   "execution_count": 71,
   "metadata": {},
   "outputs": [
    {
     "name": "stdout",
     "output_type": "stream",
     "text": [
      "Average days spent for \"p\" users: 13.396542409508374\n",
      "Average days spent for \"b\" users: 11.05420466058764\n"
     ]
    },
    {
     "data": {
      "image/png": "[encoded data removed]",
      "text/plain": [
       "<Figure size 1152x576 with 1 Axes>"
      ]
     },
     "metadata": {
      "needs_background": "light"
     },
     "output_type": "display_data"
    }
   ],
   "source": [
    "print('Average days spent for \"p\" users:', max_days_p['days_since_ad_date'].mean())\n",
    "print('Average days spent for \"b\" users:', max_days_b['days_since_ad_date'].mean())\n",
    "\n",
    "plt.figure(figsize=(16, 8))\n",
    "plt.hist(data=max_days_p, x='days_since_ad_date', bins=(10), alpha=0.5)\n",
    "plt.hist(data=max_days_b, x='days_since_ad_date', bins=(10), alpha=0.5)\n",
    "plt.title('Distribution of Days Taken to Complete Stage 1')\n",
    "plt.ylabel('users')\n",
    "plt.xlabel('days_to_complete_stage_1')\n",
    "plt.legend(labels=['p_users', 'b_users'])\n",
    "plt.show()"
   ]
  },
  {
   "cell_type": "markdown",
   "metadata": {},
   "source": [
    "\"p\" users took more days than \"b\" users. \"p\" users were unable to complete their satellite_orbital_assembly project until day 5 at the soonest. Some \"b\" users, on the other hand, were able to defeat the boss right away. This may be due to the fact that \"b\" users far outweigh \"p\" users, and so there is more representation for \"b\" users. Either way, \"b\" users have a negative skew while \"p\" users are skewed positive. Both groups peak around the 10th day."
   ]
  },
  {
   "cell_type": "markdown",
   "metadata": {},
   "source": [
    "### Testing Across Each Source"
   ]
  },
  {
   "cell_type": "markdown",
   "metadata": {},
   "source": [
    "Now, let's create a for loop based on each source. We will perform the same test as we did above with the same hypothesis. However, we will test for times for each source."
   ]
  },
  {
   "cell_type": "code",
   "execution_count": 72,
   "metadata": {},
   "outputs": [
    {
     "name": "stdout",
     "output_type": "stream",
     "text": [
      "youtube_channel_network\n",
      "Average days spent for \"p\" users: 13.505347593582888\n",
      "Average days spent for \"b\" users: 11.074358974358974\n",
      "p-value:  2.0393923813323849e-22\n",
      "We reject the null hypothesis\n",
      "\n",
      "facebook_ads\n",
      "Average days spent for \"p\" users: 13.351421188630491\n",
      "Average days spent for \"b\" users: 10.982849604221636\n",
      "p-value:  3.0252696479640318e-21\n",
      "We reject the null hypothesis\n",
      "\n",
      "instagram_new_adverts\n",
      "Average days spent for \"p\" users: 13.465116279069768\n",
      "Average days spent for \"b\" users: 11.06868686868687\n",
      "p-value:  1.888187150343146e-27\n",
      "We reject the null hypothesis\n",
      "\n",
      "google_play_ads\n",
      "Average days spent for \"p\" users: 13.306320907617504\n",
      "Average days spent for \"b\" users: 11.07112676056338\n",
      "p-value:  3.715766557263387e-30\n",
      "We reject the null hypothesis\n",
      "\n"
     ]
    }
   ],
   "source": [
    "for source in events['source'].unique():\n",
    "    results = st.ttest_ind(max_days_p.loc[max_days_p.loc[:,'source'] == source]['days_since_ad_date'],\n",
    "                           max_days_b.loc[max_days_b.loc[:,'source'] == source]['days_since_ad_date'])\n",
    "\n",
    "    print(source)\n",
    "    print('Average days spent for \"p\" users:', max_days_p.loc[max_days_p.loc[:,'source'] == source]\n",
    "          ['days_since_ad_date'].mean())\n",
    "    print('Average days spent for \"b\" users:', max_days_b.loc[max_days_b.loc[:,'source'] == source]\n",
    "          ['days_since_ad_date'].mean())\n",
    "\n",
    "    print('p-value: ', results.pvalue)\n",
    "\n",
    "    if results.pvalue < alpha:\n",
    "        print(\"We reject the null hypothesis\")\n",
    "    else:\n",
    "        print(\"We can't reject the null hypothesis\")\n",
    "    print()"
   ]
  },
  {
   "cell_type": "markdown",
   "metadata": {},
   "source": [
    "We can see here that the hypothesis is rejected for all sources. That means that there is a statistically significant difference in the number of days between \"p\" and \"b\" groups for all sources. We can also see from the averages here, that facebook_ads is the lowest perform in number of days despite it being the most expensive ad source."
   ]
  },
  {
   "cell_type": "markdown",
   "metadata": {},
   "source": [
    "### Summary"
   ]
  },
  {
   "cell_type": "markdown",
   "metadata": {},
   "source": [
    "We have rejected our null hypothesis in all cases, and revealed \"p\" and \"b\" groups to be distinct in the number of days taken to complete stage 1."
   ]
  },
  {
   "cell_type": "markdown",
   "metadata": {},
   "source": [
    "## Performance Per Source"
   ]
  },
  {
   "cell_type": "markdown",
   "metadata": {},
   "source": [
    "We have established that a great target variable is users who have completed stage 1. Another great target variable is \"p\" group users. Now, we will display the proportions of users for each source that completed the game and the proportion that are part of \"p\" group. We will compare them next to the cost per user for each source, and calculate a performance rate by which to rank and evaluate the various sources. To do this, let's modify our previous costs_per_source table to include the proportion of users who complete the first stage of the game. We will show the results along side the averages. Let's start by adding the completed users proportions to our costs_per_source table."
   ]
  },
  {
   "cell_type": "code",
   "execution_count": 73,
   "metadata": {
    "scrolled": true
   },
   "outputs": [
    {
     "data": {
      "text/html": [
       "<div>\n",
       "<style scoped>\n",
       "    .dataframe tbody tr th:only-of-type {\n",
       "        vertical-align: middle;\n",
       "    }\n",
       "\n",
       "    .dataframe tbody tr th {\n",
       "        vertical-align: top;\n",
       "    }\n",
       "\n",
       "    .dataframe thead th {\n",
       "        text-align: right;\n",
       "    }\n",
       "</style>\n",
       "<table border=\"1\" class=\"dataframe\">\n",
       "  <thead>\n",
       "    <tr style=\"text-align: right;\">\n",
       "      <th></th>\n",
       "      <th>cost</th>\n",
       "      <th>users</th>\n",
       "      <th>cost_per_user</th>\n",
       "      <th>proportion_completed</th>\n",
       "    </tr>\n",
       "    <tr>\n",
       "      <th>source</th>\n",
       "      <th></th>\n",
       "      <th></th>\n",
       "      <th></th>\n",
       "      <th></th>\n",
       "    </tr>\n",
       "  </thead>\n",
       "  <tbody>\n",
       "    <tr>\n",
       "      <th>facebook_ads</th>\n",
       "      <td>2140.904643</td>\n",
       "      <td>2726</td>\n",
       "      <td>0.785365</td>\n",
       "      <td>0.421864</td>\n",
       "    </tr>\n",
       "    <tr>\n",
       "      <th>google_play_ads</th>\n",
       "      <td>2233.111449</td>\n",
       "      <td>4817</td>\n",
       "      <td>0.463590</td>\n",
       "      <td>0.423915</td>\n",
       "    </tr>\n",
       "    <tr>\n",
       "      <th>instagram_new_adverts</th>\n",
       "      <td>2161.441691</td>\n",
       "      <td>3347</td>\n",
       "      <td>0.645785</td>\n",
       "      <td>0.438004</td>\n",
       "    </tr>\n",
       "    <tr>\n",
       "      <th>youtube_channel_network</th>\n",
       "      <td>1068.119204</td>\n",
       "      <td>2686</td>\n",
       "      <td>0.397662</td>\n",
       "      <td>0.431497</td>\n",
       "    </tr>\n",
       "  </tbody>\n",
       "</table>\n",
       "</div>"
      ],
      "text/plain": [
       "                                cost  users  cost_per_user  \\\n",
       "source                                                       \n",
       "facebook_ads             2140.904643   2726       0.785365   \n",
       "google_play_ads          2233.111449   4817       0.463590   \n",
       "instagram_new_adverts    2161.441691   3347       0.645785   \n",
       "youtube_channel_network  1068.119204   2686       0.397662   \n",
       "\n",
       "                         proportion_completed  \n",
       "source                                         \n",
       "facebook_ads                         0.421864  \n",
       "google_play_ads                      0.423915  \n",
       "instagram_new_adverts                0.438004  \n",
       "youtube_channel_network              0.431497  "
      ]
     },
     "execution_count": 73,
     "metadata": {},
     "output_type": "execute_result"
    }
   ],
   "source": [
    "costs_per_source['proportion_completed'] = stage_1_completed_proportions['stage_1_completed']\n",
    "\n",
    "costs_per_source"
   ]
  },
  {
   "cell_type": "markdown",
   "metadata": {},
   "source": [
    "We now have the proportions of users who have completed the first stage per source. Let's calculate the performance rate based on these proportions. "
   ]
  },
  {
   "cell_type": "code",
   "execution_count": 74,
   "metadata": {},
   "outputs": [
    {
     "data": {
      "text/html": [
       "<div>\n",
       "<style scoped>\n",
       "    .dataframe tbody tr th:only-of-type {\n",
       "        vertical-align: middle;\n",
       "    }\n",
       "\n",
       "    .dataframe tbody tr th {\n",
       "        vertical-align: top;\n",
       "    }\n",
       "\n",
       "    .dataframe thead th {\n",
       "        text-align: right;\n",
       "    }\n",
       "</style>\n",
       "<table border=\"1\" class=\"dataframe\">\n",
       "  <thead>\n",
       "    <tr style=\"text-align: right;\">\n",
       "      <th></th>\n",
       "      <th>cost</th>\n",
       "      <th>users</th>\n",
       "      <th>cost_per_user</th>\n",
       "      <th>proportion_completed</th>\n",
       "      <th>completed_performance_rate</th>\n",
       "    </tr>\n",
       "    <tr>\n",
       "      <th>source</th>\n",
       "      <th></th>\n",
       "      <th></th>\n",
       "      <th></th>\n",
       "      <th></th>\n",
       "      <th></th>\n",
       "    </tr>\n",
       "  </thead>\n",
       "  <tbody>\n",
       "    <tr>\n",
       "      <th>facebook_ads</th>\n",
       "      <td>2140.904643</td>\n",
       "      <td>2726</td>\n",
       "      <td>0.785365</td>\n",
       "      <td>0.421864</td>\n",
       "      <td>0.537156</td>\n",
       "    </tr>\n",
       "    <tr>\n",
       "      <th>google_play_ads</th>\n",
       "      <td>2233.111449</td>\n",
       "      <td>4817</td>\n",
       "      <td>0.463590</td>\n",
       "      <td>0.423915</td>\n",
       "      <td>0.914419</td>\n",
       "    </tr>\n",
       "    <tr>\n",
       "      <th>instagram_new_adverts</th>\n",
       "      <td>2161.441691</td>\n",
       "      <td>3347</td>\n",
       "      <td>0.645785</td>\n",
       "      <td>0.438004</td>\n",
       "      <td>0.678251</td>\n",
       "    </tr>\n",
       "    <tr>\n",
       "      <th>youtube_channel_network</th>\n",
       "      <td>1068.119204</td>\n",
       "      <td>2686</td>\n",
       "      <td>0.397662</td>\n",
       "      <td>0.431497</td>\n",
       "      <td>1.085085</td>\n",
       "    </tr>\n",
       "  </tbody>\n",
       "</table>\n",
       "</div>"
      ],
      "text/plain": [
       "                                cost  users  cost_per_user  \\\n",
       "source                                                       \n",
       "facebook_ads             2140.904643   2726       0.785365   \n",
       "google_play_ads          2233.111449   4817       0.463590   \n",
       "instagram_new_adverts    2161.441691   3347       0.645785   \n",
       "youtube_channel_network  1068.119204   2686       0.397662   \n",
       "\n",
       "                         proportion_completed  completed_performance_rate  \n",
       "source                                                                     \n",
       "facebook_ads                         0.421864                    0.537156  \n",
       "google_play_ads                      0.423915                    0.914419  \n",
       "instagram_new_adverts                0.438004                    0.678251  \n",
       "youtube_channel_network              0.431497                    1.085085  "
      ]
     },
     "execution_count": 74,
     "metadata": {},
     "output_type": "execute_result"
    }
   ],
   "source": [
    "#Calculate column showing source \"performance rate\"\n",
    "costs_per_source['completed_performance_rate'] = costs_per_source['proportion_completed']\\\n",
    "/ costs_per_source['cost_per_user']\n",
    "costs_per_source"
   ]
  },
  {
   "cell_type": "markdown",
   "metadata": {},
   "source": [
    "Source: youtube_channel_network is the stand out performance, scoring twice as much as the weakest source, facebook_ads.\n",
    "\n",
    "Now, let's add a column for the proportion of \"p\" users. To do this, we will create create a new Boolean column in our \"events\" dataset indicating whether each user is in group \"p\" or not. We will then convert the column from True and False to 1 and 0 using .multiply() from numpy. We will convert the column to integer as well."
   ]
  },
  {
   "cell_type": "code",
   "execution_count": 75,
   "metadata": {
    "scrolled": true
   },
   "outputs": [
    {
     "data": {
      "text/html": [
       "<div>\n",
       "<style scoped>\n",
       "    .dataframe tbody tr th:only-of-type {\n",
       "        vertical-align: middle;\n",
       "    }\n",
       "\n",
       "    .dataframe tbody tr th {\n",
       "        vertical-align: top;\n",
       "    }\n",
       "\n",
       "    .dataframe thead th {\n",
       "        text-align: right;\n",
       "    }\n",
       "</style>\n",
       "<table border=\"1\" class=\"dataframe\">\n",
       "  <thead>\n",
       "    <tr style=\"text-align: right;\">\n",
       "      <th></th>\n",
       "      <th>event_datetime</th>\n",
       "      <th>event</th>\n",
       "      <th>object_type</th>\n",
       "      <th>user_id</th>\n",
       "      <th>ad_date</th>\n",
       "      <th>source</th>\n",
       "      <th>event_date</th>\n",
       "      <th>days_since_ad_date</th>\n",
       "      <th>stage_1_completed</th>\n",
       "      <th>p_or_b</th>\n",
       "      <th>p_users</th>\n",
       "    </tr>\n",
       "  </thead>\n",
       "  <tbody>\n",
       "    <tr>\n",
       "      <th>0</th>\n",
       "      <td>2020-05-04 00:00:01</td>\n",
       "      <td>building</td>\n",
       "      <td>assembly_shop</td>\n",
       "      <td>55e92310-cb8e-4754-b622-597e124b03de</td>\n",
       "      <td>2020-05-04</td>\n",
       "      <td>youtube_channel_network</td>\n",
       "      <td>2020-05-04</td>\n",
       "      <td>0</td>\n",
       "      <td>0</td>\n",
       "      <td>incomplete</td>\n",
       "      <td>0</td>\n",
       "    </tr>\n",
       "    <tr>\n",
       "      <th>1</th>\n",
       "      <td>2020-05-05 05:20:15</td>\n",
       "      <td>building</td>\n",
       "      <td>assembly_shop</td>\n",
       "      <td>55e92310-cb8e-4754-b622-597e124b03de</td>\n",
       "      <td>2020-05-04</td>\n",
       "      <td>youtube_channel_network</td>\n",
       "      <td>2020-05-05</td>\n",
       "      <td>1</td>\n",
       "      <td>0</td>\n",
       "      <td>incomplete</td>\n",
       "      <td>0</td>\n",
       "    </tr>\n",
       "    <tr>\n",
       "      <th>2</th>\n",
       "      <td>2020-05-05 19:24:02</td>\n",
       "      <td>building</td>\n",
       "      <td>assembly_shop</td>\n",
       "      <td>55e92310-cb8e-4754-b622-597e124b03de</td>\n",
       "      <td>2020-05-04</td>\n",
       "      <td>youtube_channel_network</td>\n",
       "      <td>2020-05-05</td>\n",
       "      <td>1</td>\n",
       "      <td>0</td>\n",
       "      <td>incomplete</td>\n",
       "      <td>0</td>\n",
       "    </tr>\n",
       "    <tr>\n",
       "      <th>3</th>\n",
       "      <td>2020-05-05 20:59:19</td>\n",
       "      <td>building</td>\n",
       "      <td>assembly_shop</td>\n",
       "      <td>55e92310-cb8e-4754-b622-597e124b03de</td>\n",
       "      <td>2020-05-04</td>\n",
       "      <td>youtube_channel_network</td>\n",
       "      <td>2020-05-05</td>\n",
       "      <td>1</td>\n",
       "      <td>0</td>\n",
       "      <td>incomplete</td>\n",
       "      <td>0</td>\n",
       "    </tr>\n",
       "    <tr>\n",
       "      <th>4</th>\n",
       "      <td>2020-05-06 00:52:56</td>\n",
       "      <td>building</td>\n",
       "      <td>assembly_shop</td>\n",
       "      <td>55e92310-cb8e-4754-b622-597e124b03de</td>\n",
       "      <td>2020-05-04</td>\n",
       "      <td>youtube_channel_network</td>\n",
       "      <td>2020-05-06</td>\n",
       "      <td>2</td>\n",
       "      <td>0</td>\n",
       "      <td>incomplete</td>\n",
       "      <td>0</td>\n",
       "    </tr>\n",
       "    <tr>\n",
       "      <th>...</th>\n",
       "      <td>...</td>\n",
       "      <td>...</td>\n",
       "      <td>...</td>\n",
       "      <td>...</td>\n",
       "      <td>...</td>\n",
       "      <td>...</td>\n",
       "      <td>...</td>\n",
       "      <td>...</td>\n",
       "      <td>...</td>\n",
       "      <td>...</td>\n",
       "      <td>...</td>\n",
       "    </tr>\n",
       "    <tr>\n",
       "      <th>135634</th>\n",
       "      <td>2020-05-13 23:56:39</td>\n",
       "      <td>building</td>\n",
       "      <td>spaceport</td>\n",
       "      <td>cafd1b8b-507b-49ae-abf0-89fe863a8b03</td>\n",
       "      <td>2020-05-10</td>\n",
       "      <td>facebook_ads</td>\n",
       "      <td>2020-05-13</td>\n",
       "      <td>3</td>\n",
       "      <td>0</td>\n",
       "      <td>incomplete</td>\n",
       "      <td>0</td>\n",
       "    </tr>\n",
       "    <tr>\n",
       "      <th>135635</th>\n",
       "      <td>2020-05-18 00:23:28</td>\n",
       "      <td>building</td>\n",
       "      <td>spaceport</td>\n",
       "      <td>cafd1b8b-507b-49ae-abf0-89fe863a8b03</td>\n",
       "      <td>2020-05-10</td>\n",
       "      <td>facebook_ads</td>\n",
       "      <td>2020-05-18</td>\n",
       "      <td>8</td>\n",
       "      <td>0</td>\n",
       "      <td>incomplete</td>\n",
       "      <td>0</td>\n",
       "    </tr>\n",
       "    <tr>\n",
       "      <th>135636</th>\n",
       "      <td>2020-05-10 23:59:52</td>\n",
       "      <td>building</td>\n",
       "      <td>assembly_shop</td>\n",
       "      <td>bdc53e19-462a-4dc3-8b55-b4a34278af6a</td>\n",
       "      <td>2020-05-10</td>\n",
       "      <td>youtube_channel_network</td>\n",
       "      <td>2020-05-10</td>\n",
       "      <td>0</td>\n",
       "      <td>0</td>\n",
       "      <td>incomplete</td>\n",
       "      <td>0</td>\n",
       "    </tr>\n",
       "    <tr>\n",
       "      <th>135637</th>\n",
       "      <td>2020-05-13 08:11:19</td>\n",
       "      <td>building</td>\n",
       "      <td>spaceport</td>\n",
       "      <td>bdc53e19-462a-4dc3-8b55-b4a34278af6a</td>\n",
       "      <td>2020-05-10</td>\n",
       "      <td>youtube_channel_network</td>\n",
       "      <td>2020-05-13</td>\n",
       "      <td>3</td>\n",
       "      <td>0</td>\n",
       "      <td>incomplete</td>\n",
       "      <td>0</td>\n",
       "    </tr>\n",
       "    <tr>\n",
       "      <th>135638</th>\n",
       "      <td>2020-05-18 11:11:11</td>\n",
       "      <td>building</td>\n",
       "      <td>spaceport</td>\n",
       "      <td>bdc53e19-462a-4dc3-8b55-b4a34278af6a</td>\n",
       "      <td>2020-05-10</td>\n",
       "      <td>youtube_channel_network</td>\n",
       "      <td>2020-05-18</td>\n",
       "      <td>8</td>\n",
       "      <td>0</td>\n",
       "      <td>incomplete</td>\n",
       "      <td>0</td>\n",
       "    </tr>\n",
       "  </tbody>\n",
       "</table>\n",
       "<p>135261 rows × 11 columns</p>\n",
       "</div>"
      ],
      "text/plain": [
       "            event_datetime     event    object_type  \\\n",
       "0      2020-05-04 00:00:01  building  assembly_shop   \n",
       "1      2020-05-05 05:20:15  building  assembly_shop   \n",
       "2      2020-05-05 19:24:02  building  assembly_shop   \n",
       "3      2020-05-05 20:59:19  building  assembly_shop   \n",
       "4      2020-05-06 00:52:56  building  assembly_shop   \n",
       "...                    ...       ...            ...   \n",
       "135634 2020-05-13 23:56:39  building      spaceport   \n",
       "135635 2020-05-18 00:23:28  building      spaceport   \n",
       "135636 2020-05-10 23:59:52  building  assembly_shop   \n",
       "135637 2020-05-13 08:11:19  building      spaceport   \n",
       "135638 2020-05-18 11:11:11  building      spaceport   \n",
       "\n",
       "                                     user_id    ad_date  \\\n",
       "0       55e92310-cb8e-4754-b622-597e124b03de 2020-05-04   \n",
       "1       55e92310-cb8e-4754-b622-597e124b03de 2020-05-04   \n",
       "2       55e92310-cb8e-4754-b622-597e124b03de 2020-05-04   \n",
       "3       55e92310-cb8e-4754-b622-597e124b03de 2020-05-04   \n",
       "4       55e92310-cb8e-4754-b622-597e124b03de 2020-05-04   \n",
       "...                                      ...        ...   \n",
       "135634  cafd1b8b-507b-49ae-abf0-89fe863a8b03 2020-05-10   \n",
       "135635  cafd1b8b-507b-49ae-abf0-89fe863a8b03 2020-05-10   \n",
       "135636  bdc53e19-462a-4dc3-8b55-b4a34278af6a 2020-05-10   \n",
       "135637  bdc53e19-462a-4dc3-8b55-b4a34278af6a 2020-05-10   \n",
       "135638  bdc53e19-462a-4dc3-8b55-b4a34278af6a 2020-05-10   \n",
       "\n",
       "                         source event_date  days_since_ad_date  \\\n",
       "0       youtube_channel_network 2020-05-04                   0   \n",
       "1       youtube_channel_network 2020-05-05                   1   \n",
       "2       youtube_channel_network 2020-05-05                   1   \n",
       "3       youtube_channel_network 2020-05-05                   1   \n",
       "4       youtube_channel_network 2020-05-06                   2   \n",
       "...                         ...        ...                 ...   \n",
       "135634             facebook_ads 2020-05-13                   3   \n",
       "135635             facebook_ads 2020-05-18                   8   \n",
       "135636  youtube_channel_network 2020-05-10                   0   \n",
       "135637  youtube_channel_network 2020-05-13                   3   \n",
       "135638  youtube_channel_network 2020-05-18                   8   \n",
       "\n",
       "        stage_1_completed      p_or_b  p_users  \n",
       "0                       0  incomplete        0  \n",
       "1                       0  incomplete        0  \n",
       "2                       0  incomplete        0  \n",
       "3                       0  incomplete        0  \n",
       "4                       0  incomplete        0  \n",
       "...                   ...         ...      ...  \n",
       "135634                  0  incomplete        0  \n",
       "135635                  0  incomplete        0  \n",
       "135636                  0  incomplete        0  \n",
       "135637                  0  incomplete        0  \n",
       "135638                  0  incomplete        0  \n",
       "\n",
       "[135261 rows x 11 columns]"
      ]
     },
     "execution_count": 75,
     "metadata": {},
     "output_type": "execute_result"
    }
   ],
   "source": [
    "events['p_users'] = np.where(events['p_or_b'] == 'project', True, False)\n",
    "events['p_users'] = np.multiply(events['p_users'], 1)\n",
    "events['p_users'] = events['p_users'].astype(int)\n",
    "events"
   ]
  },
  {
   "cell_type": "markdown",
   "metadata": {},
   "source": [
    "We now have a column showing a 1 for whether users are \"p\" group. Let's group each user, averaging the p_users to get a proportion by source."
   ]
  },
  {
   "cell_type": "code",
   "execution_count": 76,
   "metadata": {},
   "outputs": [
    {
     "data": {
      "text/html": [
       "<div>\n",
       "<style scoped>\n",
       "    .dataframe tbody tr th:only-of-type {\n",
       "        vertical-align: middle;\n",
       "    }\n",
       "\n",
       "    .dataframe tbody tr th {\n",
       "        vertical-align: top;\n",
       "    }\n",
       "\n",
       "    .dataframe thead th {\n",
       "        text-align: right;\n",
       "    }\n",
       "</style>\n",
       "<table border=\"1\" class=\"dataframe\">\n",
       "  <thead>\n",
       "    <tr style=\"text-align: right;\">\n",
       "      <th></th>\n",
       "      <th>p_users</th>\n",
       "    </tr>\n",
       "    <tr>\n",
       "      <th>source</th>\n",
       "      <th></th>\n",
       "    </tr>\n",
       "  </thead>\n",
       "  <tbody>\n",
       "    <tr>\n",
       "      <th>facebook_ads</th>\n",
       "      <td>0.142227</td>\n",
       "    </tr>\n",
       "    <tr>\n",
       "      <th>google_play_ads</th>\n",
       "      <td>0.128221</td>\n",
       "    </tr>\n",
       "    <tr>\n",
       "      <th>instagram_new_adverts</th>\n",
       "      <td>0.141447</td>\n",
       "    </tr>\n",
       "    <tr>\n",
       "      <th>youtube_channel_network</th>\n",
       "      <td>0.139500</td>\n",
       "    </tr>\n",
       "  </tbody>\n",
       "</table>\n",
       "</div>"
      ],
      "text/plain": [
       "                          p_users\n",
       "source                           \n",
       "facebook_ads             0.142227\n",
       "google_play_ads          0.128221\n",
       "instagram_new_adverts    0.141447\n",
       "youtube_channel_network  0.139500"
      ]
     },
     "execution_count": 76,
     "metadata": {},
     "output_type": "execute_result"
    }
   ],
   "source": [
    "p_proportions_per_source = events.groupby('user_id').first().groupby('source').agg({'p_users' : 'mean'})\n",
    "p_proportions_per_source"
   ]
  },
  {
   "cell_type": "markdown",
   "metadata": {},
   "source": [
    "Now, let's add the results to our costs_per_source table."
   ]
  },
  {
   "cell_type": "code",
   "execution_count": 77,
   "metadata": {
    "scrolled": true
   },
   "outputs": [
    {
     "data": {
      "text/html": [
       "<div>\n",
       "<style scoped>\n",
       "    .dataframe tbody tr th:only-of-type {\n",
       "        vertical-align: middle;\n",
       "    }\n",
       "\n",
       "    .dataframe tbody tr th {\n",
       "        vertical-align: top;\n",
       "    }\n",
       "\n",
       "    .dataframe thead th {\n",
       "        text-align: right;\n",
       "    }\n",
       "</style>\n",
       "<table border=\"1\" class=\"dataframe\">\n",
       "  <thead>\n",
       "    <tr style=\"text-align: right;\">\n",
       "      <th></th>\n",
       "      <th>cost</th>\n",
       "      <th>users</th>\n",
       "      <th>cost_per_user</th>\n",
       "      <th>proportion_completed</th>\n",
       "      <th>completed_performance_rate</th>\n",
       "      <th>proportion_p</th>\n",
       "    </tr>\n",
       "    <tr>\n",
       "      <th>source</th>\n",
       "      <th></th>\n",
       "      <th></th>\n",
       "      <th></th>\n",
       "      <th></th>\n",
       "      <th></th>\n",
       "      <th></th>\n",
       "    </tr>\n",
       "  </thead>\n",
       "  <tbody>\n",
       "    <tr>\n",
       "      <th>facebook_ads</th>\n",
       "      <td>2140.904643</td>\n",
       "      <td>2726</td>\n",
       "      <td>0.785365</td>\n",
       "      <td>0.421864</td>\n",
       "      <td>0.537156</td>\n",
       "      <td>0.142227</td>\n",
       "    </tr>\n",
       "    <tr>\n",
       "      <th>google_play_ads</th>\n",
       "      <td>2233.111449</td>\n",
       "      <td>4817</td>\n",
       "      <td>0.463590</td>\n",
       "      <td>0.423915</td>\n",
       "      <td>0.914419</td>\n",
       "      <td>0.128221</td>\n",
       "    </tr>\n",
       "    <tr>\n",
       "      <th>instagram_new_adverts</th>\n",
       "      <td>2161.441691</td>\n",
       "      <td>3347</td>\n",
       "      <td>0.645785</td>\n",
       "      <td>0.438004</td>\n",
       "      <td>0.678251</td>\n",
       "      <td>0.141447</td>\n",
       "    </tr>\n",
       "    <tr>\n",
       "      <th>youtube_channel_network</th>\n",
       "      <td>1068.119204</td>\n",
       "      <td>2686</td>\n",
       "      <td>0.397662</td>\n",
       "      <td>0.431497</td>\n",
       "      <td>1.085085</td>\n",
       "      <td>0.139500</td>\n",
       "    </tr>\n",
       "  </tbody>\n",
       "</table>\n",
       "</div>"
      ],
      "text/plain": [
       "                                cost  users  cost_per_user  \\\n",
       "source                                                       \n",
       "facebook_ads             2140.904643   2726       0.785365   \n",
       "google_play_ads          2233.111449   4817       0.463590   \n",
       "instagram_new_adverts    2161.441691   3347       0.645785   \n",
       "youtube_channel_network  1068.119204   2686       0.397662   \n",
       "\n",
       "                         proportion_completed  completed_performance_rate  \\\n",
       "source                                                                      \n",
       "facebook_ads                         0.421864                    0.537156   \n",
       "google_play_ads                      0.423915                    0.914419   \n",
       "instagram_new_adverts                0.438004                    0.678251   \n",
       "youtube_channel_network              0.431497                    1.085085   \n",
       "\n",
       "                         proportion_p  \n",
       "source                                 \n",
       "facebook_ads                 0.142227  \n",
       "google_play_ads              0.128221  \n",
       "instagram_new_adverts        0.141447  \n",
       "youtube_channel_network      0.139500  "
      ]
     },
     "execution_count": 77,
     "metadata": {},
     "output_type": "execute_result"
    }
   ],
   "source": [
    "costs_per_source['proportion_p'] = p_proportions_per_source['p_users']\n",
    "costs_per_source"
   ]
  },
  {
   "cell_type": "markdown",
   "metadata": {},
   "source": [
    "We now have the proportions of users who have completed the first stage per source. Let's calculate the performance rate based on these proportions."
   ]
  },
  {
   "cell_type": "code",
   "execution_count": 78,
   "metadata": {},
   "outputs": [
    {
     "data": {
      "text/html": [
       "<div>\n",
       "<style scoped>\n",
       "    .dataframe tbody tr th:only-of-type {\n",
       "        vertical-align: middle;\n",
       "    }\n",
       "\n",
       "    .dataframe tbody tr th {\n",
       "        vertical-align: top;\n",
       "    }\n",
       "\n",
       "    .dataframe thead th {\n",
       "        text-align: right;\n",
       "    }\n",
       "</style>\n",
       "<table border=\"1\" class=\"dataframe\">\n",
       "  <thead>\n",
       "    <tr style=\"text-align: right;\">\n",
       "      <th></th>\n",
       "      <th>cost</th>\n",
       "      <th>users</th>\n",
       "      <th>cost_per_user</th>\n",
       "      <th>proportion_completed</th>\n",
       "      <th>completed_performance_rate</th>\n",
       "      <th>proportion_p</th>\n",
       "      <th>p_performance_rate</th>\n",
       "    </tr>\n",
       "    <tr>\n",
       "      <th>source</th>\n",
       "      <th></th>\n",
       "      <th></th>\n",
       "      <th></th>\n",
       "      <th></th>\n",
       "      <th></th>\n",
       "      <th></th>\n",
       "      <th></th>\n",
       "    </tr>\n",
       "  </thead>\n",
       "  <tbody>\n",
       "    <tr>\n",
       "      <th>facebook_ads</th>\n",
       "      <td>2140.904643</td>\n",
       "      <td>2726</td>\n",
       "      <td>0.785365</td>\n",
       "      <td>0.421864</td>\n",
       "      <td>0.537156</td>\n",
       "      <td>0.142227</td>\n",
       "      <td>0.181097</td>\n",
       "    </tr>\n",
       "    <tr>\n",
       "      <th>google_play_ads</th>\n",
       "      <td>2233.111449</td>\n",
       "      <td>4817</td>\n",
       "      <td>0.463590</td>\n",
       "      <td>0.423915</td>\n",
       "      <td>0.914419</td>\n",
       "      <td>0.128221</td>\n",
       "      <td>0.276583</td>\n",
       "    </tr>\n",
       "    <tr>\n",
       "      <th>instagram_new_adverts</th>\n",
       "      <td>2161.441691</td>\n",
       "      <td>3347</td>\n",
       "      <td>0.645785</td>\n",
       "      <td>0.438004</td>\n",
       "      <td>0.678251</td>\n",
       "      <td>0.141447</td>\n",
       "      <td>0.219032</td>\n",
       "    </tr>\n",
       "    <tr>\n",
       "      <th>youtube_channel_network</th>\n",
       "      <td>1068.119204</td>\n",
       "      <td>2686</td>\n",
       "      <td>0.397662</td>\n",
       "      <td>0.431497</td>\n",
       "      <td>1.085085</td>\n",
       "      <td>0.139500</td>\n",
       "      <td>0.350801</td>\n",
       "    </tr>\n",
       "  </tbody>\n",
       "</table>\n",
       "</div>"
      ],
      "text/plain": [
       "                                cost  users  cost_per_user  \\\n",
       "source                                                       \n",
       "facebook_ads             2140.904643   2726       0.785365   \n",
       "google_play_ads          2233.111449   4817       0.463590   \n",
       "instagram_new_adverts    2161.441691   3347       0.645785   \n",
       "youtube_channel_network  1068.119204   2686       0.397662   \n",
       "\n",
       "                         proportion_completed  completed_performance_rate  \\\n",
       "source                                                                      \n",
       "facebook_ads                         0.421864                    0.537156   \n",
       "google_play_ads                      0.423915                    0.914419   \n",
       "instagram_new_adverts                0.438004                    0.678251   \n",
       "youtube_channel_network              0.431497                    1.085085   \n",
       "\n",
       "                         proportion_p  p_performance_rate  \n",
       "source                                                     \n",
       "facebook_ads                 0.142227            0.181097  \n",
       "google_play_ads              0.128221            0.276583  \n",
       "instagram_new_adverts        0.141447            0.219032  \n",
       "youtube_channel_network      0.139500            0.350801  "
      ]
     },
     "execution_count": 78,
     "metadata": {},
     "output_type": "execute_result"
    }
   ],
   "source": [
    "#Calculate column showing source \"performance rate\"\n",
    "costs_per_source['p_performance_rate'] = costs_per_source['proportion_p']\\\n",
    "/ costs_per_source['cost_per_user']\n",
    "costs_per_source"
   ]
  },
  {
   "cell_type": "markdown",
   "metadata": {},
   "source": [
    "The performance rate for \"p\" group shows a similar ranking of sources as the performance rate based on completed users.\n",
    "\n",
    "Let's calculate the overall totals, proportion rates and performance rates and add the row to our table."
   ]
  },
  {
   "cell_type": "code",
   "execution_count": 79,
   "metadata": {},
   "outputs": [],
   "source": [
    "all_cost = costs_per_source['cost'].sum()\n",
    "all_users = costs_per_source['users'].sum()\n",
    "all_cost_per_user = all_cost / all_users\n",
    "all_proportion_completed = events.groupby('user_id')['stage_1_completed'].mean().mean()\n",
    "all_completed_performance_rate = all_proportion_completed / all_cost_per_user\n",
    "all_proportion_p = events.groupby('user_id')['p_users'].mean().mean()\n",
    "all_p_performance_rate =  all_proportion_p / all_cost_per_user"
   ]
  },
  {
   "cell_type": "code",
   "execution_count": 80,
   "metadata": {},
   "outputs": [
    {
     "data": {
      "text/html": [
       "<div>\n",
       "<style scoped>\n",
       "    .dataframe tbody tr th:only-of-type {\n",
       "        vertical-align: middle;\n",
       "    }\n",
       "\n",
       "    .dataframe tbody tr th {\n",
       "        vertical-align: top;\n",
       "    }\n",
       "\n",
       "    .dataframe thead th {\n",
       "        text-align: right;\n",
       "    }\n",
       "</style>\n",
       "<table border=\"1\" class=\"dataframe\">\n",
       "  <thead>\n",
       "    <tr style=\"text-align: right;\">\n",
       "      <th></th>\n",
       "      <th>source</th>\n",
       "      <th>cost</th>\n",
       "      <th>users</th>\n",
       "      <th>cost_per_user</th>\n",
       "      <th>proportion_completed</th>\n",
       "      <th>completed_performance_rate</th>\n",
       "      <th>proportion_p</th>\n",
       "      <th>p_performance_rate</th>\n",
       "    </tr>\n",
       "  </thead>\n",
       "  <tbody>\n",
       "    <tr>\n",
       "      <th>0</th>\n",
       "      <td>facebook_ads</td>\n",
       "      <td>2140.904643</td>\n",
       "      <td>2726</td>\n",
       "      <td>0.785365</td>\n",
       "      <td>0.421864</td>\n",
       "      <td>0.537156</td>\n",
       "      <td>0.142227</td>\n",
       "      <td>0.181097</td>\n",
       "    </tr>\n",
       "    <tr>\n",
       "      <th>1</th>\n",
       "      <td>google_play_ads</td>\n",
       "      <td>2233.111449</td>\n",
       "      <td>4817</td>\n",
       "      <td>0.463590</td>\n",
       "      <td>0.423915</td>\n",
       "      <td>0.914419</td>\n",
       "      <td>0.128221</td>\n",
       "      <td>0.276583</td>\n",
       "    </tr>\n",
       "    <tr>\n",
       "      <th>2</th>\n",
       "      <td>instagram_new_adverts</td>\n",
       "      <td>2161.441691</td>\n",
       "      <td>3347</td>\n",
       "      <td>0.645785</td>\n",
       "      <td>0.438004</td>\n",
       "      <td>0.678251</td>\n",
       "      <td>0.141447</td>\n",
       "      <td>0.219032</td>\n",
       "    </tr>\n",
       "    <tr>\n",
       "      <th>3</th>\n",
       "      <td>youtube_channel_network</td>\n",
       "      <td>1068.119204</td>\n",
       "      <td>2686</td>\n",
       "      <td>0.397662</td>\n",
       "      <td>0.431497</td>\n",
       "      <td>1.085085</td>\n",
       "      <td>0.139500</td>\n",
       "      <td>0.350801</td>\n",
       "    </tr>\n",
       "    <tr>\n",
       "      <th>4</th>\n",
       "      <td>all_sources</td>\n",
       "      <td>7603.576987</td>\n",
       "      <td>13576</td>\n",
       "      <td>0.560075</td>\n",
       "      <td>0.427718</td>\n",
       "      <td>0.763680</td>\n",
       "      <td>0.136525</td>\n",
       "      <td>0.243761</td>\n",
       "    </tr>\n",
       "  </tbody>\n",
       "</table>\n",
       "</div>"
      ],
      "text/plain": [
       "                    source         cost  users  cost_per_user  \\\n",
       "0             facebook_ads  2140.904643   2726       0.785365   \n",
       "1          google_play_ads  2233.111449   4817       0.463590   \n",
       "2    instagram_new_adverts  2161.441691   3347       0.645785   \n",
       "3  youtube_channel_network  1068.119204   2686       0.397662   \n",
       "4              all_sources  7603.576987  13576       0.560075   \n",
       "\n",
       "   proportion_completed  completed_performance_rate  proportion_p  \\\n",
       "0              0.421864                    0.537156      0.142227   \n",
       "1              0.423915                    0.914419      0.128221   \n",
       "2              0.438004                    0.678251      0.141447   \n",
       "3              0.431497                    1.085085      0.139500   \n",
       "4              0.427718                    0.763680      0.136525   \n",
       "\n",
       "   p_performance_rate  \n",
       "0            0.181097  \n",
       "1            0.276583  \n",
       "2            0.219032  \n",
       "3            0.350801  \n",
       "4            0.243761  "
      ]
     },
     "execution_count": 80,
     "metadata": {},
     "output_type": "execute_result"
    }
   ],
   "source": [
    "new_row_for_all_sources = {'source': 'all_sources', 'cost': all_cost, 'users': all_users,\n",
    "                           'cost_per_user': all_cost_per_user, 'proportion_completed': all_proportion_completed,\\\n",
    "                           'completed_performance_rate': all_completed_performance_rate,\\\n",
    "                           'proportion_p': all_proportion_p, 'p_performance_rate': all_p_performance_rate}\n",
    "\n",
    "final_performance_table = costs_per_source.reset_index()\n",
    "final_performance_table = final_performance_table.append(new_row_for_all_sources, ignore_index=True)\n",
    "\n",
    "final_performance_table"
   ]
  },
  {
   "cell_type": "markdown",
   "metadata": {},
   "source": [
    "Now we have a row showing the data for all sources. Let's plot two bar charts to compare the performance rate for each source to the overall performance rate. We will do this for performance rates based on both completed users as well as \"p\" group."
   ]
  },
  {
   "cell_type": "code",
   "execution_count": 81,
   "metadata": {},
   "outputs": [
    {
     "data": {
      "image/png": "[encoded data removed]",
      "text/plain": [
       "<Figure size 1152x576 with 1 Axes>"
      ]
     },
     "metadata": {
      "needs_background": "light"
     },
     "output_type": "display_data"
    }
   ],
   "source": [
    "plt.figure(figsize=(16, 8))\n",
    "plt.bar(['facebook_ads', 'google_play_ads', 'instagram_new_adverts', 'youtube_channel_network'],\\\n",
    "        costs_per_source['completed_performance_rate'])\n",
    "plt.title('Performance Rate Based on Users Completing Stage 1')\n",
    "plt.ylabel('Performance Rate')\n",
    "plt.xlabel('source')\n",
    "plt.axhline(y=all_completed_performance_rate, color='r', linestyle='-')\n",
    "plt.show()"
   ]
  },
  {
   "cell_type": "code",
   "execution_count": 82,
   "metadata": {},
   "outputs": [
    {
     "data": {
      "image/png": "[encoded data removed]",
      "text/plain": [
       "<Figure size 1152x576 with 1 Axes>"
      ]
     },
     "metadata": {
      "needs_background": "light"
     },
     "output_type": "display_data"
    }
   ],
   "source": [
    "plt.figure(figsize=(16, 8))\n",
    "plt.bar(['facebook_ads', 'google_play_ads', 'instagram_new_adverts', 'youtube_channel_network'],\\\n",
    "        costs_per_source['p_performance_rate'])\n",
    "plt.title('Performance Rate Based on \"p\" Group')\n",
    "plt.ylabel('Performance Rate')\n",
    "plt.xlabel('source')\n",
    "plt.axhline(y=all_p_performance_rate, color='r', linestyle='-')\n",
    "plt.show()"
   ]
  },
  {
   "cell_type": "markdown",
   "metadata": {},
   "source": [
    "We now have two performance rates determined using to target variables (completed users and \"p\" group) "
   ]
  },
  {
   "cell_type": "markdown",
   "metadata": {},
   "source": [
    "## Conclusions and Reccomendations"
   ]
  },
  {
   "cell_type": "markdown",
   "metadata": {},
   "source": [
    "We investigated the \"costs\" to find that new users declined by a consistent rate each day of the week-long ad run. Cost per user showed a wide variance per source, facebook_ads being the most expensive and youtube_channel_network being the cheapest.\n",
    "\n",
    "42% of users completed the first stage of the game. A third of these users completed stage 1 via the \"project\" route. The rest completed the first stage by defeating the boss.\n",
    "\n",
    "Regarding target values, we have concluded the following:\n",
    "- The more users encounter the building events, the more likely they are to interact with in-game advertisements.\n",
    "- Users who complete the first stage of the game are more likely to have encountered the building events than users who did not complete the first stage.\n",
    "- Users who complete the first stage of the game are more likely to have spent more days on the app than the users who did not complete the first stage.\n",
    "- Users who complete the first stage are more likely to continue playing the game, encountering more building events in the future and spending more days on the app in the future.\n",
    "- As such, stage_1_completed is a key target variable.\n",
    "- Among users who have completed the first stage of the app, there are two categories: \"p\" (those who complete the game through completing the satellite_orbital_assembly project) and \"b\" (those who complete the first stage by defeating the boss)\n",
    "- Among the groups \"p\" and \"b\", \"p\" group is the better performer in terms of the number of building events they encounter and the number of days they spend on the app.\n",
    "- \"p\" group is an even more desirable target value than the group that finished the first stage.\n",
    "\n",
    "Users remain more or less consistent regardless of source. However, there is a slight variance. We calculated costs per user and proportions of users who participated in the target groups. We used this information to come up with two performance rates, one based on user who completed the first stage, the other based on users who were part of \"p\" group.\n",
    "\n",
    "I recommend that decisions on advertising be based on the performance rates presented in the bar charts above, with youtube_channel_network receiving the most funding and facebook_ads receiving the least.\n",
    "\n",
    "Additionally, I recommend that the game be adjusted to encourage more users to pursue the \"project\" route to completing the first round. This will facilitate more add interaction and more  days spent on the app."
   ]
  },
  {
   "cell_type": "markdown",
   "metadata": {},
   "source": [
    "Presentation link: https://drive.google.com/file/d/1Rq9MQWN0T-fsgCCdix6FYQiqe957mY8B/view?usp=sharing\n",
    "\n",
    "Tabluea Dashboard Link: https://public.tableau.com/authoring/GamesMonetizationModelDashboard/Dashboard1#1"
   ]
  }
 ],
 "metadata": {
  "ExecuteTimeLog": [
   {
    "duration": 1792,
    "start_time": "2022-03-28T15:59:04.985Z"
   },
   {
    "duration": 447,
    "start_time": "2022-03-28T15:59:06.781Z"
   },
   {
    "duration": 82,
    "start_time": "2022-03-28T15:59:07.230Z"
   },
   {
    "duration": 264,
    "start_time": "2022-03-28T15:59:07.315Z"
   },
   {
    "duration": 121,
    "start_time": "2022-03-28T15:59:07.582Z"
   },
   {
    "duration": 8,
    "start_time": "2022-03-28T15:59:07.706Z"
   },
   {
    "duration": 16,
    "start_time": "2022-03-28T15:59:07.716Z"
   },
   {
    "duration": 140,
    "start_time": "2022-03-28T15:59:07.734Z"
   },
   {
    "duration": 120,
    "start_time": "2022-03-28T15:59:07.876Z"
   },
   {
    "duration": 6,
    "start_time": "2022-03-28T15:59:08.000Z"
   },
   {
    "duration": 62,
    "start_time": "2022-03-28T15:59:08.008Z"
   },
   {
    "duration": 15,
    "start_time": "2022-03-28T15:59:08.072Z"
   },
   {
    "duration": 16,
    "start_time": "2022-03-28T15:59:08.089Z"
   },
   {
    "duration": 84,
    "start_time": "2022-03-28T15:59:08.107Z"
   },
   {
    "duration": 55,
    "start_time": "2022-03-28T15:59:08.193Z"
   },
   {
    "duration": 18,
    "start_time": "2022-03-28T15:59:08.268Z"
   },
   {
    "duration": 35,
    "start_time": "2022-03-28T15:59:08.288Z"
   },
   {
    "duration": 71,
    "start_time": "2022-03-28T15:59:08.325Z"
   },
   {
    "duration": 98,
    "start_time": "2022-03-28T15:59:08.398Z"
   },
   {
    "duration": 39,
    "start_time": "2022-03-28T15:59:08.498Z"
   },
   {
    "duration": 133,
    "start_time": "2022-03-28T15:59:08.540Z"
   },
   {
    "duration": 55,
    "start_time": "2022-03-28T15:59:08.675Z"
   },
   {
    "duration": 71,
    "start_time": "2022-03-28T15:59:08.732Z"
   },
   {
    "duration": 186,
    "start_time": "2022-03-28T15:59:08.805Z"
   },
   {
    "duration": 0,
    "start_time": "2022-03-28T15:59:08.996Z"
   },
   {
    "duration": 0,
    "start_time": "2022-03-28T15:59:08.998Z"
   },
   {
    "duration": 0,
    "start_time": "2022-03-28T15:59:09.000Z"
   },
   {
    "duration": 0,
    "start_time": "2022-03-28T15:59:09.001Z"
   },
   {
    "duration": 0,
    "start_time": "2022-03-28T15:59:09.003Z"
   },
   {
    "duration": 0,
    "start_time": "2022-03-28T15:59:09.005Z"
   },
   {
    "duration": 0,
    "start_time": "2022-03-28T15:59:09.006Z"
   },
   {
    "duration": 0,
    "start_time": "2022-03-28T15:59:09.008Z"
   },
   {
    "duration": 0,
    "start_time": "2022-03-28T15:59:09.010Z"
   },
   {
    "duration": 0,
    "start_time": "2022-03-28T15:59:09.011Z"
   },
   {
    "duration": 0,
    "start_time": "2022-03-28T15:59:09.013Z"
   },
   {
    "duration": 0,
    "start_time": "2022-03-28T15:59:09.014Z"
   },
   {
    "duration": 0,
    "start_time": "2022-03-28T15:59:09.016Z"
   },
   {
    "duration": 0,
    "start_time": "2022-03-28T15:59:09.018Z"
   },
   {
    "duration": 0,
    "start_time": "2022-03-28T15:59:09.019Z"
   },
   {
    "duration": 0,
    "start_time": "2022-03-28T15:59:09.021Z"
   },
   {
    "duration": 0,
    "start_time": "2022-03-28T15:59:09.022Z"
   },
   {
    "duration": 0,
    "start_time": "2022-03-28T15:59:09.068Z"
   },
   {
    "duration": 0,
    "start_time": "2022-03-28T15:59:09.069Z"
   },
   {
    "duration": 0,
    "start_time": "2022-03-28T15:59:09.071Z"
   },
   {
    "duration": 0,
    "start_time": "2022-03-28T15:59:09.072Z"
   },
   {
    "duration": 0,
    "start_time": "2022-03-28T15:59:09.074Z"
   },
   {
    "duration": 0,
    "start_time": "2022-03-28T15:59:09.075Z"
   },
   {
    "duration": 0,
    "start_time": "2022-03-28T15:59:09.077Z"
   },
   {
    "duration": 0,
    "start_time": "2022-03-28T15:59:09.078Z"
   },
   {
    "duration": 0,
    "start_time": "2022-03-28T15:59:09.080Z"
   },
   {
    "duration": 0,
    "start_time": "2022-03-28T15:59:09.081Z"
   },
   {
    "duration": 0,
    "start_time": "2022-03-28T15:59:09.083Z"
   },
   {
    "duration": 0,
    "start_time": "2022-03-28T15:59:09.084Z"
   },
   {
    "duration": 0,
    "start_time": "2022-03-28T15:59:09.086Z"
   },
   {
    "duration": 0,
    "start_time": "2022-03-28T15:59:09.087Z"
   },
   {
    "duration": 0,
    "start_time": "2022-03-28T15:59:09.088Z"
   },
   {
    "duration": 0,
    "start_time": "2022-03-28T15:59:09.090Z"
   },
   {
    "duration": 0,
    "start_time": "2022-03-28T15:59:09.091Z"
   },
   {
    "duration": 0,
    "start_time": "2022-03-28T15:59:09.093Z"
   },
   {
    "duration": 0,
    "start_time": "2022-03-28T15:59:09.094Z"
   },
   {
    "duration": 0,
    "start_time": "2022-03-28T15:59:09.095Z"
   },
   {
    "duration": 0,
    "start_time": "2022-03-28T15:59:09.097Z"
   },
   {
    "duration": 0,
    "start_time": "2022-03-28T15:59:09.098Z"
   },
   {
    "duration": 0,
    "start_time": "2022-03-28T15:59:09.099Z"
   },
   {
    "duration": 0,
    "start_time": "2022-03-28T15:59:09.101Z"
   },
   {
    "duration": 0,
    "start_time": "2022-03-28T15:59:09.102Z"
   },
   {
    "duration": 0,
    "start_time": "2022-03-28T15:59:09.167Z"
   },
   {
    "duration": 0,
    "start_time": "2022-03-28T15:59:09.169Z"
   },
   {
    "duration": 0,
    "start_time": "2022-03-28T15:59:09.170Z"
   },
   {
    "duration": 0,
    "start_time": "2022-03-28T15:59:09.172Z"
   },
   {
    "duration": 0,
    "start_time": "2022-03-28T15:59:09.173Z"
   },
   {
    "duration": 0,
    "start_time": "2022-03-28T15:59:09.175Z"
   },
   {
    "duration": 0,
    "start_time": "2022-03-28T15:59:09.177Z"
   },
   {
    "duration": 0,
    "start_time": "2022-03-28T15:59:09.178Z"
   },
   {
    "duration": 0,
    "start_time": "2022-03-28T15:59:09.180Z"
   },
   {
    "duration": 0,
    "start_time": "2022-03-28T15:59:09.181Z"
   },
   {
    "duration": 0,
    "start_time": "2022-03-28T15:59:09.183Z"
   },
   {
    "duration": 0,
    "start_time": "2022-03-28T15:59:09.184Z"
   },
   {
    "duration": 0,
    "start_time": "2022-03-28T15:59:09.186Z"
   },
   {
    "duration": 0,
    "start_time": "2022-03-28T15:59:09.187Z"
   },
   {
    "duration": 0,
    "start_time": "2022-03-28T15:59:09.188Z"
   },
   {
    "duration": 0,
    "start_time": "2022-03-28T15:59:09.190Z"
   },
   {
    "duration": 0,
    "start_time": "2022-03-28T15:59:09.191Z"
   },
   {
    "duration": 0,
    "start_time": "2022-03-28T15:59:09.193Z"
   },
   {
    "duration": 0,
    "start_time": "2022-03-28T15:59:09.195Z"
   },
   {
    "duration": 0,
    "start_time": "2022-03-28T15:59:09.196Z"
   },
   {
    "duration": 0,
    "start_time": "2022-03-28T15:59:09.198Z"
   },
   {
    "duration": 0,
    "start_time": "2022-03-28T15:59:09.199Z"
   },
   {
    "duration": 0,
    "start_time": "2022-03-28T15:59:09.200Z"
   },
   {
    "duration": 33,
    "start_time": "2022-03-28T16:00:38.962Z"
   },
   {
    "duration": 5,
    "start_time": "2022-03-28T16:00:42.876Z"
   },
   {
    "duration": 361,
    "start_time": "2022-03-28T16:00:42.885Z"
   },
   {
    "duration": 68,
    "start_time": "2022-03-28T16:00:43.248Z"
   },
   {
    "duration": 90,
    "start_time": "2022-03-28T16:00:43.319Z"
   },
   {
    "duration": 121,
    "start_time": "2022-03-28T16:00:43.412Z"
   },
   {
    "duration": 7,
    "start_time": "2022-03-28T16:00:43.535Z"
   },
   {
    "duration": 38,
    "start_time": "2022-03-28T16:00:43.544Z"
   },
   {
    "duration": 134,
    "start_time": "2022-03-28T16:00:43.584Z"
   },
   {
    "duration": 133,
    "start_time": "2022-03-28T16:00:43.721Z"
   },
   {
    "duration": 10,
    "start_time": "2022-03-28T16:00:43.858Z"
   },
   {
    "duration": 68,
    "start_time": "2022-03-28T16:00:43.870Z"
   },
   {
    "duration": 14,
    "start_time": "2022-03-28T16:00:43.941Z"
   },
   {
    "duration": 26,
    "start_time": "2022-03-28T16:00:43.958Z"
   },
   {
    "duration": 60,
    "start_time": "2022-03-28T16:00:43.987Z"
   },
   {
    "duration": 61,
    "start_time": "2022-03-28T16:00:44.049Z"
   },
   {
    "duration": 17,
    "start_time": "2022-03-28T16:00:44.112Z"
   },
   {
    "duration": 61,
    "start_time": "2022-03-28T16:00:44.131Z"
   },
   {
    "duration": 47,
    "start_time": "2022-03-28T16:00:44.194Z"
   },
   {
    "duration": 104,
    "start_time": "2022-03-28T16:00:44.244Z"
   },
   {
    "duration": 53,
    "start_time": "2022-03-28T16:00:44.350Z"
   },
   {
    "duration": 126,
    "start_time": "2022-03-28T16:00:44.406Z"
   },
   {
    "duration": 73,
    "start_time": "2022-03-28T16:00:44.534Z"
   },
   {
    "duration": 71,
    "start_time": "2022-03-28T16:00:44.610Z"
   },
   {
    "duration": 52,
    "start_time": "2022-03-28T16:00:44.683Z"
   },
   {
    "duration": 66,
    "start_time": "2022-03-28T16:00:44.738Z"
   },
   {
    "duration": 34,
    "start_time": "2022-03-28T16:00:44.806Z"
   },
   {
    "duration": 83,
    "start_time": "2022-03-28T16:00:44.843Z"
   },
   {
    "duration": 62,
    "start_time": "2022-03-28T16:00:44.935Z"
   },
   {
    "duration": 17,
    "start_time": "2022-03-28T16:00:45.000Z"
   },
   {
    "duration": 53,
    "start_time": "2022-03-28T16:00:45.020Z"
   },
   {
    "duration": 691,
    "start_time": "2022-03-28T16:00:45.076Z"
   },
   {
    "duration": 5,
    "start_time": "2022-03-28T16:00:45.770Z"
   },
   {
    "duration": 19,
    "start_time": "2022-03-28T16:00:45.777Z"
   },
   {
    "duration": 88,
    "start_time": "2022-03-28T16:00:45.798Z"
   },
   {
    "duration": 17,
    "start_time": "2022-03-28T16:00:45.889Z"
   },
   {
    "duration": 494,
    "start_time": "2022-03-28T16:00:45.909Z"
   },
   {
    "duration": 31,
    "start_time": "2022-03-28T16:00:46.406Z"
   },
   {
    "duration": 105,
    "start_time": "2022-03-28T16:00:46.440Z"
   },
   {
    "duration": 163,
    "start_time": "2022-03-28T16:00:46.548Z"
   },
   {
    "duration": 100,
    "start_time": "2022-03-28T16:00:46.714Z"
   },
   {
    "duration": 495,
    "start_time": "2022-03-28T16:00:46.816Z"
   },
   {
    "duration": 107,
    "start_time": "2022-03-28T16:00:47.313Z"
   },
   {
    "duration": 32,
    "start_time": "2022-03-28T16:00:47.422Z"
   },
   {
    "duration": 400,
    "start_time": "2022-03-28T16:00:47.468Z"
   },
   {
    "duration": 53,
    "start_time": "2022-03-28T16:00:47.870Z"
   },
   {
    "duration": 72,
    "start_time": "2022-03-28T16:00:47.926Z"
   },
   {
    "duration": 107,
    "start_time": "2022-03-28T16:00:48.001Z"
   },
   {
    "duration": 398,
    "start_time": "2022-03-28T16:00:48.110Z"
   },
   {
    "duration": 331,
    "start_time": "2022-03-28T16:00:48.510Z"
   },
   {
    "duration": 26,
    "start_time": "2022-03-28T16:00:48.843Z"
   },
   {
    "duration": 501,
    "start_time": "2022-03-28T16:00:48.871Z"
   },
   {
    "duration": 110,
    "start_time": "2022-03-28T16:00:49.374Z"
   },
   {
    "duration": 364,
    "start_time": "2022-03-28T16:00:49.486Z"
   },
   {
    "duration": 20,
    "start_time": "2022-03-28T16:00:49.852Z"
   },
   {
    "duration": 6,
    "start_time": "2022-03-28T16:00:49.874Z"
   },
   {
    "duration": 385,
    "start_time": "2022-03-28T16:00:49.883Z"
   },
   {
    "duration": 110,
    "start_time": "2022-03-28T16:00:50.270Z"
   },
   {
    "duration": 768,
    "start_time": "2022-03-28T16:00:50.382Z"
   },
   {
    "duration": 2609,
    "start_time": "2022-03-28T16:00:51.153Z"
   },
   {
    "duration": 121,
    "start_time": "2022-03-28T16:00:53.769Z"
   },
   {
    "duration": 738,
    "start_time": "2022-03-28T16:00:53.893Z"
   },
   {
    "duration": 602,
    "start_time": "2022-03-28T16:00:54.634Z"
   },
   {
    "duration": 399,
    "start_time": "2022-03-28T16:00:55.239Z"
   },
   {
    "duration": 68,
    "start_time": "2022-03-28T16:00:55.641Z"
   },
   {
    "duration": 101,
    "start_time": "2022-03-28T16:00:55.710Z"
   },
   {
    "duration": 19,
    "start_time": "2022-03-28T16:00:55.813Z"
   },
   {
    "duration": 35,
    "start_time": "2022-03-28T16:00:55.834Z"
   },
   {
    "duration": 0,
    "start_time": "2022-03-28T16:00:55.872Z"
   },
   {
    "duration": 0,
    "start_time": "2022-03-28T16:00:55.874Z"
   },
   {
    "duration": 0,
    "start_time": "2022-03-28T16:00:55.875Z"
   },
   {
    "duration": 0,
    "start_time": "2022-03-28T16:00:55.877Z"
   },
   {
    "duration": 0,
    "start_time": "2022-03-28T16:00:55.879Z"
   },
   {
    "duration": 0,
    "start_time": "2022-03-28T16:00:55.880Z"
   },
   {
    "duration": 0,
    "start_time": "2022-03-28T16:00:55.882Z"
   },
   {
    "duration": 0,
    "start_time": "2022-03-28T16:00:55.884Z"
   },
   {
    "duration": 0,
    "start_time": "2022-03-28T16:00:55.886Z"
   },
   {
    "duration": 0,
    "start_time": "2022-03-28T16:00:55.888Z"
   },
   {
    "duration": 0,
    "start_time": "2022-03-28T16:00:55.889Z"
   },
   {
    "duration": 0,
    "start_time": "2022-03-28T16:00:55.891Z"
   },
   {
    "duration": 0,
    "start_time": "2022-03-28T16:00:55.892Z"
   },
   {
    "duration": 0,
    "start_time": "2022-03-28T16:00:55.894Z"
   },
   {
    "duration": 0,
    "start_time": "2022-03-28T16:00:55.896Z"
   },
   {
    "duration": 0,
    "start_time": "2022-03-28T16:00:55.897Z"
   },
   {
    "duration": 0,
    "start_time": "2022-03-28T16:00:55.899Z"
   },
   {
    "duration": 0,
    "start_time": "2022-03-28T16:00:55.900Z"
   },
   {
    "duration": 0,
    "start_time": "2022-03-28T16:00:55.902Z"
   },
   {
    "duration": 0,
    "start_time": "2022-03-28T16:00:55.904Z"
   },
   {
    "duration": 0,
    "start_time": "2022-03-28T16:00:55.905Z"
   },
   {
    "duration": 0,
    "start_time": "2022-03-28T16:00:55.907Z"
   },
   {
    "duration": 50,
    "start_time": "2022-03-28T20:36:15.096Z"
   },
   {
    "duration": 11,
    "start_time": "2022-03-28T20:49:06.896Z"
   },
   {
    "duration": 1314,
    "start_time": "2022-03-28T20:49:38.583Z"
   },
   {
    "duration": 326,
    "start_time": "2022-03-28T20:49:39.899Z"
   },
   {
    "duration": 63,
    "start_time": "2022-03-28T20:49:40.226Z"
   },
   {
    "duration": 219,
    "start_time": "2022-03-28T20:49:40.291Z"
   },
   {
    "duration": 70,
    "start_time": "2022-03-28T20:49:40.511Z"
   },
   {
    "duration": 5,
    "start_time": "2022-03-28T20:49:40.583Z"
   },
   {
    "duration": 24,
    "start_time": "2022-03-28T20:49:40.590Z"
   },
   {
    "duration": 72,
    "start_time": "2022-03-28T20:49:40.616Z"
   },
   {
    "duration": 85,
    "start_time": "2022-03-28T20:49:40.708Z"
   },
   {
    "duration": 15,
    "start_time": "2022-03-28T20:49:40.795Z"
   },
   {
    "duration": 36,
    "start_time": "2022-03-28T20:49:40.812Z"
   },
   {
    "duration": 10,
    "start_time": "2022-03-28T20:49:40.850Z"
   },
   {
    "duration": 12,
    "start_time": "2022-03-28T20:49:40.862Z"
   },
   {
    "duration": 67,
    "start_time": "2022-03-28T20:49:40.876Z"
   },
   {
    "duration": 40,
    "start_time": "2022-03-28T20:49:40.945Z"
   },
   {
    "duration": 27,
    "start_time": "2022-03-28T20:49:40.987Z"
   },
   {
    "duration": 35,
    "start_time": "2022-03-28T20:49:41.015Z"
   },
   {
    "duration": 31,
    "start_time": "2022-03-28T20:49:41.051Z"
   },
   {
    "duration": 74,
    "start_time": "2022-03-28T20:49:41.083Z"
   },
   {
    "duration": 30,
    "start_time": "2022-03-28T20:49:41.159Z"
   },
   {
    "duration": 90,
    "start_time": "2022-03-28T20:49:41.191Z"
   },
   {
    "duration": 55,
    "start_time": "2022-03-28T20:49:41.283Z"
   },
   {
    "duration": 37,
    "start_time": "2022-03-28T20:49:41.339Z"
   },
   {
    "duration": 54,
    "start_time": "2022-03-28T20:49:41.377Z"
   },
   {
    "duration": 31,
    "start_time": "2022-03-28T20:49:41.432Z"
   },
   {
    "duration": 24,
    "start_time": "2022-03-28T20:49:41.464Z"
   },
   {
    "duration": 55,
    "start_time": "2022-03-28T20:49:41.490Z"
   },
   {
    "duration": 23,
    "start_time": "2022-03-28T20:49:41.549Z"
   },
   {
    "duration": 12,
    "start_time": "2022-03-28T20:49:41.574Z"
   },
   {
    "duration": 19,
    "start_time": "2022-03-28T20:49:41.610Z"
   },
   {
    "duration": 271,
    "start_time": "2022-03-28T20:49:41.631Z"
   },
   {
    "duration": 4,
    "start_time": "2022-03-28T20:49:41.908Z"
   },
   {
    "duration": 12,
    "start_time": "2022-03-28T20:49:41.914Z"
   },
   {
    "duration": 35,
    "start_time": "2022-03-28T20:49:41.928Z"
   },
   {
    "duration": 8,
    "start_time": "2022-03-28T20:49:41.965Z"
   },
   {
    "duration": 355,
    "start_time": "2022-03-28T20:49:41.975Z"
   },
   {
    "duration": 19,
    "start_time": "2022-03-28T20:49:42.332Z"
   },
   {
    "duration": 67,
    "start_time": "2022-03-28T20:49:42.353Z"
   },
   {
    "duration": 94,
    "start_time": "2022-03-28T20:49:42.422Z"
   },
   {
    "duration": 52,
    "start_time": "2022-03-28T20:49:42.518Z"
   },
   {
    "duration": 297,
    "start_time": "2022-03-28T20:49:42.572Z"
   },
   {
    "duration": 66,
    "start_time": "2022-03-28T20:49:42.871Z"
   },
   {
    "duration": 21,
    "start_time": "2022-03-28T20:49:42.939Z"
   },
   {
    "duration": 227,
    "start_time": "2022-03-28T20:49:42.961Z"
   },
   {
    "duration": 46,
    "start_time": "2022-03-28T20:49:43.189Z"
   },
   {
    "duration": 31,
    "start_time": "2022-03-28T20:49:43.236Z"
   },
   {
    "duration": 79,
    "start_time": "2022-03-28T20:49:43.269Z"
   },
   {
    "duration": 287,
    "start_time": "2022-03-28T20:49:43.350Z"
   },
   {
    "duration": 162,
    "start_time": "2022-03-28T20:49:43.638Z"
   },
   {
    "duration": 15,
    "start_time": "2022-03-28T20:49:43.801Z"
   },
   {
    "duration": 300,
    "start_time": "2022-03-28T20:49:43.818Z"
   },
   {
    "duration": 62,
    "start_time": "2022-03-28T20:49:44.120Z"
   },
   {
    "duration": 220,
    "start_time": "2022-03-28T20:49:44.183Z"
   },
   {
    "duration": 10,
    "start_time": "2022-03-28T20:49:44.408Z"
   },
   {
    "duration": 3,
    "start_time": "2022-03-28T20:49:44.420Z"
   },
   {
    "duration": 257,
    "start_time": "2022-03-28T20:49:44.424Z"
   },
   {
    "duration": 73,
    "start_time": "2022-03-28T20:49:44.682Z"
   },
   {
    "duration": 429,
    "start_time": "2022-03-28T20:49:44.757Z"
   },
   {
    "duration": 981,
    "start_time": "2022-03-28T20:49:45.187Z"
   },
   {
    "duration": 59,
    "start_time": "2022-03-28T20:49:46.170Z"
   },
   {
    "duration": 291,
    "start_time": "2022-03-28T20:49:46.231Z"
   },
   {
    "duration": 232,
    "start_time": "2022-03-28T20:49:46.524Z"
   },
   {
    "duration": 219,
    "start_time": "2022-03-28T20:49:46.758Z"
   },
   {
    "duration": 48,
    "start_time": "2022-03-28T20:49:46.979Z"
   },
   {
    "duration": 57,
    "start_time": "2022-03-28T20:49:47.028Z"
   },
   {
    "duration": 26,
    "start_time": "2022-03-28T20:49:47.087Z"
   },
   {
    "duration": 36,
    "start_time": "2022-03-28T20:49:47.115Z"
   },
   {
    "duration": 6,
    "start_time": "2022-03-28T20:52:27.225Z"
   },
   {
    "duration": 204,
    "start_time": "2022-03-28T20:52:53.457Z"
   },
   {
    "duration": 199,
    "start_time": "2022-03-28T21:34:21.734Z"
   },
   {
    "duration": 50,
    "start_time": "2022-03-28T21:36:58.609Z"
   },
   {
    "duration": 5,
    "start_time": "2022-03-28T21:39:14.498Z"
   },
   {
    "duration": 4,
    "start_time": "2022-03-28T21:42:04.982Z"
   },
   {
    "duration": 208,
    "start_time": "2022-03-28T21:43:20.612Z"
   },
   {
    "duration": 8,
    "start_time": "2022-03-28T21:53:23.736Z"
   },
   {
    "duration": 6,
    "start_time": "2022-03-28T21:54:04.094Z"
   },
   {
    "duration": 10,
    "start_time": "2022-03-28T21:54:29.999Z"
   },
   {
    "duration": 59,
    "start_time": "2022-03-28T21:54:47.179Z"
   },
   {
    "duration": 28,
    "start_time": "2022-03-28T21:55:50.098Z"
   },
   {
    "duration": 10,
    "start_time": "2022-03-28T21:56:07.153Z"
   },
   {
    "duration": 18,
    "start_time": "2022-03-28T21:57:31.328Z"
   },
   {
    "duration": 3,
    "start_time": "2022-03-28T21:57:44.195Z"
   },
   {
    "duration": 242,
    "start_time": "2022-03-28T21:57:44.199Z"
   },
   {
    "duration": 51,
    "start_time": "2022-03-28T21:57:44.443Z"
   },
   {
    "duration": 59,
    "start_time": "2022-03-28T21:57:44.495Z"
   },
   {
    "duration": 65,
    "start_time": "2022-03-28T21:57:44.556Z"
   },
   {
    "duration": 4,
    "start_time": "2022-03-28T21:57:44.623Z"
   },
   {
    "duration": 14,
    "start_time": "2022-03-28T21:57:44.628Z"
   },
   {
    "duration": 79,
    "start_time": "2022-03-28T21:57:44.643Z"
   },
   {
    "duration": 66,
    "start_time": "2022-03-28T21:57:44.724Z"
   },
   {
    "duration": 17,
    "start_time": "2022-03-28T21:57:44.792Z"
   },
   {
    "duration": 33,
    "start_time": "2022-03-28T21:57:44.812Z"
   },
   {
    "duration": 10,
    "start_time": "2022-03-28T21:57:44.846Z"
   },
   {
    "duration": 11,
    "start_time": "2022-03-28T21:57:44.857Z"
   },
   {
    "duration": 60,
    "start_time": "2022-03-28T21:57:44.870Z"
   },
   {
    "duration": 35,
    "start_time": "2022-03-28T21:57:44.931Z"
   },
   {
    "duration": 11,
    "start_time": "2022-03-28T21:57:44.967Z"
   },
   {
    "duration": 52,
    "start_time": "2022-03-28T21:57:44.980Z"
   },
   {
    "duration": 29,
    "start_time": "2022-03-28T21:57:45.034Z"
   },
   {
    "duration": 73,
    "start_time": "2022-03-28T21:57:45.065Z"
   },
   {
    "duration": 31,
    "start_time": "2022-03-28T21:57:45.140Z"
   },
   {
    "duration": 93,
    "start_time": "2022-03-28T21:57:45.173Z"
   },
   {
    "duration": 49,
    "start_time": "2022-03-28T21:57:45.268Z"
   },
   {
    "duration": 36,
    "start_time": "2022-03-28T21:57:45.319Z"
   },
   {
    "duration": 53,
    "start_time": "2022-03-28T21:57:45.356Z"
   },
   {
    "duration": 30,
    "start_time": "2022-03-28T21:57:45.411Z"
   },
   {
    "duration": 21,
    "start_time": "2022-03-28T21:57:45.443Z"
   },
   {
    "duration": 59,
    "start_time": "2022-03-28T21:57:45.466Z"
   },
   {
    "duration": 26,
    "start_time": "2022-03-28T21:57:45.526Z"
   },
   {
    "duration": 11,
    "start_time": "2022-03-28T21:57:45.556Z"
   },
   {
    "duration": 16,
    "start_time": "2022-03-28T21:57:45.568Z"
   },
   {
    "duration": 198,
    "start_time": "2022-03-28T21:57:45.585Z"
   },
   {
    "duration": 3,
    "start_time": "2022-03-28T21:57:45.785Z"
   },
   {
    "duration": 22,
    "start_time": "2022-03-28T21:57:45.789Z"
   },
   {
    "duration": 32,
    "start_time": "2022-03-28T21:57:45.813Z"
   },
   {
    "duration": 8,
    "start_time": "2022-03-28T21:57:45.847Z"
   },
   {
    "duration": 275,
    "start_time": "2022-03-28T21:57:45.857Z"
   },
   {
    "duration": 17,
    "start_time": "2022-03-28T21:57:46.134Z"
   },
   {
    "duration": 69,
    "start_time": "2022-03-28T21:57:46.153Z"
   },
   {
    "duration": 85,
    "start_time": "2022-03-28T21:57:46.223Z"
   },
   {
    "duration": 50,
    "start_time": "2022-03-28T21:57:46.310Z"
   },
   {
    "duration": 398,
    "start_time": "2022-03-28T21:57:46.362Z"
   },
   {
    "duration": 67,
    "start_time": "2022-03-28T21:57:46.761Z"
   },
   {
    "duration": 21,
    "start_time": "2022-03-28T21:57:46.829Z"
   },
   {
    "duration": 257,
    "start_time": "2022-03-28T21:57:46.852Z"
   },
   {
    "duration": 33,
    "start_time": "2022-03-28T21:57:47.110Z"
   },
   {
    "duration": 30,
    "start_time": "2022-03-28T21:57:47.145Z"
   },
   {
    "duration": 71,
    "start_time": "2022-03-28T21:57:47.177Z"
   },
   {
    "duration": 208,
    "start_time": "2022-03-28T21:57:47.250Z"
   },
   {
    "duration": 157,
    "start_time": "2022-03-28T21:57:47.459Z"
   },
   {
    "duration": 10,
    "start_time": "2022-03-28T21:57:47.618Z"
   },
   {
    "duration": 244,
    "start_time": "2022-03-28T21:57:47.629Z"
   },
   {
    "duration": 69,
    "start_time": "2022-03-28T21:57:47.874Z"
   },
   {
    "duration": 208,
    "start_time": "2022-03-28T21:57:47.944Z"
   },
   {
    "duration": 9,
    "start_time": "2022-03-28T21:57:48.153Z"
   },
   {
    "duration": 9,
    "start_time": "2022-03-28T21:57:48.164Z"
   },
   {
    "duration": 278,
    "start_time": "2022-03-28T21:57:48.174Z"
   },
   {
    "duration": 67,
    "start_time": "2022-03-28T21:57:48.453Z"
   },
   {
    "duration": 444,
    "start_time": "2022-03-28T21:57:48.522Z"
   },
   {
    "duration": 933,
    "start_time": "2022-03-28T21:57:48.967Z"
   },
   {
    "duration": 51,
    "start_time": "2022-03-28T21:57:49.902Z"
   },
   {
    "duration": 274,
    "start_time": "2022-03-28T21:57:49.954Z"
   },
   {
    "duration": 228,
    "start_time": "2022-03-28T21:57:50.229Z"
   },
   {
    "duration": 211,
    "start_time": "2022-03-28T21:57:50.458Z"
   },
   {
    "duration": 44,
    "start_time": "2022-03-28T21:57:50.670Z"
   },
   {
    "duration": 52,
    "start_time": "2022-03-28T21:57:50.716Z"
   },
   {
    "duration": 12,
    "start_time": "2022-03-28T21:57:50.770Z"
   },
   {
    "duration": 57,
    "start_time": "2022-03-28T21:57:50.783Z"
   },
   {
    "duration": 5,
    "start_time": "2022-03-28T21:57:50.841Z"
   },
   {
    "duration": 214,
    "start_time": "2022-03-28T21:57:50.847Z"
   },
   {
    "duration": 65,
    "start_time": "2022-03-28T21:57:51.063Z"
   },
   {
    "duration": 5,
    "start_time": "2022-03-28T21:57:51.129Z"
   },
   {
    "duration": 207,
    "start_time": "2022-03-28T21:57:51.136Z"
   },
   {
    "duration": 8,
    "start_time": "2022-03-28T21:57:51.345Z"
   },
   {
    "duration": 10,
    "start_time": "2022-03-28T21:57:51.355Z"
   },
   {
    "duration": 46,
    "start_time": "2022-03-28T21:57:51.367Z"
   },
   {
    "duration": 3,
    "start_time": "2022-03-28T21:58:22.030Z"
   },
   {
    "duration": 280,
    "start_time": "2022-03-28T21:58:22.036Z"
   },
   {
    "duration": 49,
    "start_time": "2022-03-28T21:58:22.317Z"
   },
   {
    "duration": 57,
    "start_time": "2022-03-28T21:58:22.368Z"
   },
   {
    "duration": 65,
    "start_time": "2022-03-28T21:58:22.427Z"
   },
   {
    "duration": 14,
    "start_time": "2022-03-28T21:58:22.494Z"
   },
   {
    "duration": 11,
    "start_time": "2022-03-28T21:58:22.510Z"
   },
   {
    "duration": 68,
    "start_time": "2022-03-28T21:58:22.522Z"
   },
   {
    "duration": 70,
    "start_time": "2022-03-28T21:58:22.609Z"
   },
   {
    "duration": 4,
    "start_time": "2022-03-28T21:58:22.681Z"
   },
   {
    "duration": 50,
    "start_time": "2022-03-28T21:58:22.688Z"
   },
   {
    "duration": 9,
    "start_time": "2022-03-28T21:58:22.739Z"
   },
   {
    "duration": 11,
    "start_time": "2022-03-28T21:58:22.749Z"
   },
   {
    "duration": 52,
    "start_time": "2022-03-28T21:58:22.762Z"
   },
   {
    "duration": 31,
    "start_time": "2022-03-28T21:58:22.816Z"
   },
   {
    "duration": 11,
    "start_time": "2022-03-28T21:58:22.849Z"
   },
   {
    "duration": 25,
    "start_time": "2022-03-28T21:58:22.861Z"
   },
   {
    "duration": 33,
    "start_time": "2022-03-28T21:58:22.908Z"
   },
   {
    "duration": 51,
    "start_time": "2022-03-28T21:58:22.943Z"
   },
   {
    "duration": 29,
    "start_time": "2022-03-28T21:58:23.009Z"
   },
   {
    "duration": 89,
    "start_time": "2022-03-28T21:58:23.040Z"
   },
   {
    "duration": 44,
    "start_time": "2022-03-28T21:58:23.130Z"
   },
   {
    "duration": 51,
    "start_time": "2022-03-28T21:58:23.176Z"
   },
   {
    "duration": 35,
    "start_time": "2022-03-28T21:58:23.229Z"
   },
   {
    "duration": 50,
    "start_time": "2022-03-28T21:58:23.265Z"
   },
   {
    "duration": 21,
    "start_time": "2022-03-28T21:58:23.316Z"
   },
   {
    "duration": 37,
    "start_time": "2022-03-28T21:58:23.338Z"
   },
   {
    "duration": 42,
    "start_time": "2022-03-28T21:58:23.376Z"
   },
   {
    "duration": 11,
    "start_time": "2022-03-28T21:58:23.422Z"
   },
   {
    "duration": 19,
    "start_time": "2022-03-28T21:58:23.434Z"
   },
   {
    "duration": 197,
    "start_time": "2022-03-28T21:58:23.454Z"
   },
   {
    "duration": 4,
    "start_time": "2022-03-28T21:58:23.652Z"
   },
   {
    "duration": 14,
    "start_time": "2022-03-28T21:58:23.657Z"
   },
   {
    "duration": 50,
    "start_time": "2022-03-28T21:58:23.672Z"
   },
   {
    "duration": 9,
    "start_time": "2022-03-28T21:58:23.724Z"
   },
   {
    "duration": 355,
    "start_time": "2022-03-28T21:58:23.734Z"
   },
   {
    "duration": 24,
    "start_time": "2022-03-28T21:58:24.091Z"
   },
   {
    "duration": 55,
    "start_time": "2022-03-28T21:58:24.116Z"
   },
   {
    "duration": 98,
    "start_time": "2022-03-28T21:58:24.173Z"
   },
   {
    "duration": 59,
    "start_time": "2022-03-28T21:58:24.272Z"
   },
   {
    "duration": 289,
    "start_time": "2022-03-28T21:58:24.332Z"
   },
   {
    "duration": 56,
    "start_time": "2022-03-28T21:58:24.622Z"
   },
   {
    "duration": 40,
    "start_time": "2022-03-28T21:58:24.680Z"
   },
   {
    "duration": 246,
    "start_time": "2022-03-28T21:58:24.722Z"
   },
   {
    "duration": 41,
    "start_time": "2022-03-28T21:58:24.970Z"
   },
   {
    "duration": 32,
    "start_time": "2022-03-28T21:58:25.012Z"
   },
   {
    "duration": 78,
    "start_time": "2022-03-28T21:58:25.046Z"
   },
   {
    "duration": 213,
    "start_time": "2022-03-28T21:58:25.126Z"
   },
   {
    "duration": 155,
    "start_time": "2022-03-28T21:58:25.340Z"
   },
   {
    "duration": 17,
    "start_time": "2022-03-28T21:58:25.497Z"
   },
   {
    "duration": 247,
    "start_time": "2022-03-28T21:58:25.515Z"
   },
   {
    "duration": 62,
    "start_time": "2022-03-28T21:58:25.764Z"
   },
   {
    "duration": 211,
    "start_time": "2022-03-28T21:58:25.828Z"
   },
   {
    "duration": 10,
    "start_time": "2022-03-28T21:58:26.041Z"
   },
   {
    "duration": 3,
    "start_time": "2022-03-28T21:58:26.052Z"
   },
   {
    "duration": 232,
    "start_time": "2022-03-28T21:58:26.057Z"
   },
   {
    "duration": 64,
    "start_time": "2022-03-28T21:58:26.291Z"
   },
   {
    "duration": 427,
    "start_time": "2022-03-28T21:58:26.357Z"
   },
   {
    "duration": 949,
    "start_time": "2022-03-28T21:58:26.786Z"
   },
   {
    "duration": 47,
    "start_time": "2022-03-28T21:58:27.736Z"
   },
   {
    "duration": 273,
    "start_time": "2022-03-28T21:58:27.784Z"
   },
   {
    "duration": 222,
    "start_time": "2022-03-28T21:58:28.059Z"
   },
   {
    "duration": 219,
    "start_time": "2022-03-28T21:58:28.282Z"
   },
   {
    "duration": 34,
    "start_time": "2022-03-28T21:58:28.503Z"
   },
   {
    "duration": 71,
    "start_time": "2022-03-28T21:58:28.538Z"
   },
   {
    "duration": 13,
    "start_time": "2022-03-28T21:58:28.610Z"
   },
   {
    "duration": 38,
    "start_time": "2022-03-28T21:58:28.624Z"
   },
   {
    "duration": 5,
    "start_time": "2022-03-28T21:58:28.663Z"
   },
   {
    "duration": 222,
    "start_time": "2022-03-28T21:58:28.670Z"
   },
   {
    "duration": 61,
    "start_time": "2022-03-28T21:58:28.894Z"
   },
   {
    "duration": 5,
    "start_time": "2022-03-28T21:58:28.957Z"
   },
   {
    "duration": 218,
    "start_time": "2022-03-28T21:58:28.963Z"
   },
   {
    "duration": 8,
    "start_time": "2022-03-28T21:58:29.183Z"
   },
   {
    "duration": 20,
    "start_time": "2022-03-28T21:58:29.192Z"
   },
   {
    "duration": 25,
    "start_time": "2022-03-28T21:58:29.213Z"
   },
   {
    "duration": 27,
    "start_time": "2022-03-28T21:59:11.369Z"
   },
   {
    "duration": 4,
    "start_time": "2022-03-28T21:59:37.823Z"
   },
   {
    "duration": 252,
    "start_time": "2022-03-28T21:59:37.829Z"
   },
   {
    "duration": 51,
    "start_time": "2022-03-28T21:59:38.083Z"
   },
   {
    "duration": 61,
    "start_time": "2022-03-28T21:59:38.135Z"
   },
   {
    "duration": 66,
    "start_time": "2022-03-28T21:59:38.198Z"
   },
   {
    "duration": 5,
    "start_time": "2022-03-28T21:59:38.265Z"
   },
   {
    "duration": 12,
    "start_time": "2022-03-28T21:59:38.271Z"
   },
   {
    "duration": 78,
    "start_time": "2022-03-28T21:59:38.284Z"
   },
   {
    "duration": 78,
    "start_time": "2022-03-28T21:59:38.364Z"
   },
   {
    "duration": 3,
    "start_time": "2022-03-28T21:59:38.444Z"
   },
   {
    "duration": 32,
    "start_time": "2022-03-28T21:59:38.553Z"
   },
   {
    "duration": 10,
    "start_time": "2022-03-28T21:59:38.586Z"
   },
   {
    "duration": 11,
    "start_time": "2022-03-28T21:59:38.609Z"
   },
   {
    "duration": 35,
    "start_time": "2022-03-28T21:59:38.621Z"
   },
   {
    "duration": 57,
    "start_time": "2022-03-28T21:59:38.658Z"
   },
   {
    "duration": 12,
    "start_time": "2022-03-28T21:59:38.716Z"
   },
   {
    "duration": 23,
    "start_time": "2022-03-28T21:59:38.729Z"
   },
   {
    "duration": 31,
    "start_time": "2022-03-28T21:59:38.754Z"
   },
   {
    "duration": 49,
    "start_time": "2022-03-28T21:59:38.808Z"
   },
   {
    "duration": 29,
    "start_time": "2022-03-28T21:59:38.859Z"
   },
   {
    "duration": 88,
    "start_time": "2022-03-28T21:59:38.890Z"
   },
   {
    "duration": 54,
    "start_time": "2022-03-28T21:59:38.980Z"
   },
   {
    "duration": 37,
    "start_time": "2022-03-28T21:59:39.036Z"
   },
   {
    "duration": 54,
    "start_time": "2022-03-28T21:59:39.074Z"
   },
   {
    "duration": 31,
    "start_time": "2022-03-28T21:59:39.130Z"
   },
   {
    "duration": 22,
    "start_time": "2022-03-28T21:59:39.163Z"
   },
   {
    "duration": 58,
    "start_time": "2022-03-28T21:59:39.186Z"
   },
   {
    "duration": 24,
    "start_time": "2022-03-28T21:59:39.245Z"
   },
   {
    "duration": 12,
    "start_time": "2022-03-28T21:59:39.273Z"
   },
   {
    "duration": 38,
    "start_time": "2022-03-28T21:59:39.287Z"
   },
   {
    "duration": 189,
    "start_time": "2022-03-28T21:59:39.327Z"
   },
   {
    "duration": 3,
    "start_time": "2022-03-28T21:59:39.518Z"
   },
   {
    "duration": 15,
    "start_time": "2022-03-28T21:59:39.522Z"
   },
   {
    "duration": 33,
    "start_time": "2022-03-28T21:59:39.539Z"
   },
   {
    "duration": 8,
    "start_time": "2022-03-28T21:59:39.574Z"
   },
   {
    "duration": 286,
    "start_time": "2022-03-28T21:59:39.608Z"
   },
   {
    "duration": 37,
    "start_time": "2022-03-28T21:59:39.896Z"
   },
   {
    "duration": 55,
    "start_time": "2022-03-28T21:59:39.935Z"
   },
   {
    "duration": 97,
    "start_time": "2022-03-28T21:59:39.992Z"
   },
   {
    "duration": 77,
    "start_time": "2022-03-28T21:59:40.092Z"
   },
   {
    "duration": 302,
    "start_time": "2022-03-28T21:59:40.170Z"
   },
   {
    "duration": 68,
    "start_time": "2022-03-28T21:59:40.473Z"
   },
   {
    "duration": 22,
    "start_time": "2022-03-28T21:59:40.543Z"
   },
   {
    "duration": 247,
    "start_time": "2022-03-28T21:59:40.566Z"
   },
   {
    "duration": 35,
    "start_time": "2022-03-28T21:59:40.814Z"
   },
   {
    "duration": 35,
    "start_time": "2022-03-28T21:59:40.850Z"
   },
   {
    "duration": 82,
    "start_time": "2022-03-28T21:59:40.886Z"
   },
   {
    "duration": 225,
    "start_time": "2022-03-28T21:59:40.970Z"
   },
   {
    "duration": 162,
    "start_time": "2022-03-28T21:59:41.196Z"
   },
   {
    "duration": 10,
    "start_time": "2022-03-28T21:59:41.360Z"
   },
   {
    "duration": 257,
    "start_time": "2022-03-28T21:59:41.371Z"
   },
   {
    "duration": 62,
    "start_time": "2022-03-28T21:59:41.630Z"
   },
   {
    "duration": 228,
    "start_time": "2022-03-28T21:59:41.693Z"
   },
   {
    "duration": 9,
    "start_time": "2022-03-28T21:59:41.923Z"
   },
   {
    "duration": 3,
    "start_time": "2022-03-28T21:59:41.934Z"
   },
   {
    "duration": 242,
    "start_time": "2022-03-28T21:59:41.939Z"
   },
   {
    "duration": 74,
    "start_time": "2022-03-28T21:59:42.183Z"
   },
   {
    "duration": 521,
    "start_time": "2022-03-28T21:59:42.259Z"
   },
   {
    "duration": 869,
    "start_time": "2022-03-28T21:59:42.782Z"
   },
   {
    "duration": 59,
    "start_time": "2022-03-28T21:59:43.652Z"
   },
   {
    "duration": 287,
    "start_time": "2022-03-28T21:59:43.712Z"
   },
   {
    "duration": 240,
    "start_time": "2022-03-28T21:59:44.001Z"
   },
   {
    "duration": 218,
    "start_time": "2022-03-28T21:59:44.242Z"
   },
   {
    "duration": 34,
    "start_time": "2022-03-28T21:59:44.462Z"
   },
   {
    "duration": 56,
    "start_time": "2022-03-28T21:59:44.509Z"
   },
   {
    "duration": 12,
    "start_time": "2022-03-28T21:59:44.567Z"
   },
   {
    "duration": 56,
    "start_time": "2022-03-28T21:59:44.581Z"
   },
   {
    "duration": 5,
    "start_time": "2022-03-28T21:59:44.639Z"
   },
   {
    "duration": 328,
    "start_time": "2022-03-28T21:59:44.645Z"
   },
   {
    "duration": 63,
    "start_time": "2022-03-28T21:59:44.975Z"
   },
   {
    "duration": 6,
    "start_time": "2022-03-28T21:59:45.040Z"
   },
   {
    "duration": 224,
    "start_time": "2022-03-28T21:59:45.048Z"
   },
   {
    "duration": 9,
    "start_time": "2022-03-28T21:59:45.274Z"
   },
   {
    "duration": 28,
    "start_time": "2022-03-28T21:59:45.284Z"
   },
   {
    "duration": 27,
    "start_time": "2022-03-28T21:59:45.314Z"
   },
   {
    "duration": 21,
    "start_time": "2022-03-28T21:59:48.090Z"
   },
   {
    "duration": 3,
    "start_time": "2022-03-28T22:05:06.858Z"
   },
   {
    "duration": 269,
    "start_time": "2022-03-28T22:05:06.865Z"
   },
   {
    "duration": 49,
    "start_time": "2022-03-28T22:05:07.136Z"
   },
   {
    "duration": 63,
    "start_time": "2022-03-28T22:05:07.187Z"
   },
   {
    "duration": 63,
    "start_time": "2022-03-28T22:05:07.252Z"
   },
   {
    "duration": 4,
    "start_time": "2022-03-28T22:05:07.317Z"
   },
   {
    "duration": 12,
    "start_time": "2022-03-28T22:05:07.322Z"
   },
   {
    "duration": 83,
    "start_time": "2022-03-28T22:05:07.336Z"
   },
   {
    "duration": 88,
    "start_time": "2022-03-28T22:05:07.421Z"
   },
   {
    "duration": 5,
    "start_time": "2022-03-28T22:05:07.511Z"
   },
   {
    "duration": 35,
    "start_time": "2022-03-28T22:05:07.519Z"
   },
   {
    "duration": 10,
    "start_time": "2022-03-28T22:05:07.556Z"
   },
   {
    "duration": 11,
    "start_time": "2022-03-28T22:05:07.568Z"
   },
   {
    "duration": 36,
    "start_time": "2022-03-28T22:05:07.609Z"
   },
   {
    "duration": 39,
    "start_time": "2022-03-28T22:05:07.647Z"
   },
   {
    "duration": 30,
    "start_time": "2022-03-28T22:05:07.688Z"
   },
   {
    "duration": 27,
    "start_time": "2022-03-28T22:05:07.720Z"
   },
   {
    "duration": 31,
    "start_time": "2022-03-28T22:05:07.749Z"
   },
   {
    "duration": 78,
    "start_time": "2022-03-28T22:05:07.782Z"
   },
   {
    "duration": 32,
    "start_time": "2022-03-28T22:05:07.861Z"
   },
   {
    "duration": 79,
    "start_time": "2022-03-28T22:05:07.909Z"
   },
   {
    "duration": 50,
    "start_time": "2022-03-28T22:05:07.991Z"
   },
   {
    "duration": 40,
    "start_time": "2022-03-28T22:05:08.043Z"
   },
   {
    "duration": 59,
    "start_time": "2022-03-28T22:05:08.085Z"
   },
   {
    "duration": 32,
    "start_time": "2022-03-28T22:05:08.146Z"
   },
   {
    "duration": 44,
    "start_time": "2022-03-28T22:05:08.179Z"
   },
   {
    "duration": 40,
    "start_time": "2022-03-28T22:05:08.224Z"
   },
   {
    "duration": 47,
    "start_time": "2022-03-28T22:05:08.266Z"
   },
   {
    "duration": 12,
    "start_time": "2022-03-28T22:05:08.317Z"
   },
   {
    "duration": 18,
    "start_time": "2022-03-28T22:05:08.331Z"
   },
   {
    "duration": 202,
    "start_time": "2022-03-28T22:05:08.351Z"
   },
   {
    "duration": 4,
    "start_time": "2022-03-28T22:05:08.555Z"
   },
   {
    "duration": 14,
    "start_time": "2022-03-28T22:05:08.560Z"
   },
   {
    "duration": 55,
    "start_time": "2022-03-28T22:05:08.576Z"
   },
   {
    "duration": 9,
    "start_time": "2022-03-28T22:05:08.633Z"
   },
   {
    "duration": 258,
    "start_time": "2022-03-28T22:05:08.643Z"
   },
   {
    "duration": 25,
    "start_time": "2022-03-28T22:05:08.903Z"
   },
   {
    "duration": 59,
    "start_time": "2022-03-28T22:05:08.930Z"
   },
   {
    "duration": 99,
    "start_time": "2022-03-28T22:05:08.991Z"
   },
   {
    "duration": 67,
    "start_time": "2022-03-28T22:05:09.091Z"
   },
   {
    "duration": 319,
    "start_time": "2022-03-28T22:05:09.160Z"
   },
   {
    "duration": 80,
    "start_time": "2022-03-28T22:05:09.481Z"
   },
   {
    "duration": 23,
    "start_time": "2022-03-28T22:05:09.563Z"
   },
   {
    "duration": 286,
    "start_time": "2022-03-28T22:05:09.587Z"
   },
   {
    "duration": 49,
    "start_time": "2022-03-28T22:05:09.874Z"
   },
   {
    "duration": 34,
    "start_time": "2022-03-28T22:05:09.925Z"
   },
   {
    "duration": 78,
    "start_time": "2022-03-28T22:05:09.961Z"
   },
   {
    "duration": 227,
    "start_time": "2022-03-28T22:05:10.041Z"
   },
   {
    "duration": 168,
    "start_time": "2022-03-28T22:05:10.269Z"
   },
   {
    "duration": 11,
    "start_time": "2022-03-28T22:05:10.438Z"
   },
   {
    "duration": 272,
    "start_time": "2022-03-28T22:05:10.451Z"
   },
   {
    "duration": 60,
    "start_time": "2022-03-28T22:05:10.724Z"
   },
   {
    "duration": 218,
    "start_time": "2022-03-28T22:05:10.786Z"
   },
   {
    "duration": 11,
    "start_time": "2022-03-28T22:05:11.008Z"
   },
   {
    "duration": 4,
    "start_time": "2022-03-28T22:05:11.020Z"
   },
   {
    "duration": 358,
    "start_time": "2022-03-28T22:05:11.026Z"
   },
   {
    "duration": 69,
    "start_time": "2022-03-28T22:05:11.386Z"
   },
   {
    "duration": 457,
    "start_time": "2022-03-28T22:05:11.456Z"
   },
   {
    "duration": 874,
    "start_time": "2022-03-28T22:05:11.914Z"
   },
   {
    "duration": 57,
    "start_time": "2022-03-28T22:05:12.789Z"
   },
   {
    "duration": 288,
    "start_time": "2022-03-28T22:05:12.848Z"
   },
   {
    "duration": 339,
    "start_time": "2022-03-28T22:05:13.137Z"
   },
   {
    "duration": 217,
    "start_time": "2022-03-28T22:05:13.478Z"
   },
   {
    "duration": 41,
    "start_time": "2022-03-28T22:05:13.697Z"
   },
   {
    "duration": 77,
    "start_time": "2022-03-28T22:05:13.739Z"
   },
   {
    "duration": 13,
    "start_time": "2022-03-28T22:05:13.817Z"
   },
   {
    "duration": 42,
    "start_time": "2022-03-28T22:05:13.831Z"
   },
   {
    "duration": 5,
    "start_time": "2022-03-28T22:05:13.875Z"
   },
   {
    "duration": 248,
    "start_time": "2022-03-28T22:05:13.882Z"
   },
   {
    "duration": 57,
    "start_time": "2022-03-28T22:05:14.132Z"
   },
   {
    "duration": 18,
    "start_time": "2022-03-28T22:05:14.191Z"
   },
   {
    "duration": 234,
    "start_time": "2022-03-28T22:05:14.210Z"
   },
   {
    "duration": 9,
    "start_time": "2022-03-28T22:05:14.446Z"
   },
   {
    "duration": 18,
    "start_time": "2022-03-28T22:05:14.457Z"
   },
   {
    "duration": 45,
    "start_time": "2022-03-28T22:05:14.477Z"
   },
   {
    "duration": 31,
    "start_time": "2022-03-28T22:05:14.523Z"
   },
   {
    "duration": 21,
    "start_time": "2022-03-28T22:05:34.683Z"
   },
   {
    "duration": 10,
    "start_time": "2022-03-28T22:09:37.915Z"
   },
   {
    "duration": 11,
    "start_time": "2022-03-28T22:09:44.363Z"
   },
   {
    "duration": 51,
    "start_time": "2022-03-28T22:11:00.307Z"
   },
   {
    "duration": 69,
    "start_time": "2022-03-28T22:11:29.805Z"
   },
   {
    "duration": 75,
    "start_time": "2022-03-28T22:11:47.291Z"
   },
   {
    "duration": 64,
    "start_time": "2022-03-28T22:12:00.194Z"
   },
   {
    "duration": 10,
    "start_time": "2022-03-28T22:15:47.759Z"
   },
   {
    "duration": 13,
    "start_time": "2022-03-28T22:16:13.364Z"
   },
   {
    "duration": 63,
    "start_time": "2022-03-28T22:17:45.206Z"
   },
   {
    "duration": 17,
    "start_time": "2022-03-28T22:17:52.604Z"
   },
   {
    "duration": 49,
    "start_time": "2022-03-28T22:20:40.221Z"
   },
   {
    "duration": 17,
    "start_time": "2022-03-28T22:20:41.097Z"
   },
   {
    "duration": 244,
    "start_time": "2022-03-28T22:22:04.376Z"
   },
   {
    "duration": 277,
    "start_time": "2022-03-28T22:22:08.726Z"
   },
   {
    "duration": 80,
    "start_time": "2022-03-29T13:19:57.571Z"
   },
   {
    "duration": 1348,
    "start_time": "2022-03-29T13:20:07.693Z"
   },
   {
    "duration": 1074,
    "start_time": "2022-03-29T13:20:09.043Z"
   },
   {
    "duration": 877,
    "start_time": "2022-03-29T13:20:10.119Z"
   },
   {
    "duration": 796,
    "start_time": "2022-03-29T13:20:11.000Z"
   },
   {
    "duration": 91,
    "start_time": "2022-03-29T13:20:11.798Z"
   },
   {
    "duration": 4,
    "start_time": "2022-03-29T13:20:11.891Z"
   },
   {
    "duration": 19,
    "start_time": "2022-03-29T13:20:11.897Z"
   },
   {
    "duration": 92,
    "start_time": "2022-03-29T13:20:11.918Z"
   },
   {
    "duration": 128,
    "start_time": "2022-03-29T13:20:12.012Z"
   },
   {
    "duration": 4,
    "start_time": "2022-03-29T13:20:12.143Z"
   },
   {
    "duration": 41,
    "start_time": "2022-03-29T13:20:12.149Z"
   },
   {
    "duration": 12,
    "start_time": "2022-03-29T13:20:12.192Z"
   },
   {
    "duration": 17,
    "start_time": "2022-03-29T13:20:12.231Z"
   },
   {
    "duration": 85,
    "start_time": "2022-03-29T13:20:12.251Z"
   },
   {
    "duration": 71,
    "start_time": "2022-03-29T13:20:12.338Z"
   },
   {
    "duration": 44,
    "start_time": "2022-03-29T13:20:12.411Z"
   },
   {
    "duration": 47,
    "start_time": "2022-03-29T13:20:12.458Z"
   },
   {
    "duration": 98,
    "start_time": "2022-03-29T13:20:12.507Z"
   },
   {
    "duration": 97,
    "start_time": "2022-03-29T13:20:12.607Z"
   },
   {
    "duration": 74,
    "start_time": "2022-03-29T13:20:12.706Z"
   },
   {
    "duration": 62,
    "start_time": "2022-03-29T13:20:12.782Z"
   },
   {
    "duration": 54,
    "start_time": "2022-03-29T13:20:12.845Z"
   },
   {
    "duration": 67,
    "start_time": "2022-03-29T13:20:12.901Z"
   },
   {
    "duration": 26,
    "start_time": "2022-03-29T13:20:12.969Z"
   },
   {
    "duration": 65,
    "start_time": "2022-03-29T13:20:12.997Z"
   },
   {
    "duration": 29,
    "start_time": "2022-03-29T13:20:13.064Z"
   },
   {
    "duration": 36,
    "start_time": "2022-03-29T13:20:13.095Z"
   },
   {
    "duration": 25,
    "start_time": "2022-03-29T13:20:13.138Z"
   },
   {
    "duration": 319,
    "start_time": "2022-03-29T13:20:13.165Z"
   },
   {
    "duration": 5,
    "start_time": "2022-03-29T13:20:13.486Z"
   },
   {
    "duration": 17,
    "start_time": "2022-03-29T13:20:13.492Z"
   },
   {
    "duration": 58,
    "start_time": "2022-03-29T13:20:13.511Z"
   },
   {
    "duration": 11,
    "start_time": "2022-03-29T13:20:13.571Z"
   },
   {
    "duration": 364,
    "start_time": "2022-03-29T13:20:13.584Z"
   },
   {
    "duration": 22,
    "start_time": "2022-03-29T13:20:13.951Z"
   },
   {
    "duration": 86,
    "start_time": "2022-03-29T13:20:13.975Z"
   },
   {
    "duration": 142,
    "start_time": "2022-03-29T13:20:14.063Z"
   },
   {
    "duration": 98,
    "start_time": "2022-03-29T13:20:14.207Z"
   },
   {
    "duration": 396,
    "start_time": "2022-03-29T13:20:14.307Z"
   },
   {
    "duration": 94,
    "start_time": "2022-03-29T13:20:14.706Z"
   },
   {
    "duration": 37,
    "start_time": "2022-03-29T13:20:14.802Z"
   },
   {
    "duration": 281,
    "start_time": "2022-03-29T13:20:14.841Z"
   },
   {
    "duration": 62,
    "start_time": "2022-03-29T13:20:15.123Z"
   },
   {
    "duration": 80,
    "start_time": "2022-03-29T13:20:15.187Z"
   },
   {
    "duration": 90,
    "start_time": "2022-03-29T13:20:15.269Z"
   },
   {
    "duration": 267,
    "start_time": "2022-03-29T13:20:15.361Z"
   },
   {
    "duration": 317,
    "start_time": "2022-03-29T13:20:15.631Z"
   },
   {
    "duration": 12,
    "start_time": "2022-03-29T13:20:15.950Z"
   },
   {
    "duration": 325,
    "start_time": "2022-03-29T13:20:15.964Z"
   },
   {
    "duration": 80,
    "start_time": "2022-03-29T13:20:16.291Z"
   },
   {
    "duration": 299,
    "start_time": "2022-03-29T13:20:16.373Z"
   },
   {
    "duration": 14,
    "start_time": "2022-03-29T13:20:16.675Z"
   },
   {
    "duration": 5,
    "start_time": "2022-03-29T13:20:16.692Z"
   },
   {
    "duration": 319,
    "start_time": "2022-03-29T13:20:16.699Z"
   },
   {
    "duration": 81,
    "start_time": "2022-03-29T13:20:17.020Z"
   },
   {
    "duration": 577,
    "start_time": "2022-03-29T13:20:17.103Z"
   },
   {
    "duration": 1154,
    "start_time": "2022-03-29T13:20:17.682Z"
   },
   {
    "duration": 110,
    "start_time": "2022-03-29T13:20:18.837Z"
   },
   {
    "duration": 429,
    "start_time": "2022-03-29T13:20:18.949Z"
   },
   {
    "duration": 322,
    "start_time": "2022-03-29T13:20:19.380Z"
   },
   {
    "duration": 254,
    "start_time": "2022-03-29T13:20:19.704Z"
   },
   {
    "duration": 41,
    "start_time": "2022-03-29T13:20:19.961Z"
   },
   {
    "duration": 76,
    "start_time": "2022-03-29T13:20:20.005Z"
   },
   {
    "duration": 14,
    "start_time": "2022-03-29T13:20:20.084Z"
   },
   {
    "duration": 87,
    "start_time": "2022-03-29T13:20:20.101Z"
   },
   {
    "duration": 7,
    "start_time": "2022-03-29T13:20:20.191Z"
   },
   {
    "duration": 295,
    "start_time": "2022-03-29T13:20:20.200Z"
   },
   {
    "duration": 75,
    "start_time": "2022-03-29T13:20:20.497Z"
   },
   {
    "duration": 6,
    "start_time": "2022-03-29T13:20:20.574Z"
   },
   {
    "duration": 263,
    "start_time": "2022-03-29T13:20:20.582Z"
   },
   {
    "duration": 14,
    "start_time": "2022-03-29T13:20:20.847Z"
   },
   {
    "duration": 15,
    "start_time": "2022-03-29T13:20:20.863Z"
   },
   {
    "duration": 52,
    "start_time": "2022-03-29T13:20:20.881Z"
   },
   {
    "duration": 77,
    "start_time": "2022-03-29T13:20:20.935Z"
   },
   {
    "duration": 29,
    "start_time": "2022-03-29T13:20:21.014Z"
   },
   {
    "duration": 16,
    "start_time": "2022-03-29T13:20:21.045Z"
   },
   {
    "duration": 79,
    "start_time": "2022-03-29T13:20:21.063Z"
   },
   {
    "duration": 19,
    "start_time": "2022-03-29T13:20:21.144Z"
   },
   {
    "duration": 277,
    "start_time": "2022-03-29T13:20:21.165Z"
   },
   {
    "duration": 301,
    "start_time": "2022-03-29T13:20:21.444Z"
   },
   {
    "duration": 4,
    "start_time": "2022-03-29T13:22:04.417Z"
   },
   {
    "duration": 8,
    "start_time": "2022-03-29T13:22:40.074Z"
   },
   {
    "duration": 6,
    "start_time": "2022-03-29T13:22:44.812Z"
   },
   {
    "duration": 8,
    "start_time": "2022-03-29T13:23:07.023Z"
   },
   {
    "duration": 6,
    "start_time": "2022-03-29T13:23:21.576Z"
   },
   {
    "duration": 6,
    "start_time": "2022-03-29T13:23:30.839Z"
   },
   {
    "duration": 6,
    "start_time": "2022-03-29T13:24:26.488Z"
   },
   {
    "duration": 4,
    "start_time": "2022-03-29T13:24:30.884Z"
   },
   {
    "duration": 6,
    "start_time": "2022-03-29T13:24:43.736Z"
   },
   {
    "duration": 4,
    "start_time": "2022-03-29T13:24:47.791Z"
   },
   {
    "duration": 5,
    "start_time": "2022-03-29T13:25:03.264Z"
   },
   {
    "duration": 4,
    "start_time": "2022-03-29T13:25:07.128Z"
   },
   {
    "duration": 4,
    "start_time": "2022-03-29T13:25:10.217Z"
   },
   {
    "duration": 6,
    "start_time": "2022-03-29T13:27:18.088Z"
   },
   {
    "duration": 5,
    "start_time": "2022-03-29T13:27:39.525Z"
   },
   {
    "duration": 5,
    "start_time": "2022-03-29T13:27:52.396Z"
   },
   {
    "duration": 7,
    "start_time": "2022-03-29T13:36:03.620Z"
   },
   {
    "duration": 5,
    "start_time": "2022-03-29T13:36:03.797Z"
   },
   {
    "duration": 248,
    "start_time": "2022-03-29T13:36:06.101Z"
   },
   {
    "duration": 60,
    "start_time": "2022-03-29T13:36:08.190Z"
   },
   {
    "duration": 6,
    "start_time": "2022-03-29T13:36:10.001Z"
   },
   {
    "duration": 4,
    "start_time": "2022-03-29T13:36:10.752Z"
   },
   {
    "duration": 249,
    "start_time": "2022-03-29T13:39:34.201Z"
   },
   {
    "duration": 1233,
    "start_time": "2022-03-29T20:16:30.938Z"
   },
   {
    "duration": 1183,
    "start_time": "2022-03-29T20:16:32.173Z"
   },
   {
    "duration": 149,
    "start_time": "2022-03-29T20:16:33.357Z"
   },
   {
    "duration": 282,
    "start_time": "2022-03-29T20:16:33.509Z"
   },
   {
    "duration": 70,
    "start_time": "2022-03-29T20:16:33.793Z"
   },
   {
    "duration": 5,
    "start_time": "2022-03-29T20:16:33.865Z"
   },
   {
    "duration": 11,
    "start_time": "2022-03-29T20:16:33.872Z"
   },
   {
    "duration": 83,
    "start_time": "2022-03-29T20:16:33.885Z"
   },
   {
    "duration": 93,
    "start_time": "2022-03-29T20:16:33.970Z"
   },
   {
    "duration": 5,
    "start_time": "2022-03-29T20:16:34.066Z"
   },
   {
    "duration": 45,
    "start_time": "2022-03-29T20:16:34.072Z"
   },
   {
    "duration": 9,
    "start_time": "2022-03-29T20:16:34.119Z"
   },
   {
    "duration": 11,
    "start_time": "2022-03-29T20:16:34.129Z"
   },
   {
    "duration": 37,
    "start_time": "2022-03-29T20:16:34.142Z"
   },
   {
    "duration": 56,
    "start_time": "2022-03-29T20:16:34.181Z"
   },
   {
    "duration": 24,
    "start_time": "2022-03-29T20:16:34.238Z"
   },
   {
    "duration": 51,
    "start_time": "2022-03-29T20:16:34.263Z"
   },
   {
    "duration": 51,
    "start_time": "2022-03-29T20:16:34.316Z"
   },
   {
    "duration": 92,
    "start_time": "2022-03-29T20:16:34.369Z"
   },
   {
    "duration": 54,
    "start_time": "2022-03-29T20:16:34.463Z"
   },
   {
    "duration": 37,
    "start_time": "2022-03-29T20:16:34.519Z"
   },
   {
    "duration": 52,
    "start_time": "2022-03-29T20:16:34.557Z"
   },
   {
    "duration": 30,
    "start_time": "2022-03-29T20:16:34.611Z"
   },
   {
    "duration": 22,
    "start_time": "2022-03-29T20:16:34.643Z"
   },
   {
    "duration": 61,
    "start_time": "2022-03-29T20:16:34.666Z"
   },
   {
    "duration": 24,
    "start_time": "2022-03-29T20:16:34.729Z"
   },
   {
    "duration": 12,
    "start_time": "2022-03-29T20:16:34.754Z"
   },
   {
    "duration": 32,
    "start_time": "2022-03-29T20:16:34.770Z"
   },
   {
    "duration": 241,
    "start_time": "2022-03-29T20:16:34.804Z"
   },
   {
    "duration": 4,
    "start_time": "2022-03-29T20:16:35.047Z"
   },
   {
    "duration": 30,
    "start_time": "2022-03-29T20:16:35.053Z"
   },
   {
    "duration": 57,
    "start_time": "2022-03-29T20:16:35.084Z"
   },
   {
    "duration": 8,
    "start_time": "2022-03-29T20:16:35.144Z"
   },
   {
    "duration": 356,
    "start_time": "2022-03-29T20:16:35.154Z"
   },
   {
    "duration": 20,
    "start_time": "2022-03-29T20:16:35.511Z"
   },
   {
    "duration": 70,
    "start_time": "2022-03-29T20:16:35.532Z"
   },
   {
    "duration": 104,
    "start_time": "2022-03-29T20:16:35.603Z"
   },
   {
    "duration": 3,
    "start_time": "2022-03-29T22:07:27.118Z"
   },
   {
    "duration": 308,
    "start_time": "2022-03-29T22:07:27.123Z"
   },
   {
    "duration": 133,
    "start_time": "2022-03-29T22:07:27.433Z"
   },
   {
    "duration": 127,
    "start_time": "2022-03-29T22:07:27.568Z"
   },
   {
    "duration": 64,
    "start_time": "2022-03-29T22:07:27.697Z"
   },
   {
    "duration": 4,
    "start_time": "2022-03-29T22:07:27.762Z"
   },
   {
    "duration": 12,
    "start_time": "2022-03-29T22:07:27.768Z"
   },
   {
    "duration": 80,
    "start_time": "2022-03-29T22:07:27.781Z"
   },
   {
    "duration": 76,
    "start_time": "2022-03-29T22:07:27.863Z"
   },
   {
    "duration": 5,
    "start_time": "2022-03-29T22:07:27.941Z"
   },
   {
    "duration": 32,
    "start_time": "2022-03-29T22:07:27.948Z"
   },
   {
    "duration": 24,
    "start_time": "2022-03-29T22:07:27.982Z"
   },
   {
    "duration": 14,
    "start_time": "2022-03-29T22:07:28.008Z"
   },
   {
    "duration": 41,
    "start_time": "2022-03-29T22:07:28.024Z"
   },
   {
    "duration": 56,
    "start_time": "2022-03-29T22:07:28.067Z"
   },
   {
    "duration": 22,
    "start_time": "2022-03-29T22:07:28.124Z"
   },
   {
    "duration": 27,
    "start_time": "2022-03-29T22:07:28.148Z"
   },
   {
    "duration": 69,
    "start_time": "2022-03-29T22:07:28.177Z"
   },
   {
    "duration": 81,
    "start_time": "2022-03-29T22:07:28.247Z"
   },
   {
    "duration": 39,
    "start_time": "2022-03-29T22:07:28.330Z"
   },
   {
    "duration": 56,
    "start_time": "2022-03-29T22:07:28.371Z"
   },
   {
    "duration": 44,
    "start_time": "2022-03-29T22:07:28.429Z"
   },
   {
    "duration": 53,
    "start_time": "2022-03-29T22:07:28.474Z"
   },
   {
    "duration": 27,
    "start_time": "2022-03-29T22:07:28.529Z"
   },
   {
    "duration": 57,
    "start_time": "2022-03-29T22:07:28.558Z"
   },
   {
    "duration": 29,
    "start_time": "2022-03-29T22:07:28.617Z"
   },
   {
    "duration": 12,
    "start_time": "2022-03-29T22:07:28.648Z"
   },
   {
    "duration": 42,
    "start_time": "2022-03-29T22:07:28.662Z"
   },
   {
    "duration": 195,
    "start_time": "2022-03-29T22:07:28.709Z"
   },
   {
    "duration": 5,
    "start_time": "2022-03-29T22:07:28.907Z"
   },
   {
    "duration": 16,
    "start_time": "2022-03-29T22:07:28.914Z"
   },
   {
    "duration": 49,
    "start_time": "2022-03-29T22:07:28.931Z"
   },
   {
    "duration": 11,
    "start_time": "2022-03-29T22:07:29.002Z"
   },
   {
    "duration": 276,
    "start_time": "2022-03-29T22:07:29.015Z"
   },
   {
    "duration": 19,
    "start_time": "2022-03-29T22:07:29.301Z"
   },
   {
    "duration": 58,
    "start_time": "2022-03-29T22:07:29.322Z"
   },
   {
    "duration": 90,
    "start_time": "2022-03-29T22:07:29.381Z"
   },
   {
    "duration": 67,
    "start_time": "2022-03-29T22:07:29.472Z"
   },
   {
    "duration": 337,
    "start_time": "2022-03-29T22:07:29.541Z"
   },
   {
    "duration": 68,
    "start_time": "2022-03-29T22:07:29.880Z"
   },
   {
    "duration": 21,
    "start_time": "2022-03-29T22:07:29.950Z"
   },
   {
    "duration": 284,
    "start_time": "2022-03-29T22:07:29.973Z"
   },
   {
    "duration": 51,
    "start_time": "2022-03-29T22:07:30.258Z"
   },
   {
    "duration": 35,
    "start_time": "2022-03-29T22:07:30.310Z"
   },
   {
    "duration": 83,
    "start_time": "2022-03-29T22:07:30.347Z"
   },
   {
    "duration": 219,
    "start_time": "2022-03-29T22:07:30.431Z"
   },
   {
    "duration": 167,
    "start_time": "2022-03-29T22:07:30.651Z"
   },
   {
    "duration": 12,
    "start_time": "2022-03-29T22:07:30.819Z"
   },
   {
    "duration": 309,
    "start_time": "2022-03-29T22:07:30.832Z"
   },
   {
    "duration": 69,
    "start_time": "2022-03-29T22:07:31.143Z"
   },
   {
    "duration": 219,
    "start_time": "2022-03-29T22:07:31.213Z"
   },
   {
    "duration": 11,
    "start_time": "2022-03-29T22:07:31.434Z"
   },
   {
    "duration": 4,
    "start_time": "2022-03-29T22:07:31.447Z"
   },
   {
    "duration": 218,
    "start_time": "2022-03-29T22:07:31.452Z"
   },
   {
    "duration": 87,
    "start_time": "2022-03-29T22:07:31.672Z"
   },
   {
    "duration": 510,
    "start_time": "2022-03-29T22:07:31.762Z"
   },
   {
    "duration": 854,
    "start_time": "2022-03-29T22:07:32.273Z"
   },
   {
    "duration": 47,
    "start_time": "2022-03-29T22:07:33.129Z"
   },
   {
    "duration": 271,
    "start_time": "2022-03-29T22:07:33.177Z"
   },
   {
    "duration": 209,
    "start_time": "2022-03-29T22:07:33.450Z"
   },
   {
    "duration": 209,
    "start_time": "2022-03-29T22:07:33.661Z"
   },
   {
    "duration": 42,
    "start_time": "2022-03-29T22:07:33.872Z"
   },
   {
    "duration": 56,
    "start_time": "2022-03-29T22:07:33.917Z"
   },
   {
    "duration": 12,
    "start_time": "2022-03-29T22:07:33.975Z"
   },
   {
    "duration": 40,
    "start_time": "2022-03-29T22:07:34.001Z"
   },
   {
    "duration": 5,
    "start_time": "2022-03-29T22:07:34.043Z"
   },
   {
    "duration": 215,
    "start_time": "2022-03-29T22:07:34.050Z"
   },
   {
    "duration": 54,
    "start_time": "2022-03-29T22:07:34.267Z"
   },
   {
    "duration": 6,
    "start_time": "2022-03-29T22:07:34.323Z"
   },
   {
    "duration": 8,
    "start_time": "2022-03-29T22:07:34.331Z"
   },
   {
    "duration": 19,
    "start_time": "2022-03-29T22:07:34.340Z"
   },
   {
    "duration": 0,
    "start_time": "2022-03-29T22:07:34.361Z"
   },
   {
    "duration": 0,
    "start_time": "2022-03-29T22:07:34.362Z"
   },
   {
    "duration": 0,
    "start_time": "2022-03-29T22:07:34.364Z"
   },
   {
    "duration": 0,
    "start_time": "2022-03-29T22:07:34.365Z"
   },
   {
    "duration": 0,
    "start_time": "2022-03-29T22:07:34.367Z"
   },
   {
    "duration": 0,
    "start_time": "2022-03-29T22:07:34.369Z"
   },
   {
    "duration": 0,
    "start_time": "2022-03-29T22:07:34.370Z"
   },
   {
    "duration": 0,
    "start_time": "2022-03-29T22:07:34.371Z"
   },
   {
    "duration": 0,
    "start_time": "2022-03-29T22:07:34.373Z"
   },
   {
    "duration": 0,
    "start_time": "2022-03-29T22:07:34.401Z"
   },
   {
    "duration": 40,
    "start_time": "2022-03-29T22:12:01.327Z"
   },
   {
    "duration": 5,
    "start_time": "2022-03-29T22:12:02.286Z"
   },
   {
    "duration": 208,
    "start_time": "2022-03-29T22:12:16.332Z"
   },
   {
    "duration": 17,
    "start_time": "2022-03-29T22:25:53.873Z"
   },
   {
    "duration": 41,
    "start_time": "2022-03-29T22:37:15.972Z"
   },
   {
    "duration": 5,
    "start_time": "2022-03-29T22:37:18.996Z"
   },
   {
    "duration": 179,
    "start_time": "2022-03-29T22:37:21.347Z"
   },
   {
    "duration": 20,
    "start_time": "2022-03-29T22:42:46.148Z"
   },
   {
    "duration": 24,
    "start_time": "2022-03-29T22:44:01.840Z"
   },
   {
    "duration": 23,
    "start_time": "2022-03-29T22:44:03.303Z"
   },
   {
    "duration": 51,
    "start_time": "2022-03-29T22:45:25.922Z"
   },
   {
    "duration": 16,
    "start_time": "2022-03-29T22:52:26.841Z"
   },
   {
    "duration": 39,
    "start_time": "2022-03-29T22:52:58.914Z"
   },
   {
    "duration": 40,
    "start_time": "2022-03-29T22:53:00.328Z"
   },
   {
    "duration": 6,
    "start_time": "2022-03-29T22:53:20.890Z"
   },
   {
    "duration": 353,
    "start_time": "2022-03-29T22:53:39.409Z"
   },
   {
    "duration": 10,
    "start_time": "2022-03-29T23:11:20.654Z"
   },
   {
    "duration": 18,
    "start_time": "2022-03-29T23:12:35.640Z"
   },
   {
    "duration": 8,
    "start_time": "2022-03-29T23:14:04.232Z"
   },
   {
    "duration": 35,
    "start_time": "2022-03-29T23:14:30.165Z"
   },
   {
    "duration": 20,
    "start_time": "2022-03-29T23:17:28.313Z"
   },
   {
    "duration": 21,
    "start_time": "2022-03-29T23:17:42.903Z"
   },
   {
    "duration": 21,
    "start_time": "2022-03-29T23:17:57.279Z"
   },
   {
    "duration": 452,
    "start_time": "2022-03-29T23:18:19.767Z"
   },
   {
    "duration": 5,
    "start_time": "2022-03-29T23:18:39.447Z"
   },
   {
    "duration": 193,
    "start_time": "2022-03-29T23:20:40.226Z"
   },
   {
    "duration": 186,
    "start_time": "2022-03-29T23:21:39.209Z"
   },
   {
    "duration": 237,
    "start_time": "2022-03-29T23:21:50.119Z"
   },
   {
    "duration": 5,
    "start_time": "2022-03-29T23:22:13.775Z"
   },
   {
    "duration": 200,
    "start_time": "2022-03-29T23:22:15.329Z"
   },
   {
    "duration": 188,
    "start_time": "2022-03-29T23:22:37.242Z"
   },
   {
    "duration": 192,
    "start_time": "2022-03-29T23:22:50.113Z"
   },
   {
    "duration": 53,
    "start_time": "2022-03-29T23:32:53.564Z"
   },
   {
    "duration": 6,
    "start_time": "2022-03-29T23:33:01.347Z"
   },
   {
    "duration": 207,
    "start_time": "2022-03-29T23:33:10.877Z"
   },
   {
    "duration": 11,
    "start_time": "2022-03-29T23:37:32.805Z"
   },
   {
    "duration": 11,
    "start_time": "2022-03-29T23:37:57.637Z"
   },
   {
    "duration": 21,
    "start_time": "2022-03-29T23:38:46.541Z"
   },
   {
    "duration": 430,
    "start_time": "2022-03-29T23:38:51.973Z"
   },
   {
    "duration": 190,
    "start_time": "2022-03-29T23:38:56.597Z"
   },
   {
    "duration": 13,
    "start_time": "2022-03-29T23:39:36.893Z"
   },
   {
    "duration": 21,
    "start_time": "2022-03-29T23:40:47.336Z"
   },
   {
    "duration": 55,
    "start_time": "2022-03-29T23:40:59.647Z"
   },
   {
    "duration": 6,
    "start_time": "2022-03-29T23:41:02.671Z"
   },
   {
    "duration": 194,
    "start_time": "2022-03-29T23:41:07.111Z"
   },
   {
    "duration": 210,
    "start_time": "2022-03-29T23:41:26.400Z"
   },
   {
    "duration": 199,
    "start_time": "2022-03-29T23:41:48.690Z"
   },
   {
    "duration": 237,
    "start_time": "2022-03-29T23:42:54.167Z"
   },
   {
    "duration": 434,
    "start_time": "2022-03-29T23:43:04.013Z"
   },
   {
    "duration": 263,
    "start_time": "2022-03-29T23:43:06.639Z"
   },
   {
    "duration": 192,
    "start_time": "2022-03-29T23:43:18.898Z"
   },
   {
    "duration": 185,
    "start_time": "2022-03-29T23:44:10.023Z"
   },
   {
    "duration": 5,
    "start_time": "2022-03-29T23:44:38.080Z"
   },
   {
    "duration": 3,
    "start_time": "2022-03-30T00:00:31.362Z"
   },
   {
    "duration": 300,
    "start_time": "2022-03-30T00:00:36.763Z"
   },
   {
    "duration": 126,
    "start_time": "2022-03-30T00:00:38.194Z"
   },
   {
    "duration": 126,
    "start_time": "2022-03-30T00:00:55.450Z"
   },
   {
    "duration": 70,
    "start_time": "2022-03-30T00:00:58.563Z"
   },
   {
    "duration": 5,
    "start_time": "2022-03-30T00:01:00.034Z"
   },
   {
    "duration": 10,
    "start_time": "2022-03-30T00:01:01.484Z"
   },
   {
    "duration": 76,
    "start_time": "2022-03-30T00:01:02.643Z"
   },
   {
    "duration": 75,
    "start_time": "2022-03-30T00:01:05.643Z"
   },
   {
    "duration": 4,
    "start_time": "2022-03-30T00:01:06.917Z"
   },
   {
    "duration": 33,
    "start_time": "2022-03-30T00:01:08.442Z"
   },
   {
    "duration": 9,
    "start_time": "2022-03-30T00:01:10.214Z"
   },
   {
    "duration": 11,
    "start_time": "2022-03-30T00:01:11.419Z"
   },
   {
    "duration": 33,
    "start_time": "2022-03-30T00:01:13.822Z"
   },
   {
    "duration": 29,
    "start_time": "2022-03-30T00:54:54.939Z"
   },
   {
    "duration": 31,
    "start_time": "2022-03-30T00:55:06.826Z"
   },
   {
    "duration": 3,
    "start_time": "2022-03-30T00:58:00.274Z"
   },
   {
    "duration": 322,
    "start_time": "2022-03-30T00:58:00.279Z"
   },
   {
    "duration": 112,
    "start_time": "2022-03-30T00:58:00.602Z"
   },
   {
    "duration": 126,
    "start_time": "2022-03-30T00:58:00.716Z"
   },
   {
    "duration": 67,
    "start_time": "2022-03-30T00:58:00.844Z"
   },
   {
    "duration": 4,
    "start_time": "2022-03-30T00:58:00.913Z"
   },
   {
    "duration": 20,
    "start_time": "2022-03-30T00:58:00.919Z"
   },
   {
    "duration": 80,
    "start_time": "2022-03-30T00:58:00.940Z"
   },
   {
    "duration": 84,
    "start_time": "2022-03-30T00:58:01.022Z"
   },
   {
    "duration": 4,
    "start_time": "2022-03-30T00:58:01.107Z"
   },
   {
    "duration": 58,
    "start_time": "2022-03-30T00:58:01.113Z"
   },
   {
    "duration": 10,
    "start_time": "2022-03-30T00:58:01.173Z"
   },
   {
    "duration": 10,
    "start_time": "2022-03-30T00:58:01.185Z"
   },
   {
    "duration": 42,
    "start_time": "2022-03-30T00:58:01.197Z"
   },
   {
    "duration": 38,
    "start_time": "2022-03-30T00:58:01.241Z"
   },
   {
    "duration": 22,
    "start_time": "2022-03-30T00:58:01.280Z"
   },
   {
    "duration": 29,
    "start_time": "2022-03-30T00:58:01.304Z"
   },
   {
    "duration": 31,
    "start_time": "2022-03-30T00:58:01.335Z"
   },
   {
    "duration": 88,
    "start_time": "2022-03-30T00:58:01.368Z"
   },
   {
    "duration": 1327,
    "start_time": "2022-04-02T02:01:09.275Z"
   },
   {
    "duration": 722,
    "start_time": "2022-04-02T02:01:10.605Z"
   },
   {
    "duration": 89,
    "start_time": "2022-04-02T02:01:11.328Z"
   },
   {
    "duration": 107,
    "start_time": "2022-04-02T02:01:11.419Z"
   },
   {
    "duration": 80,
    "start_time": "2022-04-02T02:01:11.528Z"
   },
   {
    "duration": 5,
    "start_time": "2022-04-02T02:01:11.609Z"
   },
   {
    "duration": 26,
    "start_time": "2022-04-02T02:01:11.615Z"
   },
   {
    "duration": 88,
    "start_time": "2022-04-02T02:01:11.643Z"
   },
   {
    "duration": 82,
    "start_time": "2022-04-02T02:01:11.733Z"
   },
   {
    "duration": 4,
    "start_time": "2022-04-02T02:01:11.817Z"
   },
   {
    "duration": 46,
    "start_time": "2022-04-02T02:01:11.822Z"
   },
   {
    "duration": 10,
    "start_time": "2022-04-02T02:01:11.870Z"
   },
   {
    "duration": 12,
    "start_time": "2022-04-02T02:01:11.881Z"
   },
   {
    "duration": 58,
    "start_time": "2022-04-02T02:01:11.895Z"
   },
   {
    "duration": 41,
    "start_time": "2022-04-02T02:01:11.955Z"
   },
   {
    "duration": 40,
    "start_time": "2022-04-02T02:01:11.998Z"
   },
   {
    "duration": 31,
    "start_time": "2022-04-02T02:01:12.040Z"
   },
   {
    "duration": 31,
    "start_time": "2022-04-02T02:01:12.072Z"
   },
   {
    "duration": 91,
    "start_time": "2022-04-02T02:01:12.104Z"
   },
   {
    "duration": 81,
    "start_time": "2022-04-02T02:01:12.197Z"
   },
   {
    "duration": 43,
    "start_time": "2022-04-02T02:01:12.279Z"
   },
   {
    "duration": 38,
    "start_time": "2022-04-02T02:01:12.338Z"
   },
   {
    "duration": 38,
    "start_time": "2022-04-02T02:01:12.377Z"
   },
   {
    "duration": 46,
    "start_time": "2022-04-02T02:01:12.417Z"
   },
   {
    "duration": 23,
    "start_time": "2022-04-02T02:01:12.465Z"
   },
   {
    "duration": 66,
    "start_time": "2022-04-02T02:01:12.490Z"
   },
   {
    "duration": 19,
    "start_time": "2022-04-02T02:01:12.557Z"
   },
   {
    "duration": 12,
    "start_time": "2022-04-02T02:01:12.580Z"
   },
   {
    "duration": 21,
    "start_time": "2022-04-02T02:01:12.594Z"
   },
   {
    "duration": 256,
    "start_time": "2022-04-02T02:01:12.637Z"
   },
   {
    "duration": 3,
    "start_time": "2022-04-02T02:01:12.895Z"
   },
   {
    "duration": 17,
    "start_time": "2022-04-02T02:01:12.900Z"
   },
   {
    "duration": 49,
    "start_time": "2022-04-02T02:01:12.919Z"
   },
   {
    "duration": 9,
    "start_time": "2022-04-02T02:01:12.970Z"
   },
   {
    "duration": 325,
    "start_time": "2022-04-02T02:01:12.981Z"
   },
   {
    "duration": 31,
    "start_time": "2022-04-02T02:01:13.307Z"
   },
   {
    "duration": 61,
    "start_time": "2022-04-02T02:01:13.340Z"
   },
   {
    "duration": 98,
    "start_time": "2022-04-02T02:01:13.402Z"
   },
   {
    "duration": 65,
    "start_time": "2022-04-02T02:01:13.502Z"
   },
   {
    "duration": 287,
    "start_time": "2022-04-02T02:01:13.569Z"
   },
   {
    "duration": 81,
    "start_time": "2022-04-02T02:01:13.857Z"
   },
   {
    "duration": 22,
    "start_time": "2022-04-02T02:01:13.940Z"
   },
   {
    "duration": 245,
    "start_time": "2022-04-02T02:01:13.963Z"
   },
   {
    "duration": 49,
    "start_time": "2022-04-02T02:01:14.210Z"
   },
   {
    "duration": 34,
    "start_time": "2022-04-02T02:01:14.261Z"
   },
   {
    "duration": 77,
    "start_time": "2022-04-02T02:01:14.296Z"
   },
   {
    "duration": 213,
    "start_time": "2022-04-02T02:01:14.375Z"
   },
   {
    "duration": 238,
    "start_time": "2022-04-02T02:01:14.590Z"
   },
   {
    "duration": 14,
    "start_time": "2022-04-02T02:01:14.830Z"
   },
   {
    "duration": 285,
    "start_time": "2022-04-02T02:01:14.845Z"
   },
   {
    "duration": 59,
    "start_time": "2022-04-02T02:01:15.132Z"
   },
   {
    "duration": 208,
    "start_time": "2022-04-02T02:01:15.192Z"
   },
   {
    "duration": 11,
    "start_time": "2022-04-02T02:01:15.402Z"
   },
   {
    "duration": 31,
    "start_time": "2022-04-02T02:01:15.415Z"
   },
   {
    "duration": 254,
    "start_time": "2022-04-02T02:01:15.447Z"
   },
   {
    "duration": 73,
    "start_time": "2022-04-02T02:01:15.703Z"
   },
   {
    "duration": 436,
    "start_time": "2022-04-02T02:01:15.778Z"
   },
   {
    "duration": 963,
    "start_time": "2022-04-02T02:01:16.216Z"
   },
   {
    "duration": 46,
    "start_time": "2022-04-02T02:01:17.181Z"
   },
   {
    "duration": 261,
    "start_time": "2022-04-02T02:01:17.238Z"
   },
   {
    "duration": 219,
    "start_time": "2022-04-02T02:01:17.501Z"
   },
   {
    "duration": 201,
    "start_time": "2022-04-02T02:01:17.721Z"
   },
   {
    "duration": 45,
    "start_time": "2022-04-02T02:01:17.923Z"
   },
   {
    "duration": 55,
    "start_time": "2022-04-02T02:01:17.970Z"
   },
   {
    "duration": 12,
    "start_time": "2022-04-02T02:01:18.037Z"
   },
   {
    "duration": 45,
    "start_time": "2022-04-02T02:01:18.051Z"
   },
   {
    "duration": 5,
    "start_time": "2022-04-02T02:01:18.098Z"
   },
   {
    "duration": 217,
    "start_time": "2022-04-02T02:01:18.104Z"
   },
   {
    "duration": 16,
    "start_time": "2022-04-02T02:01:18.323Z"
   },
   {
    "duration": 124,
    "start_time": "2022-04-02T02:02:33.498Z"
   },
   {
    "duration": 45,
    "start_time": "2022-04-02T02:02:42.149Z"
   },
   {
    "duration": 10,
    "start_time": "2022-04-02T02:02:47.199Z"
   },
   {
    "duration": 11,
    "start_time": "2022-04-02T02:03:00.647Z"
   },
   {
    "duration": 11,
    "start_time": "2022-04-02T02:08:32.558Z"
   },
   {
    "duration": 10,
    "start_time": "2022-04-02T02:09:00.746Z"
   },
   {
    "duration": 108,
    "start_time": "2022-04-02T02:11:01.807Z"
   },
   {
    "duration": 31,
    "start_time": "2022-04-02T02:11:24.462Z"
   },
   {
    "duration": 24,
    "start_time": "2022-04-02T02:11:42.746Z"
   },
   {
    "duration": 31,
    "start_time": "2022-04-02T02:12:09.206Z"
   },
   {
    "duration": 31,
    "start_time": "2022-04-02T02:12:57.170Z"
   },
   {
    "duration": 7,
    "start_time": "2022-04-02T02:13:27.208Z"
   },
   {
    "duration": 29,
    "start_time": "2022-04-02T02:13:44.065Z"
   },
   {
    "duration": 3,
    "start_time": "2022-04-02T02:25:59.281Z"
   },
   {
    "duration": 264,
    "start_time": "2022-04-02T02:25:59.288Z"
   },
   {
    "duration": 68,
    "start_time": "2022-04-02T02:25:59.554Z"
   },
   {
    "duration": 98,
    "start_time": "2022-04-02T02:25:59.623Z"
   },
   {
    "duration": 69,
    "start_time": "2022-04-02T02:25:59.723Z"
   },
   {
    "duration": 5,
    "start_time": "2022-04-02T02:25:59.794Z"
   },
   {
    "duration": 13,
    "start_time": "2022-04-02T02:25:59.800Z"
   },
   {
    "duration": 87,
    "start_time": "2022-04-02T02:25:59.814Z"
   },
   {
    "duration": 92,
    "start_time": "2022-04-02T02:25:59.903Z"
   },
   {
    "duration": 5,
    "start_time": "2022-04-02T02:25:59.996Z"
   },
   {
    "duration": 51,
    "start_time": "2022-04-02T02:26:00.004Z"
   },
   {
    "duration": 10,
    "start_time": "2022-04-02T02:26:00.057Z"
   },
   {
    "duration": 23,
    "start_time": "2022-04-02T02:26:00.069Z"
   },
   {
    "duration": 50,
    "start_time": "2022-04-02T02:26:00.094Z"
   },
   {
    "duration": 35,
    "start_time": "2022-04-02T02:26:00.146Z"
   },
   {
    "duration": 24,
    "start_time": "2022-04-02T02:26:00.183Z"
   },
   {
    "duration": 52,
    "start_time": "2022-04-02T02:26:00.209Z"
   },
   {
    "duration": 32,
    "start_time": "2022-04-02T02:26:00.263Z"
   },
   {
    "duration": 83,
    "start_time": "2022-04-02T02:26:00.297Z"
   },
   {
    "duration": 82,
    "start_time": "2022-04-02T02:26:00.382Z"
   },
   {
    "duration": 44,
    "start_time": "2022-04-02T02:26:00.466Z"
   },
   {
    "duration": 56,
    "start_time": "2022-04-02T02:26:00.511Z"
   },
   {
    "duration": 37,
    "start_time": "2022-04-02T02:26:00.569Z"
   },
   {
    "duration": 50,
    "start_time": "2022-04-02T02:26:00.607Z"
   },
   {
    "duration": 22,
    "start_time": "2022-04-02T02:26:00.658Z"
   },
   {
    "duration": 55,
    "start_time": "2022-04-02T02:26:00.682Z"
   },
   {
    "duration": 19,
    "start_time": "2022-04-02T02:26:00.739Z"
   },
   {
    "duration": 12,
    "start_time": "2022-04-02T02:26:00.760Z"
   },
   {
    "duration": 19,
    "start_time": "2022-04-02T02:26:00.776Z"
   },
   {
    "duration": 204,
    "start_time": "2022-04-02T02:26:00.796Z"
   },
   {
    "duration": 4,
    "start_time": "2022-04-02T02:26:01.002Z"
   },
   {
    "duration": 27,
    "start_time": "2022-04-02T02:26:01.007Z"
   },
   {
    "duration": 43,
    "start_time": "2022-04-02T02:26:01.038Z"
   },
   {
    "duration": 9,
    "start_time": "2022-04-02T02:26:01.083Z"
   },
   {
    "duration": 300,
    "start_time": "2022-04-02T02:26:01.094Z"
   },
   {
    "duration": 20,
    "start_time": "2022-04-02T02:26:01.396Z"
   },
   {
    "duration": 72,
    "start_time": "2022-04-02T02:26:01.417Z"
   },
   {
    "duration": 97,
    "start_time": "2022-04-02T02:26:01.491Z"
   },
   {
    "duration": 66,
    "start_time": "2022-04-02T02:26:01.590Z"
   },
   {
    "duration": 305,
    "start_time": "2022-04-02T02:26:01.657Z"
   },
   {
    "duration": 82,
    "start_time": "2022-04-02T02:26:01.964Z"
   },
   {
    "duration": 22,
    "start_time": "2022-04-02T02:26:02.048Z"
   },
   {
    "duration": 422,
    "start_time": "2022-04-02T02:26:02.072Z"
   },
   {
    "duration": 51,
    "start_time": "2022-04-02T02:26:02.496Z"
   },
   {
    "duration": 36,
    "start_time": "2022-04-02T02:26:02.549Z"
   },
   {
    "duration": 76,
    "start_time": "2022-04-02T02:26:02.587Z"
   },
   {
    "duration": 219,
    "start_time": "2022-04-02T02:26:02.665Z"
   },
   {
    "duration": 161,
    "start_time": "2022-04-02T02:26:02.885Z"
   },
   {
    "duration": 10,
    "start_time": "2022-04-02T02:26:03.048Z"
   },
   {
    "duration": 293,
    "start_time": "2022-04-02T02:26:03.059Z"
   },
   {
    "duration": 61,
    "start_time": "2022-04-02T02:26:03.354Z"
   },
   {
    "duration": 224,
    "start_time": "2022-04-02T02:26:03.416Z"
   },
   {
    "duration": 10,
    "start_time": "2022-04-02T02:26:03.642Z"
   },
   {
    "duration": 3,
    "start_time": "2022-04-02T02:26:03.654Z"
   },
   {
    "duration": 251,
    "start_time": "2022-04-02T02:26:03.659Z"
   },
   {
    "duration": 78,
    "start_time": "2022-04-02T02:26:03.911Z"
   },
   {
    "duration": 442,
    "start_time": "2022-04-02T02:26:03.990Z"
   },
   {
    "duration": 969,
    "start_time": "2022-04-02T02:26:04.434Z"
   },
   {
    "duration": 57,
    "start_time": "2022-04-02T02:26:05.404Z"
   },
   {
    "duration": 265,
    "start_time": "2022-04-02T02:26:05.462Z"
   },
   {
    "duration": 212,
    "start_time": "2022-04-02T02:26:05.729Z"
   },
   {
    "duration": 209,
    "start_time": "2022-04-02T02:26:05.943Z"
   },
   {
    "duration": 35,
    "start_time": "2022-04-02T02:26:06.153Z"
   },
   {
    "duration": 75,
    "start_time": "2022-04-02T02:26:06.190Z"
   },
   {
    "duration": 13,
    "start_time": "2022-04-02T02:26:06.267Z"
   },
   {
    "duration": 57,
    "start_time": "2022-04-02T02:26:06.281Z"
   },
   {
    "duration": 6,
    "start_time": "2022-04-02T02:26:06.340Z"
   },
   {
    "duration": 210,
    "start_time": "2022-04-02T02:26:06.347Z"
   },
   {
    "duration": 32,
    "start_time": "2022-04-02T02:26:06.558Z"
   },
   {
    "duration": 9,
    "start_time": "2022-04-02T02:26:06.592Z"
   },
   {
    "duration": 37,
    "start_time": "2022-04-02T02:26:06.602Z"
   },
   {
    "duration": 29,
    "start_time": "2022-04-02T02:26:06.644Z"
   },
   {
    "duration": 91,
    "start_time": "2022-04-02T02:26:06.675Z"
   },
   {
    "duration": 9,
    "start_time": "2022-04-02T02:26:06.768Z"
   },
   {
    "duration": 16,
    "start_time": "2022-04-02T02:26:06.779Z"
   },
   {
    "duration": 67,
    "start_time": "2022-04-02T02:26:06.797Z"
   },
   {
    "duration": 16,
    "start_time": "2022-04-02T02:26:06.866Z"
   },
   {
    "duration": 223,
    "start_time": "2022-04-02T02:26:06.884Z"
   },
   {
    "duration": 290,
    "start_time": "2022-04-02T02:26:07.109Z"
   },
   {
    "duration": 4,
    "start_time": "2022-04-02T02:48:17.526Z"
   },
   {
    "duration": 275,
    "start_time": "2022-04-02T02:48:17.532Z"
   },
   {
    "duration": 66,
    "start_time": "2022-04-02T02:48:17.809Z"
   },
   {
    "duration": 92,
    "start_time": "2022-04-02T02:48:17.877Z"
   },
   {
    "duration": 69,
    "start_time": "2022-04-02T02:48:17.971Z"
   },
   {
    "duration": 6,
    "start_time": "2022-04-02T02:48:18.042Z"
   },
   {
    "duration": 14,
    "start_time": "2022-04-02T02:48:18.049Z"
   },
   {
    "duration": 100,
    "start_time": "2022-04-02T02:48:18.065Z"
   },
   {
    "duration": 88,
    "start_time": "2022-04-02T02:48:18.167Z"
   },
   {
    "duration": 5,
    "start_time": "2022-04-02T02:48:18.258Z"
   },
   {
    "duration": 35,
    "start_time": "2022-04-02T02:48:18.264Z"
   },
   {
    "duration": 9,
    "start_time": "2022-04-02T02:48:18.301Z"
   },
   {
    "duration": 33,
    "start_time": "2022-04-02T02:48:18.311Z"
   },
   {
    "duration": 37,
    "start_time": "2022-04-02T02:48:18.346Z"
   },
   {
    "duration": 56,
    "start_time": "2022-04-02T02:48:18.385Z"
   },
   {
    "duration": 25,
    "start_time": "2022-04-02T02:48:18.443Z"
   },
   {
    "duration": 33,
    "start_time": "2022-04-02T02:48:18.470Z"
   },
   {
    "duration": 57,
    "start_time": "2022-04-02T02:48:18.505Z"
   },
   {
    "duration": 83,
    "start_time": "2022-04-02T02:48:18.564Z"
   },
   {
    "duration": 68,
    "start_time": "2022-04-02T02:48:18.648Z"
   },
   {
    "duration": 60,
    "start_time": "2022-04-02T02:48:18.718Z"
   },
   {
    "duration": 37,
    "start_time": "2022-04-02T02:48:18.779Z"
   },
   {
    "duration": 54,
    "start_time": "2022-04-02T02:48:18.817Z"
   },
   {
    "duration": 28,
    "start_time": "2022-04-02T02:48:18.872Z"
   },
   {
    "duration": 44,
    "start_time": "2022-04-02T02:48:18.902Z"
   },
   {
    "duration": 40,
    "start_time": "2022-04-02T02:48:18.947Z"
   },
   {
    "duration": 19,
    "start_time": "2022-04-02T02:48:18.989Z"
   },
   {
    "duration": 35,
    "start_time": "2022-04-02T02:48:19.013Z"
   },
   {
    "duration": 21,
    "start_time": "2022-04-02T02:48:19.049Z"
   },
   {
    "duration": 191,
    "start_time": "2022-04-02T02:48:19.071Z"
   },
   {
    "duration": 4,
    "start_time": "2022-04-02T02:48:19.264Z"
   },
   {
    "duration": 20,
    "start_time": "2022-04-02T02:48:19.269Z"
   },
   {
    "duration": 49,
    "start_time": "2022-04-02T02:48:19.290Z"
   },
   {
    "duration": 9,
    "start_time": "2022-04-02T02:48:19.341Z"
   },
   {
    "duration": 264,
    "start_time": "2022-04-02T02:48:19.352Z"
   },
   {
    "duration": 29,
    "start_time": "2022-04-02T02:48:19.618Z"
   },
   {
    "duration": 61,
    "start_time": "2022-04-02T02:48:19.648Z"
   },
   {
    "duration": 228,
    "start_time": "2022-04-02T02:48:19.710Z"
   },
   {
    "duration": 56,
    "start_time": "2022-04-02T02:48:19.939Z"
   },
   {
    "duration": 302,
    "start_time": "2022-04-02T02:48:19.996Z"
   },
   {
    "duration": 68,
    "start_time": "2022-04-02T02:48:20.300Z"
   },
   {
    "duration": 21,
    "start_time": "2022-04-02T02:48:20.370Z"
   },
   {
    "duration": 293,
    "start_time": "2022-04-02T02:48:20.393Z"
   },
   {
    "duration": 34,
    "start_time": "2022-04-02T02:48:20.687Z"
   },
   {
    "duration": 45,
    "start_time": "2022-04-02T02:48:20.723Z"
   },
   {
    "duration": 68,
    "start_time": "2022-04-02T02:48:20.770Z"
   },
   {
    "duration": 216,
    "start_time": "2022-04-02T02:48:20.840Z"
   },
   {
    "duration": 155,
    "start_time": "2022-04-02T02:48:21.058Z"
   },
   {
    "duration": 10,
    "start_time": "2022-04-02T02:48:21.215Z"
   },
   {
    "duration": 254,
    "start_time": "2022-04-02T02:48:21.237Z"
   },
   {
    "duration": 67,
    "start_time": "2022-04-02T02:48:21.493Z"
   },
   {
    "duration": 198,
    "start_time": "2022-04-02T02:48:21.561Z"
   },
   {
    "duration": 11,
    "start_time": "2022-04-02T02:48:21.760Z"
   },
   {
    "duration": 3,
    "start_time": "2022-04-02T02:48:21.773Z"
   },
   {
    "duration": 241,
    "start_time": "2022-04-02T02:48:21.777Z"
   },
   {
    "duration": 70,
    "start_time": "2022-04-02T02:48:22.020Z"
   },
   {
    "duration": 432,
    "start_time": "2022-04-02T02:48:22.093Z"
   },
   {
    "duration": 956,
    "start_time": "2022-04-02T02:48:22.527Z"
   },
   {
    "duration": 57,
    "start_time": "2022-04-02T02:48:23.485Z"
   },
   {
    "duration": 267,
    "start_time": "2022-04-02T02:48:23.544Z"
   },
   {
    "duration": 230,
    "start_time": "2022-04-02T02:48:23.814Z"
   },
   {
    "duration": 217,
    "start_time": "2022-04-02T02:48:24.046Z"
   },
   {
    "duration": 37,
    "start_time": "2022-04-02T02:48:24.265Z"
   },
   {
    "duration": 75,
    "start_time": "2022-04-02T02:48:24.304Z"
   },
   {
    "duration": 13,
    "start_time": "2022-04-02T02:48:24.381Z"
   },
   {
    "duration": 61,
    "start_time": "2022-04-02T02:48:24.396Z"
   },
   {
    "duration": 6,
    "start_time": "2022-04-02T02:48:24.459Z"
   },
   {
    "duration": 210,
    "start_time": "2022-04-02T02:48:24.467Z"
   },
   {
    "duration": 33,
    "start_time": "2022-04-02T02:48:24.679Z"
   },
   {
    "duration": 31,
    "start_time": "2022-04-02T02:48:24.714Z"
   },
   {
    "duration": 11,
    "start_time": "2022-04-02T02:48:24.747Z"
   },
   {
    "duration": 31,
    "start_time": "2022-04-02T02:48:24.760Z"
   },
   {
    "duration": 101,
    "start_time": "2022-04-02T02:48:24.793Z"
   },
   {
    "duration": 10,
    "start_time": "2022-04-02T02:48:24.896Z"
   },
   {
    "duration": 16,
    "start_time": "2022-04-02T02:48:24.908Z"
   },
   {
    "duration": 62,
    "start_time": "2022-04-02T02:48:24.926Z"
   },
   {
    "duration": 20,
    "start_time": "2022-04-02T02:48:24.990Z"
   },
   {
    "duration": 287,
    "start_time": "2022-04-02T02:48:25.012Z"
   },
   {
    "duration": 396,
    "start_time": "2022-04-02T02:48:25.301Z"
   }
  ],
  "kernelspec": {
   "display_name": "Python 3",
   "language": "python",
   "name": "python3"
  },
  "language_info": {
   "codemirror_mode": {
    "name": "ipython",
    "version": 3
   },
   "file_extension": ".py",
   "mimetype": "text/x-python",
   "name": "python",
   "nbconvert_exporter": "python",
   "pygments_lexer": "ipython3",
   "version": "3.8.8"
  },
  "toc": {
   "base_numbering": 1,
   "nav_menu": {},
   "number_sections": true,
   "sideBar": true,
   "skip_h1_title": true,
   "title_cell": "Table of Contents",
   "title_sidebar": "Contents",
   "toc_cell": false,
   "toc_position": {},
   "toc_section_display": true,
   "toc_window_display": true
  }
 },
 "nbformat": 4,
 "nbformat_minor": 2
}
